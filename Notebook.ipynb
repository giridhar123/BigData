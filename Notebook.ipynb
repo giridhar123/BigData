{
 "cells": [
  {
   "cell_type": "markdown",
   "metadata": {},
   "source": [
    "# Big Data Project\n",
    "<font size = 3>\n",
    "Il presente progetto è stato realizzato da Luigi Gatto, Davide Lavalle e Cedric Ferdico. \n",
    "Il progetto di esame (a.a. 2020-2021) è una competizione Kaggle: un data set di frodi su carte di credito in cui sono presenti solo 492 frodi su 284808 transazioni. I dati contengono i campi \"Time\", \"V1\" ... \"V28\", \"Amount\" e \"Class\" che descriveremo in seguito.\n",
    "\n",
    "È stato richiesto di effettuare tutti i passi di data cleaning/inputation e una analisi delle feature rilevanti ai fini della classificazione. \n",
    "La metrica richiesta è la Area Under the Precision-Recall Curve (AUPRC). Inoltre, è stata necessario trovare una modalità di visualizzazione dei dati classificati in 2D o 3D che consenta di mettere in relazione i punti appartenenti a ciascuna classe con le feature utilizzate per la classificazione ai fini di apprezzare l'effettiva separazione tra le classi.\n",
    "</font>\n",
    "\n",
    "## 0.Ecosistema\n",
    "Per la realizzazione del progetto, è stato deciso di utilizzare i seguenti strumenti:\n",
    "- HDFS: per lo storage del dataset (simulando un cluster unitario di datanode); \n",
    "- Spark: per il recupero (da HDFS) e l'elaborazione del dataset;\n",
    "- Pandas: per la manipolazione e l'analisi dei dati;\n",
    "- Scikitlearn: per l'apprendimento automatico e le metriche di valutazione dei modelli;\n",
    "- Imblearn: conferisce dei tool utili alla classificazione di classi sbilanciate (utilizzata per effettuare il sovracampionamento);\n",
    "- Numpy: per la gestione di matrici e array multidimensionali di grandi dimensioni e l'utilizzo di funzioni matematiche di alto livello per operare su queste strutture dati;\n",
    "- Matplotlib/Seaborn: per la visualizzazione dei dati."
   ]
  },
  {
   "cell_type": "markdown",
   "metadata": {},
   "source": [
    "# 1.Descrizione del dataset\n",
    "\n",
    "Il dataset analizzato nel progetto è un insieme di record di transazioni di carte di credito a cui è stato effettuato la PCA (per motivi di privacy). I dati sono raccolti in maniera continua: il tempo è segnato all'interno della colonna \"Time\" con un intero che indica l'ammontare di secondi passati tra la transazione i-esima e la prima (che, di conseguenza ha il valore di \"Time\" a 0). \n",
    "Il dataset analizzato presenta 284808 di record di transazioni al momento dell'analisi in questo progetto.\n",
    "\n",
    "Il dataset è fornito in formato .csv.\n",
    "\n",
    "\n",
    "## 1.1.DATASET\n",
    "In questa tabella andremo a riassumere il contenuto del dataset dal punto di vista delle features, descrivendone il tipo ed il contenuto.\n",
    "\n",
    "| **Feature** | **Tipo** | **Descrizione** |\n",
    "|------------ |------------ |------------ |\n",
    "| \"Time\" | _Int_ | Valore numerico che indica l'ammontare di secondi trascorsi tra la prima transazione e la i-esima, il valore per la prima transazione è 0. |\n",
    "| \"V1\"...\"V28\" | _Float_ | Feature di dettaglio della transazione convertite con la PCA per questioni di privacy. |\n",
    "| \"Amount\" | _Float_ | Valore numerico che indica l'ammontare della transazione. |\n",
    "| \"Class\" | _Boolean_ | Valore 0/1 che indica se la transazione in oggetto sia frode (1) o lecita (0). |"
   ]
  },
  {
   "cell_type": "markdown",
   "metadata": {},
   "source": [
    "# 2.Inizializzazione dell'ambiente\n",
    "Qui andremo a descrivere brevemente la fase di inizializzazione degli strumenti utilizzati per il progetto."
   ]
  },
  {
   "cell_type": "markdown",
   "metadata": {},
   "source": [
    "## 2.1.Importazione del dataset in HDFS\n",
    "\n",
    "Per prima, dopo aver effetuato l'installazione ed il setup di HDFS, è necessario avviare tutti i servizi Hadoop.\n",
    "Per farlo è sufficiente eseguire un comando da CLI: "
   ]
  },
  {
   "cell_type": "markdown",
   "metadata": {},
   "source": [
    "``` >> start-all ```"
   ]
  },
  {
   "cell_type": "markdown",
   "metadata": {},
   "source": [
    "A questo punto, una volta avviati tutti i servizi, sarà possibile caricare in HDFS il dataset.\n",
    "Per effettuare l'upload, sarà sufficiente eseguire un altro comando CLI:"
   ]
  },
  {
   "cell_type": "markdown",
   "metadata": {},
   "source": [
    "```>> hdfs fs -put \"local/path/to/file.csv\" \"remote/path/\" ```"
   ]
  },
  {
   "cell_type": "markdown",
   "metadata": {},
   "source": [
    "Dove il primo parametro sta ad indicare la directory locale in cui è conservato il file .csv mentre il secondo indicherà la directory del file system distribuito in cui il dataset sarà caricato."
   ]
  },
  {
   "cell_type": "markdown",
   "metadata": {},
   "source": [
    "## 2.2.Spark\n",
    "L'inizializzazione dell'ambiente Spark consiste nell'importazione dei relativi moduli e nell'inizializzazione di una nuova SparkSession.\n",
    "Il motivo per cui è stato preso in considerazione l'utilizzo di Apache Spark è stato il suo ottimo rendimento in ambiti applicativi come questo. Infatti, questo strumento, è caratterizzato da un'alta velocità di elaborazione e di analisi avanzata; inoltre, dispone di un supporto di integrazione multipla con le operazioni a basso costo di Hadoop per la gestione dell’hardware e l’immagazzinamento dei dati."
   ]
  },
  {
   "cell_type": "code",
   "execution_count": 1,
   "metadata": {},
   "outputs": [
    {
     "name": "stderr",
     "output_type": "stream",
     "text": [
      "WARNING: An illegal reflective access operation has occurred\n",
      "WARNING: Illegal reflective access by org.apache.spark.unsafe.Platform (file:/usr/local/Cellar/apache-spark/3.1.2/libexec/jars/spark-unsafe_2.12-3.1.2.jar) to constructor java.nio.DirectByteBuffer(long,int)\n",
      "WARNING: Please consider reporting this to the maintainers of org.apache.spark.unsafe.Platform\n",
      "WARNING: Use --illegal-access=warn to enable warnings of further illegal reflective access operations\n",
      "WARNING: All illegal access operations will be denied in a future release\n",
      "21/10/29 01:15:46 WARN NativeCodeLoader: Unable to load native-hadoop library for your platform... using builtin-java classes where applicable\n",
      "Using Spark's default log4j profile: org/apache/spark/log4j-defaults.properties\n",
      "Setting default log level to \"WARN\".\n",
      "To adjust logging level use sc.setLogLevel(newLevel). For SparkR, use setLogLevel(newLevel).\n"
     ]
    }
   ],
   "source": [
    "import findspark\n",
    "\n",
    "location = findspark.find()\n",
    "findspark.init(location)\n",
    "\n",
    "from pyspark.sql import SparkSession\n",
    "from pyspark.sql.functions import *\n",
    "\n",
    "spark = SparkSession.builder \\\n",
    "    .appName(\"Progetto BigData Gatto - Lavalle - Ferdico A.A. 2020/2021\") \\\n",
    "    .getOrCreate()\n"
   ]
  },
  {
   "cell_type": "markdown",
   "metadata": {},
   "source": [
    "# 3.Lettura del dataset da HDFS con Spark\n",
    "\n",
    "Il codice seguente permette la lettura del file da HDFS e quindi l'importazione del dataset in formato .csv all'interno del dataframe secondo lo schema appena creato.\n",
    "Il dataset è conservato in una simulazione di filesystem distribuito in locale. \n",
    "(Questa scelta è stata effettuata per permetterci di cimentarci nell'implementazione di un fs distribuito con lo strumento Hadoop)"
   ]
  },
  {
   "cell_type": "code",
   "execution_count": 2,
   "metadata": {},
   "outputs": [
    {
     "name": "stderr",
     "output_type": "stream",
     "text": []
    }
   ],
   "source": [
    "dataSet = spark.read \\\n",
    "    .csv('hdfs://localhost:9099/creditCardProject/creditcard.csv', header = 'True', inferSchema='True')"
   ]
  },
  {
   "cell_type": "markdown",
   "metadata": {},
   "source": [
    "# 4.Dataset preprocessing\n",
    "La fase di preprocessing è necessaria per preparare il dataset appena caricato prima dell'analisi vera e propria. I dati presenti possono infatti presentare errori, dati mancanti o valori non previsti. L'obiettivo del preprocessing è quindi quello di pulire tali informazioni rimuovendo o \"curando\" i dati che presentano rumore o qualsiasi altro tipo di inconsistenze."
   ]
  },
  {
   "cell_type": "markdown",
   "metadata": {},
   "source": [
    "## 4.1 Osservazione sul dataset\n"
   ]
  },
  {
   "cell_type": "markdown",
   "metadata": {},
   "source": [
    "Convertiamo il DataFrame Spark in un DataFrame Pandas che offre una libreria per facilitarne la gestione e l'elaborazione:"
   ]
  },
  {
   "cell_type": "code",
   "execution_count": 3,
   "metadata": {},
   "outputs": [
    {
     "name": "stderr",
     "output_type": "stream",
     "text": [
      "21/10/29 01:15:58 WARN package: Truncated the string representation of a plan since it was too large. This behavior can be adjusted by setting 'spark.sql.debug.maxToStringFields'.\n"
     ]
    }
   ],
   "source": [
    "import numpy as np\n",
    "import pandas as pd\n",
    "import matplotlib as mp\n",
    "import matplotlib.pyplot as plt\n",
    "\n",
    "df = dataSet.toPandas()"
   ]
  },
  {
   "cell_type": "markdown",
   "metadata": {},
   "source": [
    "Per prima cosa diamo uno sguardo a come le transazioni si evolvono nel tempo. <br>\n",
    "<br>\n",
    "Per farlo realizziamo un grafico che tenga conto dell'evoluzione del valore di \"Amount\" seguendo il trascorrere del tempo, marcando con il colore Rosso le frodi e con il colore Blu quelle lecite. <br>\n",
    "\n",
    "Grafico: X--> Time; Y--> Amount ----- [Rosso frode - Blu non frode]"
   ]
  },
  {
   "cell_type": "code",
   "execution_count": null,
   "metadata": {},
   "outputs": [],
   "source": [
    "#Grafico non frode\n",
    "xlim = df['Time'].max() * 1.2\n",
    "ylim = df['Amount'].max() * 1.2\n",
    "\n",
    "X = np.where(df['Class']==0, df['Time'], None)\n",
    "Y = np.where(df['Class']==0, df['Amount'], None)\n",
    "\n",
    "plt.style.use('seaborn-whitegrid')\n",
    "plt.xlabel(\"Time\")\n",
    "plt.ylabel(\"Amount\")\n",
    "plt.scatter(X, Y, marker = \".\", color = \"blue\")\n",
    "\n",
    "X = np.where(df['Class']==1, df['Time'], None)\n",
    "Y = np.where(df['Class']==1, df['Amount'], None)\n",
    "plt.scatter(X, Y, marker = \".\", color = \"red\")"
   ]
  },
  {
   "cell_type": "markdown",
   "metadata": {},
   "source": [
    "Da questo grafico è possibile notare come alle transazioni per cui il valore di \"Class\" è uguale ad 1 (le frodi) corrispondano valori di \"Amount\" relativamente bassi (<2500). <br>\n",
    "Inoltre è possibile percepire, anche se non del tutto chiaramente, il fatto che il dataset sia sbilanciato nei confronti delle transazioni lecite. "
   ]
  },
  {
   "cell_type": "markdown",
   "metadata": {},
   "source": [
    "Per verificare lo sbilanciamento del dataset abbiamo fatto stampare il numero delle transazioni lecite rispetto alle frodi:"
   ]
  },
  {
   "cell_type": "code",
   "execution_count": null,
   "metadata": {},
   "outputs": [],
   "source": [
    "classi = []\n",
    "classi.append(len(df.loc[df.Class == 0]))\n",
    "classi.append(len(df.loc[df.Class == 1]))\n",
    "\n",
    "plt.title(\"Class Balancing\")\n",
    "plt.xlabel(\"Class\")\n",
    "plt.ylabel(\"Count\")\n",
    "plt.bar([0, 1], classi)\n",
    "plt.show()\n",
    "print(\"Numero transazioni lecite: \" + str(classi[0]))\n",
    "print(\"Numero transazioni frodi: \" + str(classi[1]))"
   ]
  },
  {
   "cell_type": "markdown",
   "metadata": {},
   "source": [
    "Da questa esecuzione risulta lampante lo sbilanciamento del dataset, agiremo quindi di conseguenza negli step succesivi."
   ]
  },
  {
   "cell_type": "markdown",
   "metadata": {},
   "source": [
    "## 4.2 Data cleaning\n"
   ]
  },
  {
   "cell_type": "markdown",
   "metadata": {},
   "source": [
    "\n",
    "Banalmente, la prima operazione può essere quella di individuare le informazioni che presentano caratteristiche con valori mancanti. Il trattamento di valori mancanti può avvenire fondamentalmente in due modi: cancellazione o imputazione. La scelta corretta dipende dall'obiettivo dell'analisi e dalla possibile conoscenza a priori del problema, oltre ovviamente che dalle quantità di tali valori nulli."
   ]
  },
  {
   "cell_type": "code",
   "execution_count": null,
   "metadata": {},
   "outputs": [],
   "source": [
    "dataSet.select([count(when(col(c).isNull(), c)).alias(c) for c in dataSet.columns]).show()"
   ]
  },
  {
   "cell_type": "markdown",
   "metadata": {},
   "source": [
    "Dall'esecuzione precedente è possibile notare come tutte le features presenti nel dataset non presentino dati mancanti.\n",
    "Procediamo adesso con il controllo di campioni duplicati all'interno del dataset. Per farlo utilizziamo il metodo \"drop_duplicates\" di pandas."
   ]
  },
  {
   "cell_type": "code",
   "execution_count": null,
   "metadata": {},
   "outputs": [],
   "source": [
    "lunghezzaIniziale = len(df)\n",
    "df.drop_duplicates(subset=df.columns.values[:-1], keep='first',inplace=True)\n",
    "lunghezzaFinale = len(df)\n",
    "print(f\"Duplicati rimossi: {lunghezzaIniziale - lunghezzaFinale}\")"
   ]
  },
  {
   "cell_type": "markdown",
   "metadata": {},
   "source": [
    "Con l'esecuzione del codice precedente sono stati eliminati i dupliati.<br>\n",
    "Dato che i valori di 28 features sulle 31 totali sono il risultato di una Principal Component Analysis effettuata sul dataset originario, quindi, diventa difficile effettuare operazioni di imputazione e/o rilevamento di inconsistenze sui dati."
   ]
  },
  {
   "cell_type": "markdown",
   "metadata": {},
   "source": [
    "## 4.3 Eliminazione delle features meno rilevanti\n",
    "\n",
    "L'eliminazione delle feature meno rilevanti è necessaria per diversi motivi, tra i quali la riduzione di dimensionalità del problema (che alleggerirà il carico di lavoro successivo) e l'eliminazione di potenziali informazioni fuorvianti che sarebbero d'ostacolo all'addestramento del modello predittivo."
   ]
  },
  {
   "cell_type": "markdown",
   "metadata": {},
   "source": [
    "### 4.3.1 Matrice di correlazione\n",
    "Procediamo adesso con il calcolo e la visualizzazione della matrice di correlazione. Abbiamo deciso di eliminare le feature con un valore di correlazione minore a 0.05 rispetto alla feature \"Class\"."
   ]
  },
  {
   "cell_type": "code",
   "execution_count": null,
   "metadata": {},
   "outputs": [],
   "source": [
    "import seaborn as sns\n",
    "soglia = 0.05\n",
    "\n",
    "plt.figure(figsize=(12, 10))\n",
    "corr = df.corr()\n",
    "corr = pd.DataFrame.abs(corr)\n",
    "fig = sns.heatmap(corr, cmap='coolwarm_r', annot_kws={'size':20})\n",
    "fig.set_title('Correlation Matrix', fontsize=14)\n",
    "plt.show()\n",
    "\n",
    "count = 0\n",
    "print(\"Valori minori della soglia per le feature: \", end=\"\")\n",
    "for i in corr[\"Class\"]:\n",
    "    if i < soglia:\n",
    "        print(corr[\"Class\"].index[count], end=\" \")\n",
    "    count += 1"
   ]
  },
  {
   "cell_type": "markdown",
   "metadata": {},
   "source": [
    "Dalla matrice di correlazione appena calcolata, è possibile notare come le seguenti feature presentino una correlazione inferiore alla soglia nei confronti della feature \"Class\". <br>\n",
    "* Time\n",
    "* V6\n",
    "* V8\n",
    "* V13\n",
    "* V15\n",
    "* V19\n",
    "* V20\n",
    "* V21\n",
    "* V22\n",
    "* V23\n",
    "* V24\n",
    "* V25\n",
    "* V26\n",
    "* V27\n",
    "* V28\n",
    "* Amount\n",
    "<br> <br>\n",
    "Per questo motivo, alla prossima esecuzione, andremo ad eliminare proprio quelle features."
   ]
  },
  {
   "cell_type": "code",
   "execution_count": null,
   "metadata": {},
   "outputs": [],
   "source": [
    "dfFinal = df.drop([\"Time\", \"V6\", \"V8\", \"V13\", \"V15\", \"V19\", \"V20\", \"V21\", \"V22\", \"V23\", \"V24\", \"V25\", \"V26\", \"V27\", \"V28\", \"Amount\"], axis=1)"
   ]
  },
  {
   "cell_type": "markdown",
   "metadata": {},
   "source": [
    "Eliminate le feature indicate dalla matrice di correlazione, proseguiamo con il Fisher Score."
   ]
  },
  {
   "cell_type": "markdown",
   "metadata": {},
   "source": [
    "## Fisher Score"
   ]
  },
  {
   "cell_type": "markdown",
   "metadata": {},
   "source": [
    "@TODO: INSERIRE FORMULA FISHER SCORE"
   ]
  },
  {
   "cell_type": "code",
   "execution_count": null,
   "metadata": {},
   "outputs": [],
   "source": [
    "def fisher(m_1,s_1,p_1,m_2,s_2,p_2,m_3):\n",
    "  m_1 = float(m_1)\n",
    "  s_1 = float(s_1)\n",
    "  m_2 = float(m_2)\n",
    "  s_2 = float(s_2)\n",
    "  m_3 = float(m_3)\n",
    "\n",
    "  num = p_1*((m_1-m_3)**2)  + p_2*((m_2-m_3)**2)\n",
    "  den = p_1*(s_1**2)        + p_2*(s_2**2)\n",
    "\n",
    "  return (100 * num/den)\n",
    "\n",
    "frodi = dataSet.filter(dataSet.Class.contains(1))\n",
    "legittime = dataSet.filter(dataSet.Class.contains(0))\n",
    "\n",
    "# Describe Method Output:\n",
    "# 0: count\n",
    "# 1: mean\n",
    "# 2: stddev\n",
    "# 3: min\n",
    "# 4: max\n",
    "\n",
    "statFrodi       = frodi.describe().toPandas()\n",
    "statLegittime   = legittime.describe().toPandas()\n",
    "statGlobali     = dataSet.describe().toPandas()\n",
    "\n",
    "suppFrodi       = float(statFrodi.loc[0,\"Time\"]) / float(statGlobali.loc[0,\"Time\"])\n",
    "suppLegittime   = float(statLegittime.loc[0,\"Time\"]) / float(statGlobali.loc[0,\"Time\"])\n",
    "\n",
    "print(\"Feature con score minori della soglia: \", end=\"\")\n",
    "\n",
    "for col in dataSet.columns[0:-1]:\n",
    "    mediaFrodi      = float(statFrodi.loc[1,col])\n",
    "    dsFrodi         = float(statFrodi.loc[2,col])\n",
    "    mediaLegittime  = float(statLegittime.loc[1,col])\n",
    "    dsLegittime     = float(statLegittime.loc[2,col])\n",
    "    mediaGlobale    = float(statGlobali.loc[1,col])\n",
    "    fisherValue = fisher(mediaFrodi, \n",
    "                          dsFrodi, \n",
    "                          suppFrodi, \n",
    "                          mediaLegittime,\n",
    "                          dsLegittime,\n",
    "                          suppLegittime,\n",
    "                          mediaGlobale)\n",
    "    \n",
    "    if fisherValue < 0.5:                      \n",
    "      print(col + \" -\", end=\" \")"
   ]
  },
  {
   "cell_type": "markdown",
   "metadata": {},
   "source": [
    "Dal fisher vediamo che le cose appattano con la matrice di correlazione."
   ]
  },
  {
   "cell_type": "code",
   "execution_count": 4,
   "metadata": {},
   "outputs": [],
   "source": [
    "dfFinal = df.drop([\"Time\", \"V6\", \"V8\", \"V13\", \"V15\", \"V19\", \"V20\", \"V21\", \"V22\", \"V23\", \"V24\", \"V25\", \"V26\", \"V27\", \"V28\"], axis=1)\n",
    "\n",
    "from sklearn.preprocessing import StandardScaler\n",
    "\n",
    "scaler = StandardScaler()\n",
    "scaledAmount = scaler.fit_transform(np.array(df[\"Amount\"]).reshape(-1, 1))\n",
    "dfFinal[\"ScaledAmount\"] = scaledAmount\n",
    "dfFinal = dfFinal.drop([\"Amount\"], axis = 1)"
   ]
  },
  {
   "cell_type": "markdown",
   "metadata": {},
   "source": [
    "## X.X Suddiv"
   ]
  },
  {
   "cell_type": "code",
   "execution_count": null,
   "metadata": {},
   "outputs": [],
   "source": [
    "dfFinalClassFalse = dfFinal.loc[dfFinal.Class == 0]\n",
    "dfFinalClassFalse = dfFinalClassFalse.drop([\"Class\"], axis = 1)\n",
    "\n",
    "dfFinalClassTrue = dfFinal.loc[dfFinal.Class == 1]\n",
    "dfFinalClassTrue = dfFinalClassTrue.drop([\"Class\"], axis = 1)\n",
    "\n",
    "from sklearn.manifold import MDS\n",
    "from sklearn.metrics import pairwise_distances\n",
    "\n",
    "pwsClassTrue = pairwise_distances(X = dfFinalClassTrue, metric=\"manhattan\")\n",
    "pwsClassFalse = pairwise_distances(X = dfFinalClassFalse.head(1000), metric=\"manhattan\")\n",
    "\n",
    "#MDS a due componenti con distanza Manhattan\n",
    "embedding = MDS(n_components=2, dissimilarity=\"precomputed\", random_state = 104)\n",
    "xTrue_transformed = embedding.fit_transform(pwsClassTrue)\n",
    "xFalse_transformed = embedding.fit_transform(pwsClassFalse)\n",
    "\n",
    "plt.style.use('seaborn-whitegrid')\n",
    "plt.scatter(xTrue_transformed[:, 0], xTrue_transformed[:, 1], marker = \".\", color = 'green')\n",
    "plt.scatter(xFalse_transformed[:, 0], xFalse_transformed[:, 1], marker = \".\", color = 'red')\n",
    "plt.show()\n",
    "\n",
    "#MDS a due componenti con distanza Euclidea\n",
    "embedding = MDS(n_components=2, random_state = 104)\n",
    "xTrue_transformed = embedding.fit_transform(dfFinalClassTrue)\n",
    "xFalse_transformed = embedding.fit_transform(dfFinalClassFalse.head(1000))\n",
    "\n",
    "plt.style.use('seaborn-whitegrid')\n",
    "plt.scatter(xTrue_transformed[:, 0], xTrue_transformed[:, 1], marker = \".\", color = 'green')\n",
    "plt.scatter(xFalse_transformed[:, 0], xFalse_transformed[:, 1], marker = \".\", color = 'red')\n",
    "plt.show()"
   ]
  },
  {
   "cell_type": "markdown",
   "metadata": {},
   "source": [
    "## X.X Salvataggio del cleaned dataset.csv\n",
    "E' sicuramente conveniente salvare direttamente nel Drive personale il dataset così ottenuto per non ripetere i passaggi di data cleaning appena descritti ad ogni nuovo accesso a Colab. Per memorizzare il cleaned dataset, è possibile semplicemente utilizzare il metodo .write() fornito da Spark.\n",
    "@Todo Dobbiamo farlo?"
   ]
  },
  {
   "cell_type": "markdown",
   "metadata": {},
   "source": [
    "## X.X Importazione del cleaned dataset\n",
    "cleaned_accidents_dataset.csv\n",
    "Andiamo quindi ad importare il nuovo dataset cleaned_accidents_dataset.csv . Per farlo è necessario costruire nuovamente lo schema del dataframe che ospiterà il dataset e infine utilizzare il metodo read di Spark."
   ]
  },
  {
   "cell_type": "markdown",
   "metadata": {},
   "source": [
    "### 6.4 Scelta delle features @ToDo noi non possiamo farla, che ci mettiamo?\n",
    "\n",
    "Più paragrafi sono stati dedicati alla pulizia del dataset, alla scelta delle features e quindi alla rimozione delle caratteristiche con dati mancanti o palesemente non necessari all'analisi. Per l'analisi predittiva ciò non basta,infatti alcune delle features possono essere in qualche modo implicitamente correlate al campo Severity , e per tale motivo utili alla sua predizione. Un possibile modo per individuare le features correlate è quello di utilizzare l'approccio statistico.\n",
    "Calcolare le correlazioni tra la caratteristica Severity ed il resto è possibile calcolando la relativa matrice di correlazione. E' chiaro quindi che vanno escluse tutte le caratteristiche aventi una correlazione col campo preso in esame al di sotto di una certa soglia.\n",
    "Per poter carcolare la matrice di correlazione, è possibile utilizzare un metodo fornito da Pandas. E' quindi necessario importare il dataset indicizzato all'interno di un suo dataframe:\n",
    "\n",
    "Dalla matrice di correlazione appena ottenuta, va presa in considerazione soltanto la prima colonna ovvero quella relativa alle correlazioni tra la caratteristica Severity e ognuna delle altre caratteristiche.\n",
    "Tanto è maggiore in valore assoluto la correlazione tra due variabili aleatorie, tanto più la conoscenza del valore di una è utile a prevedere il valore dell'altra. Per tale motivo è necessario calcolare i valori assoluti delle correlazioni tra\n",
    "Severity e le altre caratteristiche, ed infine ordinarli in ordine decrescente:"
   ]
  },
  {
   "cell_type": "markdown",
   "metadata": {},
   "source": [
    "Valutazione dell'errore del modello ottenuto al passo precedente"
   ]
  },
  {
   "cell_type": "markdown",
   "metadata": {},
   "source": [
    "# ADDESTRAMENTO"
   ]
  },
  {
   "cell_type": "markdown",
   "metadata": {},
   "source": [
    "6.9 Training\n",
    "Per l'addestramento è necessario importare i modelli da addestrare dalle librerie di Spark per la classificazione. Come modelli verranno utilizzati Decision Tree ed il classificatore di tipo probabilistico Naive Bayes per poter confrontare infine i risultati ottenuti.\n",
    "Per poter inizializzare i modelli è necessario prima inserire come parametri la caratteristica che il modello deve predire Severity , e la colonna delle features .\n"
   ]
  },
  {
   "cell_type": "markdown",
   "metadata": {},
   "source": [
    "Creiamo test set e train set dal dataset e visualizziamo le loro dimensioni"
   ]
  },
  {
   "cell_type": "markdown",
   "metadata": {},
   "source": [
    "Divisione del dataset in training set e validation set"
   ]
  },
  {
   "cell_type": "code",
   "execution_count": 5,
   "metadata": {},
   "outputs": [
    {
     "name": "stdout",
     "output_type": "stream",
     "text": [
      "Train Feature size :  170884\n",
      "Train Label size   : 170884\n",
      "Test Feature size  : 113923\n",
      "Test Label size    : 113923\n"
     ]
    }
   ],
   "source": [
    "from sklearn.model_selection import train_test_split\n",
    "\n",
    "features = dfFinal[dfFinal.columns[:len(dfFinal.columns)-1]].to_numpy()\n",
    "targets = dfFinal.Class.to_numpy()\n",
    "\n",
    "X_train,X_test,Y_train,Y_test = train_test_split(features, targets, test_size=0.4, shuffle=True)\n",
    "#X ingressi\n",
    "print(\"Train Feature size : \", len(X_train))\n",
    "print(\"Train Label size   :\", len(Y_train))\n",
    "print(\"Test Feature size  :\", len(X_test))\n",
    "print(\"Test Label size    :\", len(Y_test))"
   ]
  },
  {
   "cell_type": "code",
   "execution_count": null,
   "metadata": {},
   "outputs": [],
   "source": [
    "target_un,count = np.unique(targets,return_counts=True)\n",
    "plt.title(\"Class Balancing\")\n",
    "plt.xlabel(\"Class\")\n",
    "plt.ylabel(\"Count\")\n",
    "plt.bar([str(i) for i in target_un],count)\n",
    "plt.show()"
   ]
  },
  {
   "cell_type": "markdown",
   "metadata": {},
   "source": [
    "6.8 Bilanciamento del dataset\n",
    "Prima di continuare è necessario anche analizzare il bilanciamento delle classi appartenenti alla caratteristica Severity :\n",
    "\n",
    "Il risulta mostra un bilanciamento non proprio uniforme. In particolare è possibile notare come la classe 1 e 4 sono quelle meno frequenti rispetto alle altre presenti. E' possibile bilanciare la distribuzione di tali classi attraverso l'oversampling. L'oversampling consiste nella duplicazione dei record delle le classi meno frequenti. Di conseguenza, va utilizzato il metodo .sample fornito sempre da Spark. Il metodo appena citato permette di specificare una frazione di record da estrarre dal dataframe da cui estrarre i campioni, con o senza sostituzione. L'oversampling sarà effettuato esclusivamente del training set per non influenzare i risultati della predizione da parte del modello.\n",
    "Visuliazziamo la distribuzione delle classi per la stessa caratteristica ma soltanto per il Training Set:\n",
    "\n",
    "Proviamo quindi a distribuire in maniera più uniforme tali classi tramite oversampling. E' evidente che l'oversampling debba essere seguito sui record aventi classi 1 , 3 e 4 di Severity .\n",
    "Bisogna innanzitutto separare i record appartenenti alle stesse classe di Severity:\n",
    "\n",
    "Come descritto prima, è necessario l'oversampling sui record appartenenti alle classi 1 , 3 e 4 . Il fattore di oversampling è gestibile tramite il parametro fraction di sample .\n",
    "\n",
    "Controlliamo quindi se la distribuzione delle classi all'interno del dataset si è uniformata:"
   ]
  },
  {
   "cell_type": "code",
   "execution_count": 6,
   "metadata": {},
   "outputs": [],
   "source": [
    "from imblearn.over_sampling import SMOTE\n",
    "\n",
    "#SOVRACAMPIONAMENTO SOLO DEL TRAINING SET IN MODO DA SBAGLIARE SOLO 1 VOLTA E NON N VOLTE NEL TEST SET\n",
    "X_train, Y_train = SMOTE().fit_resample(X_train,Y_train)\n",
    "Y_train = Y_train.reshape(-1,1)\n",
    "\n",
    "#target_balanced,count = np.unique(Y_train,return_counts=True)\n",
    "#plt.title(\"Class Balancing\")\n",
    "#plt.xlabel(\"Class\")\n",
    "#plt.ylabel(\"Count\")\n",
    "#plt.bar([str(i) for i in target_balanced],count)\n",
    "#plt.show()"
   ]
  },
  {
   "cell_type": "code",
   "execution_count": 7,
   "metadata": {},
   "outputs": [
    {
     "name": "stderr",
     "output_type": "stream",
     "text": [
      "/var/folders/9j/nybdj3kn5lnc_91_n44zs8240000gn/T/ipykernel_7765/2597217510.py:4: DataConversionWarning: A column-vector y was passed when a 1d array was expected. Please change the shape of y to (n_samples,), for example using ravel().\n",
      "  model.fit(X_train, Y_train)\n"
     ]
    },
    {
     "data": {
      "text/plain": [
       "RandomForestClassifier(max_features='sqrt', n_estimators=108)"
      ]
     },
     "execution_count": 7,
     "metadata": {},
     "output_type": "execute_result"
    }
   ],
   "source": [
    "from sklearn.ensemble import RandomForestClassifier\n",
    "\n",
    "model = RandomForestClassifier(n_estimators=108, max_features=\"sqrt\", criterion=\"gini\")\n",
    "model.fit(X_train, Y_train)"
   ]
  },
  {
   "cell_type": "markdown",
   "metadata": {},
   "source": [
    "# 6 Prediction e valutazione dei modelli\n",
    "Ora che i modelli sono stati addestrati, è finalmente possibile iniziare la predizione di Severity utilizzando il test set. Di conseguenza, viene utilizzato il metodo .transform() che restituisce direttamente il dataframe contenente la predizione dei modelli utilizzati e la relativa label corretta.\n",
    "Per la valutazione dei modelli appena addestrati, vengono utilizzate le metriche fornite dalle librerie Scikit-learn , ovvero librerie di machine learning open-source scritte in Python.\n",
    "Tutte le metriche fornite dalle librerie da Scikit-learn utilizzano come parametri di input y_true e y_pred . Queste rappresentano rispettivamente le label verità e le label predette dal classificatore. Tali parametri possono essere prelevati direttamente dai dataframe ottenuti nel passaggio precedente:"
   ]
  },
  {
   "cell_type": "markdown",
   "metadata": {},
   "source": [
    "## 6.1 Matrice di confusione\n",
    "L'accuratezza è semplicemente la percentuale delle istanze classificate correttamente. Calcoliamo quindi l'accuracy dei modelli addestrati:"
   ]
  },
  {
   "cell_type": "code",
   "execution_count": 8,
   "metadata": {},
   "outputs": [
    {
     "data": {
      "image/png": "[encoded data removed]",
      "text/plain": [
       "<Figure size 432x288 with 2 Axes>"
      ]
     },
     "metadata": {
      "needs_background": "light"
     },
     "output_type": "display_data"
    }
   ],
   "source": [
    "from sklearn.metrics import accuracy_score\n",
    "from sklearn.metrics import confusion_matrix, ConfusionMatrixDisplay\n",
    "\n",
    "trainPredetto = model.predict(X_train)\n",
    "testPredetto = model.predict(X_test)\n",
    "\n",
    "cm = confusion_matrix(Y_test, testPredetto, labels=[0, 1])\n",
    "\n",
    "cmatrix = ConfusionMatrixDisplay(confusion_matrix=cm, display_labels=[\"Non Frode\",\"Frode\"])\n",
    "cmatrix.plot()\n",
    "plt.title(\"Matrice di Confusione\")\n",
    "plt.show()\n"
   ]
  },
  {
   "cell_type": "markdown",
   "metadata": {},
   "source": [
    "## 6.2 Percentuali successo su Train-set e Test-set"
   ]
  },
  {
   "cell_type": "code",
   "execution_count": 9,
   "metadata": {},
   "outputs": [
    {
     "name": "stdout",
     "output_type": "stream",
     "text": [
      "Train score     : 100.00 %\n",
      "Test score      : 100.00 %\n",
      "Accuratezza riconoscimento frodi : 100.00 %\n",
      "Accuratezza riconoscimento non frodi : 100.00 %\n"
     ]
    }
   ],
   "source": [
    "veriNegativi = cm[0][0]\n",
    "veriPositivi = cm[1][1]\n",
    "falsiPositivi = cm[0][1]\n",
    "falsiNegativi = cm[1][0]\n",
    "\n",
    "nonFrodiTotali = veriNegativi + falsiPositivi\n",
    "frodiTotali = veriPositivi + falsiNegativi\n",
    "\n",
    "percentualeDiSuccessoNonFrodi = veriNegativi / nonFrodiTotali\n",
    "percentualeDiSuccessoFrodi = veriPositivi / frodiTotali\n",
    "\n",
    "print(\"Train score     : {:.2f} %\".format(accuracy_score(trainPredetto, Y_train) * 100))\n",
    "print(\"Test score      : {:.2f} %\".format(accuracy_score(testPredetto, Y_test) * 100))\n",
    "print(\"Accuratezza riconoscimento frodi : {:.2f} %\".format(percentualeDiSuccessoFrodi*100))\n",
    "print(\"Accuratezza riconoscimento non frodi : {:.2f} %\".format(percentualeDiSuccessoNonFrodi*100))\n"
   ]
  },
  {
   "cell_type": "markdown",
   "metadata": {},
   "source": [
    "## 6.3 Recall Score"
   ]
  },
  {
   "cell_type": "code",
   "execution_count": 10,
   "metadata": {},
   "outputs": [
    {
     "name": "stdout",
     "output_type": "stream",
     "text": [
      "Recall score sul test set     : 100.00 %\n"
     ]
    }
   ],
   "source": [
    "from sklearn.metrics import recall_score\n",
    "\n",
    "print(\"Recall score sul test set     : {:.2f} %\".format(recall_score(testPredetto, Y_test) * 100))"
   ]
  },
  {
   "cell_type": "markdown",
   "metadata": {},
   "source": [
    "## 6.X AUPRC"
   ]
  },
  {
   "cell_type": "code",
   "execution_count": 11,
   "metadata": {},
   "outputs": [
    {
     "name": "stdout",
     "output_type": "stream",
     "text": [
      "0.001659015299807765\t1.0\n"
     ]
    },
    {
     "data": {
      "image/png": "[encoded data removed]",
      "text/plain": [
       "<Figure size 432x288 with 1 Axes>"
      ]
     },
     "metadata": {
      "needs_background": "light"
     },
     "output_type": "display_data"
    }
   ],
   "source": [
    "from sklearn.metrics import average_precision_score\n",
    "\n",
    "baseline = frodiTotali/(frodiTotali + nonFrodiTotali)\n",
    "auprc = average_precision_score(Y_test, testPredetto)\n",
    "\n",
    "print(baseline, auprc, sep=\"\\t\")\n",
    "\n",
    "from sklearn.metrics import PrecisionRecallDisplay\n",
    "\n",
    "display = PrecisionRecallDisplay.from_estimator(model, X_test, Y_test)\n",
    "\n",
    "_ = display.ax_.set_title(\"2-class Precision-Recall curve\")"
   ]
  },
  {
   "cell_type": "markdown",
   "metadata": {},
   "source": [
    "\n",
    "\n",
    "### 6.10.2 Balanced Accuracy\n",
    "Nei casi in cui il dataset non sia bilanciato nel migliore dei modi, come nel nostro caso, ha senso anche la valutazione della balanced accuracy che calcola la media aritmetica delle accuratezze specifiche delle classi:\n",
    "\n",
    "### 6.10.3 F1 Micro\n",
    "Valutazione della F1 micro dei modelli addestrati:\n",
    "\n",
    "### 6.10.4 F1 Macro\n",
    "Valutazione della F1 macro dei modelli addestrati:"
   ]
  },
  {
   "cell_type": "code",
   "execution_count": 12,
   "metadata": {},
   "outputs": [
    {
     "name": "stdout",
     "output_type": "stream",
     "text": [
      "341162\n",
      "113923\n"
     ]
    }
   ],
   "source": [
    "print(len(X_train))\n",
    "print(len(X_test))"
   ]
  }
 ],
 "metadata": {
  "interpreter": {
   "hash": "17f1067490f984ba715149d06ea4a88ce507d8a2668e250361db3c636d63351c"
  },
  "kernelspec": {
   "display_name": "Python 3.8.11 64-bit ('mongoDB': conda)",
   "name": "python3"
  },
  "language_info": {
   "codemirror_mode": {
    "name": "ipython",
    "version": 3
   },
   "file_extension": ".py",
   "mimetype": "text/x-python",
   "name": "python",
   "nbconvert_exporter": "python",
   "pygments_lexer": "ipython3",
   "version": "3.8.11"
  },
  "orig_nbformat": 4
 },
 "nbformat": 4,
 "nbformat_minor": 2
}
