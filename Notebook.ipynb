{
 "cells": [
  {
   "cell_type": "markdown",
   "metadata": {},
   "source": [
    "# Big Data Project\n",
    "<font size = 3>\n",
    "Il presente progetto è stato realizzato da Luigi Gatto, Davide Lavalle e Cedric Ferdico. \n",
    "Il progetto di esame (a.a. 2020-2021) è una competizione Kaggle: un data set di frodi su carte di credito in cui sono presenti solo 492 frodi su 284808 transazioni. I dati contengono i campi \"Time\", \"V1\" ... \"V28\", \"Amount\" e \"Class\" che descriveremo in seguito.\n",
    "\n",
    "È stato richiesto di effettuare tutti i passi di data cleaning/inputation e una analisi delle feature rilevanti ai fini della classificazione. \n",
    "La metrica richiesta è la Area Under the Precision-Recall Curve (AUPRC). Inoltre, è stata necessario trovare una modalità di visualizzazione dei dati classificati in 2D o 3D che consenta di mettere in relazione i punti appartenenti a ciascuna classe con le feature utilizzate per la classificazione ai fini di apprezzare l'effettiva separazione tra le classi.\n",
    "</font>\n",
    "\n",
    "## 0.Ecosistema\n",
    "Per la realizzazione del progetto, è stato deciso di utilizzare i seguenti strumenti:\n",
    "- HDFS: per lo storage del dataset (simulando un cluster unitario di datanode); \n",
    "- Spark: per il recupero (da HDFS) e l'elaborazione del dataset;\n",
    "- Pandas: per la manipolazione e l'analisi dei dati;\n",
    "- Scikitlearn: per l'apprendimento automatico e le metriche di valutazione dei modelli;\n",
    "- Imblearn: conferisce dei tool utili alla classificazione di classi sbilanciate (utilizzata per effettuare il sovracampionamento);\n",
    "- Numpy: per la gestione di matrici e array multidimensionali di grandi dimensioni e l'utilizzo di funzioni matematiche di alto livello per operare su queste strutture dati;\n",
    "- Matplotlib/Seaborn: per la visualizzazione dei dati."
   ]
  },
  {
   "cell_type": "markdown",
   "metadata": {},
   "source": [
    "# 1.Descrizione del dataset\n",
    "\n",
    "Il dataset analizzato nel progetto è un insieme di record di transazioni di carte di credito a cui è stato effettuato la PCA (per motivi di privacy). I dati sono raccolti in maniera continua: il tempo è segnato all'interno della colonna \"Time\" con un intero che indica l'ammontare di secondi passati tra la transazione i-esima e la prima (che, di conseguenza ha il valore di \"Time\" a 0). \n",
    "Il dataset analizzato presenta 284808 di record di transazioni al momento dell'analisi in questo progetto.\n",
    "\n",
    "Il dataset è fornito in formato .csv.\n",
    "\n",
    "\n",
    "## 1.1.DATASET\n",
    "In questa tabella andremo a riassumere il contenuto del dataset dal punto di vista delle features, descrivendone il tipo ed il contenuto.\n",
    "\n",
    "| **Feature** | **Tipo** | **Descrizione** |\n",
    "|------------ |------------ |------------ |\n",
    "| \"Time\" | _Int_ | Valore numerico che indica l'ammontare di secondi trascorsi tra la prima transazione e la i-esima, il valore per la prima transazione è 0. |\n",
    "| \"V1\"...\"V28\" | _Float_ | Feature di dettaglio della transazione convertite con la PCA per questioni di privacy. |\n",
    "| \"Amount\" | _Float_ | Valore numerico che indica l'ammontare della transazione. |\n",
    "| \"Class\" | _Boolean_ | Valore 0/1 che indica se la transazione in oggetto sia frode (1) o lecita (0). |"
   ]
  },
  {
   "cell_type": "markdown",
   "metadata": {},
   "source": [
    "# 2.Inizializzazione dell'ambiente\n",
    "Qui andremo a descrivere brevemente la fase di inizializzazione degli strumenti utilizzati per il progetto."
   ]
  },
  {
   "cell_type": "markdown",
   "metadata": {},
   "source": [
    "## 2.1.Importazione del dataset in HDFS\n",
    "\n",
    "Per prima, dopo aver effetuato l'installazione ed il setup di HDFS, è necessario avviare tutti i servizi Hadoop.\n",
    "Per farlo è sufficiente eseguire un comando da CLI: "
   ]
  },
  {
   "cell_type": "markdown",
   "metadata": {},
   "source": [
    "``` >> start-all ```"
   ]
  },
  {
   "cell_type": "markdown",
   "metadata": {},
   "source": [
    "A questo punto, una volta avviati tutti i servizi, sarà possibile caricare in HDFS il dataset.\n",
    "Per effettuare l'upload, sarà sufficiente eseguire un altro comando CLI:"
   ]
  },
  {
   "cell_type": "markdown",
   "metadata": {},
   "source": [
    "```>> hdfs fs -put \"local/path/to/file.csv\" \"remote/path/\" ```"
   ]
  },
  {
   "cell_type": "markdown",
   "metadata": {},
   "source": [
    "Dove il primo parametro sta ad indicare la directory locale in cui è conservato il file .csv mentre il secondo indicherà la directory del file system distribuito in cui il dataset sarà caricato."
   ]
  },
  {
   "cell_type": "markdown",
   "metadata": {},
   "source": [
    "## 2.2.Spark\n",
    "L'inizializzazione dell'ambiente Spark consiste nell'importazione dei relativi moduli e nell'inizializzazione di una nuova SparkSession.\n",
    "Il motivo per cui è stato preso in considerazione l'utilizzo di Apache Spark è stato il suo ottimo rendimento in ambiti applicativi come questo. Infatti, questo strumento, è caratterizzato da un'alta velocità di elaborazione e di analisi avanzata; inoltre, dispone di un supporto di integrazione multipla con le operazioni a basso costo di Hadoop per la gestione dell’hardware e l’immagazzinamento dei dati."
   ]
  },
  {
   "cell_type": "code",
   "execution_count": 1,
   "metadata": {},
   "outputs": [
    {
     "name": "stderr",
     "output_type": "stream",
     "text": [
      "WARNING: An illegal reflective access operation has occurred\n",
      "WARNING: Illegal reflective access by org.apache.spark.unsafe.Platform (file:/usr/local/Cellar/apache-spark/3.1.2/libexec/jars/spark-unsafe_2.12-3.1.2.jar) to constructor java.nio.DirectByteBuffer(long,int)\n",
      "WARNING: Please consider reporting this to the maintainers of org.apache.spark.unsafe.Platform\n",
      "WARNING: Use --illegal-access=warn to enable warnings of further illegal reflective access operations\n",
      "WARNING: All illegal access operations will be denied in a future release\n",
      "21/11/01 11:43:58 WARN NativeCodeLoader: Unable to load native-hadoop library for your platform... using builtin-java classes where applicable\n",
      "Using Spark's default log4j profile: org/apache/spark/log4j-defaults.properties\n",
      "Setting default log level to \"WARN\".\n",
      "To adjust logging level use sc.setLogLevel(newLevel). For SparkR, use setLogLevel(newLevel).\n"
     ]
    }
   ],
   "source": [
    "import findspark\n",
    "\n",
    "location = findspark.find()\n",
    "findspark.init(location)\n",
    "\n",
    "from pyspark.sql import SparkSession\n",
    "from pyspark.sql.functions import *\n",
    "\n",
    "spark = SparkSession.builder \\\n",
    "    .appName(\"Progetto BigData Gatto - Lavalle - Ferdico A.A. 2020/2021\") \\\n",
    "    .getOrCreate()\n"
   ]
  },
  {
   "cell_type": "markdown",
   "metadata": {},
   "source": [
    "# 3.Lettura del dataset da HDFS con Spark\n",
    "\n",
    "Il codice seguente permette la lettura del file da HDFS e quindi l'importazione del dataset in formato .csv all'interno del dataframe secondo lo schema appena creato.\n",
    "Il dataset è conservato in una simulazione di filesystem distribuito in locale. \n",
    "(Questa scelta è stata effettuata per permetterci di cimentarci nell'implementazione di un fs distribuito con lo strumento Hadoop)"
   ]
  },
  {
   "cell_type": "code",
   "execution_count": 2,
   "metadata": {},
   "outputs": [
    {
     "name": "stderr",
     "output_type": "stream",
     "text": []
    }
   ],
   "source": [
    "dataSet = spark.read \\\n",
    "    .csv('hdfs://localhost:9099/creditCardProject/creditcard.csv', header = 'True', inferSchema='True')"
   ]
  },
  {
   "cell_type": "markdown",
   "metadata": {},
   "source": [
    "# 4.Dataset preprocessing\n",
    "La fase di preprocessing è necessaria per preparare il dataset appena caricato prima dell'analisi vera e propria. I dati presenti possono infatti presentare errori, dati mancanti o valori non previsti. L'obiettivo del preprocessing è quindi quello di pulire tali informazioni rimuovendo o \"curando\" i dati che presentano rumore o qualsiasi altro tipo di inconsistenze."
   ]
  },
  {
   "cell_type": "markdown",
   "metadata": {},
   "source": [
    "## 4.1 Osservazione sul dataset\n"
   ]
  },
  {
   "cell_type": "markdown",
   "metadata": {},
   "source": [
    "Convertiamo il DataFrame Spark in un DataFrame Pandas che offre una libreria per facilitarne la gestione e l'elaborazione:"
   ]
  },
  {
   "cell_type": "code",
   "execution_count": 3,
   "metadata": {},
   "outputs": [
    {
     "name": "stderr",
     "output_type": "stream",
     "text": [
      "21/11/01 11:44:10 WARN package: Truncated the string representation of a plan since it was too large. This behavior can be adjusted by setting 'spark.sql.debug.maxToStringFields'.\n"
     ]
    }
   ],
   "source": [
    "import numpy as np\n",
    "import pandas as pd\n",
    "import matplotlib as mp\n",
    "import matplotlib.pyplot as plt\n",
    "\n",
    "df = dataSet.toPandas()"
   ]
  },
  {
   "cell_type": "markdown",
   "metadata": {},
   "source": [
    "Per prima cosa diamo uno sguardo a come le transazioni si evolvono nel tempo. <br>\n",
    "<br>\n",
    "Per farlo realizziamo un grafico che tenga conto dell'evoluzione del valore di \"Amount\" seguendo il trascorrere del tempo, marcando con il colore Rosso le frodi e con il colore Blu quelle lecite. <br>\n",
    "\n",
    "Grafico: X--> Time; Y--> Amount ----- [Rosso frode - Blu non frode]"
   ]
  },
  {
   "cell_type": "code",
   "execution_count": 6,
   "metadata": {},
   "outputs": [
    {
     "data": {
      "text/plain": [
       "<matplotlib.collections.PathCollection at 0x7fab4a43b580>"
      ]
     },
     "execution_count": 6,
     "metadata": {},
     "output_type": "execute_result"
    },
    {
     "data": {
      "image/png": "[encoded data removed]",
      "text/plain": [
       "<Figure size 432x288 with 1 Axes>"
      ]
     },
     "metadata": {},
     "output_type": "display_data"
    }
   ],
   "source": [
    "#Grafico non frode\n",
    "xlim = df['Time'].max() * 1.2\n",
    "ylim = df['Amount'].max() * 1.2\n",
    "\n",
    "X = np.where(df['Class']==0, df['Time'], None)\n",
    "Y = np.where(df['Class']==0, df['Amount'], None)\n",
    "\n",
    "plt.style.use('seaborn-whitegrid')\n",
    "plt.xlabel(\"Time\")\n",
    "plt.ylabel(\"Amount\")\n",
    "plt.scatter(X, Y, marker = \".\", color = \"blue\")\n",
    "\n",
    "X = np.where(df['Class']==1, df['Time'], None)\n",
    "Y = np.where(df['Class']==1, df['Amount'], None)\n",
    "plt.scatter(X, Y, marker = \".\", color = \"red\")"
   ]
  },
  {
   "cell_type": "markdown",
   "metadata": {},
   "source": [
    "Da questo grafico è possibile notare come alle transazioni per cui il valore di \"Class\" è uguale ad 1 (le frodi) corrispondano valori di \"Amount\" relativamente bassi (<2500). <br>\n",
    "Inoltre è possibile percepire, anche se non del tutto chiaramente, il fatto che il dataset sia sbilanciato nei confronti delle transazioni lecite. "
   ]
  },
  {
   "cell_type": "markdown",
   "metadata": {},
   "source": [
    "Per verificare lo sbilanciamento del dataset abbiamo fatto stampare il numero delle transazioni lecite rispetto alle frodi:"
   ]
  },
  {
   "cell_type": "code",
   "execution_count": 7,
   "metadata": {},
   "outputs": [
    {
     "data": {
      "image/png": "[encoded data removed]",
      "text/plain": [
       "<Figure size 432x288 with 1 Axes>"
      ]
     },
     "metadata": {},
     "output_type": "display_data"
    },
    {
     "name": "stdout",
     "output_type": "stream",
     "text": [
      "Numero transazioni lecite: 284315\n",
      "Numero di frodi: 492\n"
     ]
    }
   ],
   "source": [
    "classi = []\n",
    "classi.append(len(df.loc[df.Class == 0]))\n",
    "classi.append(len(df.loc[df.Class == 1]))\n",
    "\n",
    "plt.title(\"Class Balancing\")\n",
    "plt.xlabel(\"Class\")\n",
    "plt.ylabel(\"Count\")\n",
    "plt.bar([0, 1], classi)\n",
    "plt.show()\n",
    "print(\"Numero transazioni lecite: \" + str(classi[0]))\n",
    "print(\"Numero di frodi: \" + str(classi[1]))"
   ]
  },
  {
   "cell_type": "markdown",
   "metadata": {},
   "source": [
    "Da questa esecuzione risulta lampante lo sbilanciamento del dataset, agiremo quindi di conseguenza negli step succesivi."
   ]
  },
  {
   "cell_type": "markdown",
   "metadata": {},
   "source": [
    "## 4.2 Data cleaning\n"
   ]
  },
  {
   "cell_type": "markdown",
   "metadata": {},
   "source": [
    "\n",
    "Banalmente, la prima operazione può essere quella di individuare le informazioni che presentano caratteristiche con valori mancanti. Il trattamento di valori mancanti può avvenire fondamentalmente in due modi: cancellazione o imputazione. La scelta corretta dipende dall'obiettivo dell'analisi e dalla possibile conoscenza a priori del problema, oltre ovviamente che dalle quantità di tali valori nulli."
   ]
  },
  {
   "cell_type": "code",
   "execution_count": 8,
   "metadata": {},
   "outputs": [
    {
     "name": "stdout",
     "output_type": "stream",
     "text": [
      "+----+---+---+---+---+---+---+---+---+---+---+---+---+---+---+---+---+---+---+---+---+---+---+---+---+---+---+---+---+------+-----+\n",
      "|Time| V1| V2| V3| V4| V5| V6| V7| V8| V9|V10|V11|V12|V13|V14|V15|V16|V17|V18|V19|V20|V21|V22|V23|V24|V25|V26|V27|V28|Amount|Class|\n",
      "+----+---+---+---+---+---+---+---+---+---+---+---+---+---+---+---+---+---+---+---+---+---+---+---+---+---+---+---+---+------+-----+\n",
      "|   0|  0|  0|  0|  0|  0|  0|  0|  0|  0|  0|  0|  0|  0|  0|  0|  0|  0|  0|  0|  0|  0|  0|  0|  0|  0|  0|  0|  0|     0|    0|\n",
      "+----+---+---+---+---+---+---+---+---+---+---+---+---+---+---+---+---+---+---+---+---+---+---+---+---+---+---+---+---+------+-----+\n",
      "\n"
     ]
    },
    {
     "name": "stderr",
     "output_type": "stream",
     "text": []
    }
   ],
   "source": [
    "dataSet.select([count(when(col(c).isNull(), c)).alias(c) for c in dataSet.columns]).show()"
   ]
  },
  {
   "cell_type": "markdown",
   "metadata": {},
   "source": [
    "Dall'esecuzione precedente è possibile notare come tutte le features presenti nel dataset non presentino dati mancanti.\n",
    "Procediamo adesso con il controllo di campioni duplicati all'interno del dataset. Per farlo utilizziamo il metodo \"drop_duplicates\" di pandas."
   ]
  },
  {
   "cell_type": "code",
   "execution_count": 4,
   "metadata": {},
   "outputs": [
    {
     "name": "stdout",
     "output_type": "stream",
     "text": [
      "Duplicati rimossi: 1081\n"
     ]
    }
   ],
   "source": [
    "lunghezzaIniziale = len(df)\n",
    "df.drop_duplicates(subset=df.columns.values[:-1], keep='first',inplace=True)\n",
    "lunghezzaFinale = len(df)\n",
    "print(f\"Duplicati rimossi: {lunghezzaIniziale - lunghezzaFinale}\")"
   ]
  },
  {
   "cell_type": "markdown",
   "metadata": {},
   "source": [
    "Con l'esecuzione del codice precedente sono stati eliminati i dupliati.<br>\n",
    "Dato che i valori di 28 features sulle 31 totali sono il risultato di una Principal Component Analysis effettuata sul dataset originario, quindi, diventa difficile effettuare operazioni di imputazione e/o rilevamento di inconsistenze sui dati."
   ]
  },
  {
   "cell_type": "markdown",
   "metadata": {},
   "source": [
    "## 4.3 Eliminazione delle features meno rilevanti\n",
    "\n",
    "L'eliminazione delle feature meno rilevanti è necessaria per diversi motivi, tra i quali la riduzione di dimensionalità del problema (che alleggerirà il carico di lavoro successivo) e l'eliminazione di potenziali informazioni fuorvianti che sarebbero d'ostacolo all'addestramento del modello predittivo."
   ]
  },
  {
   "cell_type": "markdown",
   "metadata": {},
   "source": [
    "### 4.3.1 Matrice di correlazione\n",
    "Procediamo adesso con il calcolo e la visualizzazione della matrice di correlazione. Abbiamo deciso di eliminare le feature con un valore di correlazione minore a 0.05 rispetto alla feature \"Class\"."
   ]
  },
  {
   "cell_type": "code",
   "execution_count": 10,
   "metadata": {},
   "outputs": [
    {
     "data": {
      "image/png": "[encoded data removed]",
      "text/plain": [
       "<Figure size 864x720 with 2 Axes>"
      ]
     },
     "metadata": {},
     "output_type": "display_data"
    },
    {
     "name": "stdout",
     "output_type": "stream",
     "text": [
      "Valori minori della soglia per le feature: Time V6 V8 V13 V15 V19 V20 V21 V22 V23 V24 V25 V26 V27 V28 Amount "
     ]
    }
   ],
   "source": [
    "import seaborn as sns\n",
    "soglia = 0.05\n",
    "\n",
    "plt.figure(figsize=(12, 10))\n",
    "corr = df.corr()\n",
    "corr = pd.DataFrame.abs(corr)\n",
    "fig = sns.heatmap(corr, cmap='coolwarm_r', annot_kws={'size':20})\n",
    "fig.set_title('Correlation Matrix', fontsize=14)\n",
    "plt.show()\n",
    "\n",
    "count = 0\n",
    "print(\"Valori minori della soglia per le feature: \", end=\"\")\n",
    "for i in corr[\"Class\"]:\n",
    "    if i < soglia:\n",
    "        print(corr[\"Class\"].index[count], end=\" \")\n",
    "    count += 1"
   ]
  },
  {
   "cell_type": "markdown",
   "metadata": {},
   "source": [
    "Dopo aver trovato le features che secondo la matrice di correlazione presentano una valore al di sotto della soglia, ne verifichiamo la coerenza con il fisher score."
   ]
  },
  {
   "cell_type": "markdown",
   "metadata": {},
   "source": [
    "## Fisher Score"
   ]
  },
  {
   "cell_type": "markdown",
   "metadata": {},
   "source": [
    "@TODO: INSERIRE FORMULA FISHER SCORE"
   ]
  },
  {
   "cell_type": "code",
   "execution_count": 11,
   "metadata": {},
   "outputs": [
    {
     "name": "stderr",
     "output_type": "stream",
     "text": []
    },
    {
     "name": "stdout",
     "output_type": "stream",
     "text": [
      "Feature con score minori della soglia: Time - V6 - V8 - V13 - V15 - V19 - V20 - V21 - V22 - V23 - V24 - V25 - V26 - V27 - V28 - Amount - "
     ]
    },
    {
     "name": "stderr",
     "output_type": "stream",
     "text": []
    }
   ],
   "source": [
    "def fisher(m1,s1,p1,m2,s2,p2,m3):\n",
    "  m1 = float(m1)\n",
    "  s1 = float(s1)\n",
    "  m2 = float(m2)\n",
    "  s2 = float(s2)\n",
    "  m3 = float(m3)\n",
    "\n",
    "  num = p1 * ((m1 - m3)**2) + p2*((m2 - m3)**2)\n",
    "  den = p1 * (s1**2) + p2 * (s2**2)\n",
    "\n",
    "  return (100 * num/den)\n",
    "\n",
    "frodi = dataSet.filter(dataSet.Class.contains(1))\n",
    "legittime = dataSet.filter(dataSet.Class.contains(0))\n",
    "\n",
    "# Describe Method Output:\n",
    "# 0: count\n",
    "# 1: mean\n",
    "# 2: stddev\n",
    "# 3: min\n",
    "# 4: max\n",
    "\n",
    "statFrodi       = frodi.describe().toPandas()\n",
    "statLegittime   = legittime.describe().toPandas()\n",
    "statGlobali     = dataSet.describe().toPandas()\n",
    "\n",
    "suppFrodi       = float(statFrodi.loc[0,\"Time\"]) / float(statGlobali.loc[0,\"Time\"])\n",
    "suppLegittime   = float(statLegittime.loc[0,\"Time\"]) / float(statGlobali.loc[0,\"Time\"])\n",
    "\n",
    "print(\"Feature con score minori della soglia: \", end=\"\")\n",
    "\n",
    "for col in dataSet.columns[0:-1]:\n",
    "    mediaFrodi      = float(statFrodi.loc[1,col])\n",
    "    dsFrodi         = float(statFrodi.loc[2,col])\n",
    "    mediaLegittime  = float(statLegittime.loc[1,col])\n",
    "    dsLegittime     = float(statLegittime.loc[2,col])\n",
    "    mediaGlobale    = float(statGlobali.loc[1,col])\n",
    "    fisherValue = fisher(mediaFrodi, \n",
    "                          dsFrodi, \n",
    "                          suppFrodi, \n",
    "                          mediaLegittime,\n",
    "                          dsLegittime,\n",
    "                          suppLegittime,\n",
    "                          mediaGlobale)\n",
    "    \n",
    "    if fisherValue < 0.5:                      \n",
    "      print(col + \" -\", end=\" \")"
   ]
  },
  {
   "cell_type": "markdown",
   "metadata": {},
   "source": [
    "Secondo la matrice di correlazione e secondo il fisher score, le features da eliminare combaciano. Di conseguenza il prossimo blocco di codice eliminerà proprio quelle features."
   ]
  },
  {
   "cell_type": "code",
   "execution_count": 5,
   "metadata": {},
   "outputs": [],
   "source": [
    "dfFinal = df.drop([\"Time\", \"V6\", \"V8\", \"V13\", \"V15\", \"V19\", \"V20\", \"V21\", \"V22\", \"V23\", \"V24\", \"V25\", \"V26\", \"V27\", \"V28\", \"Amount\"], axis=1)"
   ]
  },
  {
   "cell_type": "markdown",
   "metadata": {},
   "source": [
    "# Min max Scaling"
   ]
  },
  {
   "cell_type": "code",
   "execution_count": 6,
   "metadata": {},
   "outputs": [],
   "source": [
    "from sklearn.preprocessing import MinMaxScaler\n",
    "scaler = MinMaxScaler()\n",
    "for col in dfFinal.columns[0:-1]:\n",
    "    scaledCol = scaler.fit_transform(np.array(dfFinal[col]).reshape(-1, 1))\n",
    "    dfFinal[col] = scaledCol"
   ]
  },
  {
   "cell_type": "markdown",
   "metadata": {},
   "source": [
    "## X.X Suddiv"
   ]
  },
  {
   "cell_type": "code",
   "execution_count": 7,
   "metadata": {},
   "outputs": [
    {
     "ename": "KeyboardInterrupt",
     "evalue": "",
     "output_type": "error",
     "traceback": [
      "\u001b[0;31m---------------------------------------------------------------------------\u001b[0m",
      "\u001b[0;31mKeyboardInterrupt\u001b[0m                         Traceback (most recent call last)",
      "\u001b[0;32m/var/folders/9j/nybdj3kn5lnc_91_n44zs8240000gn/T/ipykernel_1349/1710392654.py\u001b[0m in \u001b[0;36m<module>\u001b[0;34m\u001b[0m\n\u001b[1;32m     14\u001b[0m \u001b[0membedding\u001b[0m \u001b[0;34m=\u001b[0m \u001b[0mMDS\u001b[0m\u001b[0;34m(\u001b[0m\u001b[0mn_components\u001b[0m\u001b[0;34m=\u001b[0m\u001b[0;36m2\u001b[0m\u001b[0;34m,\u001b[0m \u001b[0mdissimilarity\u001b[0m\u001b[0;34m=\u001b[0m\u001b[0;34m\"precomputed\"\u001b[0m\u001b[0;34m,\u001b[0m \u001b[0mrandom_state\u001b[0m \u001b[0;34m=\u001b[0m \u001b[0;36m104\u001b[0m\u001b[0;34m)\u001b[0m\u001b[0;34m\u001b[0m\u001b[0;34m\u001b[0m\u001b[0m\n\u001b[1;32m     15\u001b[0m \u001b[0mxTrue_transformed\u001b[0m \u001b[0;34m=\u001b[0m \u001b[0membedding\u001b[0m\u001b[0;34m.\u001b[0m\u001b[0mfit_transform\u001b[0m\u001b[0;34m(\u001b[0m\u001b[0mpwsClassTrue\u001b[0m\u001b[0;34m)\u001b[0m\u001b[0;34m\u001b[0m\u001b[0;34m\u001b[0m\u001b[0m\n\u001b[0;32m---> 16\u001b[0;31m \u001b[0mxFalse_transformed\u001b[0m \u001b[0;34m=\u001b[0m \u001b[0membedding\u001b[0m\u001b[0;34m.\u001b[0m\u001b[0mfit_transform\u001b[0m\u001b[0;34m(\u001b[0m\u001b[0mpwsClassFalse\u001b[0m\u001b[0;34m)\u001b[0m\u001b[0;34m\u001b[0m\u001b[0;34m\u001b[0m\u001b[0m\n\u001b[0m\u001b[1;32m     17\u001b[0m \u001b[0;34m\u001b[0m\u001b[0m\n\u001b[1;32m     18\u001b[0m \u001b[0mplt\u001b[0m\u001b[0;34m.\u001b[0m\u001b[0mstyle\u001b[0m\u001b[0;34m.\u001b[0m\u001b[0muse\u001b[0m\u001b[0;34m(\u001b[0m\u001b[0;34m'seaborn-whitegrid'\u001b[0m\u001b[0;34m)\u001b[0m\u001b[0;34m\u001b[0m\u001b[0;34m\u001b[0m\u001b[0m\n",
      "\u001b[0;32m/Applications/anaconda3/envs/mongoDB/lib/python3.8/site-packages/sklearn/manifold/_mds.py\u001b[0m in \u001b[0;36mfit_transform\u001b[0;34m(self, X, y, init)\u001b[0m\n\u001b[1;32m    532\u001b[0m             )\n\u001b[1;32m    533\u001b[0m \u001b[0;34m\u001b[0m\u001b[0m\n\u001b[0;32m--> 534\u001b[0;31m         self.embedding_, self.stress_, self.n_iter_ = smacof(\n\u001b[0m\u001b[1;32m    535\u001b[0m             \u001b[0mself\u001b[0m\u001b[0;34m.\u001b[0m\u001b[0mdissimilarity_matrix_\u001b[0m\u001b[0;34m,\u001b[0m\u001b[0;34m\u001b[0m\u001b[0;34m\u001b[0m\u001b[0m\n\u001b[1;32m    536\u001b[0m             \u001b[0mmetric\u001b[0m\u001b[0;34m=\u001b[0m\u001b[0mself\u001b[0m\u001b[0;34m.\u001b[0m\u001b[0mmetric\u001b[0m\u001b[0;34m,\u001b[0m\u001b[0;34m\u001b[0m\u001b[0;34m\u001b[0m\u001b[0m\n",
      "\u001b[0;32m/Applications/anaconda3/envs/mongoDB/lib/python3.8/site-packages/sklearn/manifold/_mds.py\u001b[0m in \u001b[0;36msmacof\u001b[0;34m(dissimilarities, metric, n_components, init, n_init, n_jobs, max_iter, verbose, eps, random_state, return_n_iter)\u001b[0m\n\u001b[1;32m    267\u001b[0m     \u001b[0;32mif\u001b[0m \u001b[0meffective_n_jobs\u001b[0m\u001b[0;34m(\u001b[0m\u001b[0mn_jobs\u001b[0m\u001b[0;34m)\u001b[0m \u001b[0;34m==\u001b[0m \u001b[0;36m1\u001b[0m\u001b[0;34m:\u001b[0m\u001b[0;34m\u001b[0m\u001b[0;34m\u001b[0m\u001b[0m\n\u001b[1;32m    268\u001b[0m         \u001b[0;32mfor\u001b[0m \u001b[0mit\u001b[0m \u001b[0;32min\u001b[0m \u001b[0mrange\u001b[0m\u001b[0;34m(\u001b[0m\u001b[0mn_init\u001b[0m\u001b[0;34m)\u001b[0m\u001b[0;34m:\u001b[0m\u001b[0;34m\u001b[0m\u001b[0;34m\u001b[0m\u001b[0m\n\u001b[0;32m--> 269\u001b[0;31m             pos, stress, n_iter_ = _smacof_single(\n\u001b[0m\u001b[1;32m    270\u001b[0m                 \u001b[0mdissimilarities\u001b[0m\u001b[0;34m,\u001b[0m\u001b[0;34m\u001b[0m\u001b[0;34m\u001b[0m\u001b[0m\n\u001b[1;32m    271\u001b[0m                 \u001b[0mmetric\u001b[0m\u001b[0;34m=\u001b[0m\u001b[0mmetric\u001b[0m\u001b[0;34m,\u001b[0m\u001b[0;34m\u001b[0m\u001b[0;34m\u001b[0m\u001b[0m\n",
      "\u001b[0;32m/Applications/anaconda3/envs/mongoDB/lib/python3.8/site-packages/sklearn/manifold/_mds.py\u001b[0m in \u001b[0;36m_smacof_single\u001b[0;34m(dissimilarities, metric, n_components, init, max_iter, verbose, eps, random_state)\u001b[0m\n\u001b[1;32m    100\u001b[0m     \u001b[0;32mfor\u001b[0m \u001b[0mit\u001b[0m \u001b[0;32min\u001b[0m \u001b[0mrange\u001b[0m\u001b[0;34m(\u001b[0m\u001b[0mmax_iter\u001b[0m\u001b[0;34m)\u001b[0m\u001b[0;34m:\u001b[0m\u001b[0;34m\u001b[0m\u001b[0;34m\u001b[0m\u001b[0m\n\u001b[1;32m    101\u001b[0m         \u001b[0;31m# Compute distance and monotonic regression\u001b[0m\u001b[0;34m\u001b[0m\u001b[0;34m\u001b[0m\u001b[0;34m\u001b[0m\u001b[0m\n\u001b[0;32m--> 102\u001b[0;31m         \u001b[0mdis\u001b[0m \u001b[0;34m=\u001b[0m \u001b[0meuclidean_distances\u001b[0m\u001b[0;34m(\u001b[0m\u001b[0mX\u001b[0m\u001b[0;34m)\u001b[0m\u001b[0;34m\u001b[0m\u001b[0;34m\u001b[0m\u001b[0m\n\u001b[0m\u001b[1;32m    103\u001b[0m \u001b[0;34m\u001b[0m\u001b[0m\n\u001b[1;32m    104\u001b[0m         \u001b[0;32mif\u001b[0m \u001b[0mmetric\u001b[0m\u001b[0;34m:\u001b[0m\u001b[0;34m\u001b[0m\u001b[0;34m\u001b[0m\u001b[0m\n",
      "\u001b[0;32m/Applications/anaconda3/envs/mongoDB/lib/python3.8/site-packages/sklearn/metrics/pairwise.py\u001b[0m in \u001b[0;36meuclidean_distances\u001b[0;34m(X, Y, Y_norm_squared, squared, X_norm_squared)\u001b[0m\n\u001b[1;32m    325\u001b[0m             )\n\u001b[1;32m    326\u001b[0m \u001b[0;34m\u001b[0m\u001b[0m\n\u001b[0;32m--> 327\u001b[0;31m     \u001b[0;32mreturn\u001b[0m \u001b[0m_euclidean_distances\u001b[0m\u001b[0;34m(\u001b[0m\u001b[0mX\u001b[0m\u001b[0;34m,\u001b[0m \u001b[0mY\u001b[0m\u001b[0;34m,\u001b[0m \u001b[0mX_norm_squared\u001b[0m\u001b[0;34m,\u001b[0m \u001b[0mY_norm_squared\u001b[0m\u001b[0;34m,\u001b[0m \u001b[0msquared\u001b[0m\u001b[0;34m)\u001b[0m\u001b[0;34m\u001b[0m\u001b[0;34m\u001b[0m\u001b[0m\n\u001b[0m\u001b[1;32m    328\u001b[0m \u001b[0;34m\u001b[0m\u001b[0m\n\u001b[1;32m    329\u001b[0m \u001b[0;34m\u001b[0m\u001b[0m\n",
      "\u001b[0;32m/Applications/anaconda3/envs/mongoDB/lib/python3.8/site-packages/sklearn/metrics/pairwise.py\u001b[0m in \u001b[0;36m_euclidean_distances\u001b[0;34m(X, Y, X_norm_squared, Y_norm_squared, squared)\u001b[0m\n\u001b[1;32m    366\u001b[0m     \u001b[0;32melse\u001b[0m\u001b[0;34m:\u001b[0m\u001b[0;34m\u001b[0m\u001b[0;34m\u001b[0m\u001b[0m\n\u001b[1;32m    367\u001b[0m         \u001b[0;31m# if dtype is already float64, no need to chunk and upcast\u001b[0m\u001b[0;34m\u001b[0m\u001b[0;34m\u001b[0m\u001b[0;34m\u001b[0m\u001b[0m\n\u001b[0;32m--> 368\u001b[0;31m         \u001b[0mdistances\u001b[0m \u001b[0;34m=\u001b[0m \u001b[0;34m-\u001b[0m\u001b[0;36m2\u001b[0m \u001b[0;34m*\u001b[0m \u001b[0msafe_sparse_dot\u001b[0m\u001b[0;34m(\u001b[0m\u001b[0mX\u001b[0m\u001b[0;34m,\u001b[0m \u001b[0mY\u001b[0m\u001b[0;34m.\u001b[0m\u001b[0mT\u001b[0m\u001b[0;34m,\u001b[0m \u001b[0mdense_output\u001b[0m\u001b[0;34m=\u001b[0m\u001b[0;32mTrue\u001b[0m\u001b[0;34m)\u001b[0m\u001b[0;34m\u001b[0m\u001b[0;34m\u001b[0m\u001b[0m\n\u001b[0m\u001b[1;32m    369\u001b[0m         \u001b[0mdistances\u001b[0m \u001b[0;34m+=\u001b[0m \u001b[0mXX\u001b[0m\u001b[0;34m\u001b[0m\u001b[0;34m\u001b[0m\u001b[0m\n\u001b[1;32m    370\u001b[0m         \u001b[0mdistances\u001b[0m \u001b[0;34m+=\u001b[0m \u001b[0mYY\u001b[0m\u001b[0;34m\u001b[0m\u001b[0;34m\u001b[0m\u001b[0m\n",
      "\u001b[0;32m/Applications/anaconda3/envs/mongoDB/lib/python3.8/site-packages/sklearn/utils/extmath.py\u001b[0m in \u001b[0;36msafe_sparse_dot\u001b[0;34m(a, b, dense_output)\u001b[0m\n\u001b[1;32m    151\u001b[0m             \u001b[0mret\u001b[0m \u001b[0;34m=\u001b[0m \u001b[0mnp\u001b[0m\u001b[0;34m.\u001b[0m\u001b[0mdot\u001b[0m\u001b[0;34m(\u001b[0m\u001b[0ma\u001b[0m\u001b[0;34m,\u001b[0m \u001b[0mb\u001b[0m\u001b[0;34m)\u001b[0m\u001b[0;34m\u001b[0m\u001b[0;34m\u001b[0m\u001b[0m\n\u001b[1;32m    152\u001b[0m     \u001b[0;32melse\u001b[0m\u001b[0;34m:\u001b[0m\u001b[0;34m\u001b[0m\u001b[0;34m\u001b[0m\u001b[0m\n\u001b[0;32m--> 153\u001b[0;31m         \u001b[0mret\u001b[0m \u001b[0;34m=\u001b[0m \u001b[0ma\u001b[0m \u001b[0;34m@\u001b[0m \u001b[0mb\u001b[0m\u001b[0;34m\u001b[0m\u001b[0;34m\u001b[0m\u001b[0m\n\u001b[0m\u001b[1;32m    154\u001b[0m \u001b[0;34m\u001b[0m\u001b[0m\n\u001b[1;32m    155\u001b[0m     if (\n",
      "\u001b[0;31mKeyboardInterrupt\u001b[0m: "
     ]
    }
   ],
   "source": [
    "dfFinalClassFalse = dfFinal.loc[dfFinal.Class == 0]\n",
    "dfFinalClassFalse = dfFinalClassFalse.drop([\"Class\"], axis = 1)\n",
    "\n",
    "dfFinalClassTrue = dfFinal.loc[dfFinal.Class == 1]\n",
    "dfFinalClassTrue = dfFinalClassTrue.drop([\"Class\"], axis = 1)\n",
    "\n",
    "from sklearn.manifold import MDS\n",
    "from sklearn.metrics import pairwise_distances\n",
    "\n",
    "pwsClassTrue = pairwise_distances(X = dfFinalClassTrue, metric=\"manhattan\")\n",
    "pwsClassFalse = pairwise_distances(X = dfFinalClassFalse.head(1000), metric=\"manhattan\")\n",
    "\n",
    "#MDS a due componenti con distanza Manhattan\n",
    "embedding = MDS(n_components=2, dissimilarity=\"precomputed\", random_state = 104)\n",
    "xTrue_transformed = embedding.fit_transform(pwsClassTrue)\n",
    "xFalse_transformed = embedding.fit_transform(pwsClassFalse)\n",
    "\n",
    "plt.style.use('seaborn-whitegrid')\n",
    "plt.scatter(xTrue_transformed[:, 0], xTrue_transformed[:, 1], marker = \".\", color = 'green')\n",
    "#plt.scatter(xFalse_transformed[:, 0], xFalse_transformed[:, 1], marker = \".\", color = 'red')\n",
    "plt.show()\n",
    "\n",
    "#MDS a due componenti con distanza Euclidea\n",
    "embedding = MDS(n_components=2, random_state = 104)\n",
    "xTrue_transformed = embedding.fit_transform(dfFinalClassTrue)\n",
    "xFalse_transformed = embedding.fit_transform(dfFinalClassFalse.head(1000))\n",
    "\n",
    "plt.style.use('seaborn-whitegrid')\n",
    "plt.scatter(xTrue_transformed[:, 0], xTrue_transformed[:, 1], marker = \".\", color = 'green')\n",
    "#plt.scatter(xFalse_transformed[:, 0], xFalse_transformed[:, 1], marker = \".\", color = 'red')\n",
    "plt.show()"
   ]
  },
  {
   "cell_type": "markdown",
   "metadata": {},
   "source": [
    "## X.X Salvataggio del cleaned dataset.csv\n",
    "E' sicuramente conveniente salvare direttamente nel Drive personale il dataset così ottenuto per non ripetere i passaggi di data cleaning appena descritti ad ogni nuovo accesso a Colab. Per memorizzare il cleaned dataset, è possibile semplicemente utilizzare il metodo .write() fornito da Spark.\n",
    "@Todo Dobbiamo farlo?"
   ]
  },
  {
   "cell_type": "markdown",
   "metadata": {},
   "source": [
    "## X.X Importazione del cleaned dataset\n",
    "cleaned_accidents_dataset.csv\n",
    "Andiamo quindi ad importare il nuovo dataset cleaned_accidents_dataset.csv . Per farlo è necessario costruire nuovamente lo schema del dataframe che ospiterà il dataset e infine utilizzare il metodo read di Spark."
   ]
  },
  {
   "cell_type": "markdown",
   "metadata": {},
   "source": [
    "### 6.4 Scelta delle features @ToDo noi non possiamo farla, che ci mettiamo?\n",
    "\n",
    "Più paragrafi sono stati dedicati alla pulizia del dataset, alla scelta delle features e quindi alla rimozione delle caratteristiche con dati mancanti o palesemente non necessari all'analisi. Per l'analisi predittiva ciò non basta,infatti alcune delle features possono essere in qualche modo implicitamente correlate al campo Severity , e per tale motivo utili alla sua predizione. Un possibile modo per individuare le features correlate è quello di utilizzare l'approccio statistico.\n",
    "Calcolare le correlazioni tra la caratteristica Severity ed il resto è possibile calcolando la relativa matrice di correlazione. E' chiaro quindi che vanno escluse tutte le caratteristiche aventi una correlazione col campo preso in esame al di sotto di una certa soglia.\n",
    "Per poter carcolare la matrice di correlazione, è possibile utilizzare un metodo fornito da Pandas. E' quindi necessario importare il dataset indicizzato all'interno di un suo dataframe:\n",
    "\n",
    "Dalla matrice di correlazione appena ottenuta, va presa in considerazione soltanto la prima colonna ovvero quella relativa alle correlazioni tra la caratteristica Severity e ognuna delle altre caratteristiche.\n",
    "Tanto è maggiore in valore assoluto la correlazione tra due variabili aleatorie, tanto più la conoscenza del valore di una è utile a prevedere il valore dell'altra. Per tale motivo è necessario calcolare i valori assoluti delle correlazioni tra\n",
    "Severity e le altre caratteristiche, ed infine ordinarli in ordine decrescente:"
   ]
  },
  {
   "cell_type": "markdown",
   "metadata": {},
   "source": [
    "Valutazione dell'errore del modello ottenuto al passo precedente"
   ]
  },
  {
   "cell_type": "markdown",
   "metadata": {},
   "source": [
    "# ADDESTRAMENTO"
   ]
  },
  {
   "cell_type": "markdown",
   "metadata": {},
   "source": [
    "6.9 Training\n",
    "Per l'addestramento è necessario importare i modelli da addestrare dalle librerie di Spark per la classificazione. Come modelli verranno utilizzati Decision Tree ed il classificatore di tipo probabilistico Naive Bayes per poter confrontare infine i risultati ottenuti.\n",
    "Per poter inizializzare i modelli è necessario prima inserire come parametri la caratteristica che il modello deve predire Severity , e la colonna delle features .\n"
   ]
  },
  {
   "cell_type": "markdown",
   "metadata": {},
   "source": [
    "Creiamo test set e train set dal dataset e visualizziamo le loro dimensioni"
   ]
  },
  {
   "cell_type": "markdown",
   "metadata": {},
   "source": [
    "Divisione del dataset in training set e validation set"
   ]
  },
  {
   "cell_type": "code",
   "execution_count": 8,
   "metadata": {},
   "outputs": [
    {
     "name": "stdout",
     "output_type": "stream",
     "text": [
      "Train Feature size :  226980\n",
      "Train Label size   : 226980\n",
      "Test Feature size  : 56746\n",
      "Test Label size    : 56746\n"
     ]
    }
   ],
   "source": [
    "from sklearn.model_selection import train_test_split\n",
    "\n",
    "features = dfFinal[dfFinal.columns[:len(dfFinal.columns)-1]].to_numpy()\n",
    "targets = dfFinal.Class.to_numpy()\n",
    "\n",
    "X_train, X_test, Y_train, Y_test = train_test_split(features, targets, test_size=0.2, stratify=targets)\n",
    "#X ingressi\n",
    "print(\"Train Feature size : \", len(X_train))\n",
    "print(\"Train Label size   :\", len(Y_train))\n",
    "print(\"Test Feature size  :\", len(X_test))\n",
    "print(\"Test Label size    :\", len(Y_test))"
   ]
  },
  {
   "cell_type": "code",
   "execution_count": 9,
   "metadata": {},
   "outputs": [
    {
     "data": {
      "image/png": "[encoded data removed]",
      "text/plain": [
       "<Figure size 432x288 with 1 Axes>"
      ]
     },
     "metadata": {
      "needs_background": "light"
     },
     "output_type": "display_data"
    }
   ],
   "source": [
    "target_un,count = np.unique(targets,return_counts=True)\n",
    "plt.title(\"Class Balancing\")\n",
    "plt.xlabel(\"Class\")\n",
    "plt.ylabel(\"Count\")\n",
    "plt.bar([str(i) for i in target_un],count)\n",
    "plt.show()"
   ]
  },
  {
   "cell_type": "markdown",
   "metadata": {},
   "source": [
    "6.8 Bilanciamento del dataset\n",
    "Prima di continuare è necessario anche analizzare il bilanciamento delle classi appartenenti alla caratteristica Severity :\n",
    "\n",
    "Il risulta mostra un bilanciamento non proprio uniforme. In particolare è possibile notare come la classe 1 e 4 sono quelle meno frequenti rispetto alle altre presenti. E' possibile bilanciare la distribuzione di tali classi attraverso l'oversampling. L'oversampling consiste nella duplicazione dei record delle le classi meno frequenti. Di conseguenza, va utilizzato il metodo .sample fornito sempre da Spark. Il metodo appena citato permette di specificare una frazione di record da estrarre dal dataframe da cui estrarre i campioni, con o senza sostituzione. L'oversampling sarà effettuato esclusivamente del training set per non influenzare i risultati della predizione da parte del modello.\n",
    "Visuliazziamo la distribuzione delle classi per la stessa caratteristica ma soltanto per il Training Set:\n",
    "\n",
    "Proviamo quindi a distribuire in maniera più uniforme tali classi tramite oversampling. E' evidente che l'oversampling debba essere seguito sui record aventi classi 1 , 3 e 4 di Severity .\n",
    "Bisogna innanzitutto separare i record appartenenti alle stesse classe di Severity:\n",
    "\n",
    "Come descritto prima, è necessario l'oversampling sui record appartenenti alle classi 1 , 3 e 4 . Il fattore di oversampling è gestibile tramite il parametro fraction di sample .\n",
    "\n",
    "Controlliamo quindi se la distribuzione delle classi all'interno del dataset si è uniformata:"
   ]
  },
  {
   "cell_type": "code",
   "execution_count": 10,
   "metadata": {},
   "outputs": [
    {
     "data": {
      "image/png": "[encoded data removed]",
      "text/plain": [
       "<Figure size 432x288 with 1 Axes>"
      ]
     },
     "metadata": {
      "needs_background": "light"
     },
     "output_type": "display_data"
    }
   ],
   "source": [
    "from imblearn.over_sampling import SMOTE\n",
    "\n",
    "#SOVRACAMPIONAMENTO SOLO DEL TRAINING SET IN MODO DA SBAGLIARE SOLO 1 VOLTA E NON N VOLTE NEL TEST SET\n",
    "X_train, Y_train = SMOTE().fit_resample(X_train,Y_train)\n",
    "Y_train = Y_train.reshape(-1,1)\n",
    "\n",
    "target_balanced,count = np.unique(Y_train,return_counts=True)\n",
    "plt.title(\"Class Balancing\")\n",
    "plt.xlabel(\"Class\")\n",
    "plt.ylabel(\"Count\")\n",
    "plt.bar([str(i) for i in target_balanced],count)\n",
    "plt.show()"
   ]
  },
  {
   "cell_type": "code",
   "execution_count": 18,
   "metadata": {},
   "outputs": [],
   "source": [
    "from sklearn.ensemble import RandomForestClassifier\n",
    "\n",
    "#model = RandomForestClassifier(n_estimators=108, max_features=\"sqrt\", criterion=\"entropy\")\n",
    "#model.fit(X_train, Y_train)"
   ]
  },
  {
   "cell_type": "code",
   "execution_count": 19,
   "metadata": {},
   "outputs": [
    {
     "name": "stderr",
     "output_type": "stream",
     "text": [
      "/Applications/anaconda3/envs/mongoDB/lib/python3.8/site-packages/sklearn/model_selection/_validation.py:681: DataConversionWarning: A column-vector y was passed when a 1d array was expected. Please change the shape of y to (n_samples,), for example using ravel().\n",
      "  estimator.fit(X_train, y_train, **fit_params)\n",
      "/Applications/anaconda3/envs/mongoDB/lib/python3.8/site-packages/sklearn/model_selection/_validation.py:681: DataConversionWarning: A column-vector y was passed when a 1d array was expected. Please change the shape of y to (n_samples,), for example using ravel().\n",
      "  estimator.fit(X_train, y_train, **fit_params)\n",
      "/Applications/anaconda3/envs/mongoDB/lib/python3.8/site-packages/sklearn/model_selection/_validation.py:681: DataConversionWarning: A column-vector y was passed when a 1d array was expected. Please change the shape of y to (n_samples,), for example using ravel().\n",
      "  estimator.fit(X_train, y_train, **fit_params)\n",
      "/Applications/anaconda3/envs/mongoDB/lib/python3.8/site-packages/sklearn/model_selection/_validation.py:681: DataConversionWarning: A column-vector y was passed when a 1d array was expected. Please change the shape of y to (n_samples,), for example using ravel().\n",
      "  estimator.fit(X_train, y_train, **fit_params)\n",
      "/Applications/anaconda3/envs/mongoDB/lib/python3.8/site-packages/sklearn/model_selection/_validation.py:681: DataConversionWarning: A column-vector y was passed when a 1d array was expected. Please change the shape of y to (n_samples,), for example using ravel().\n",
      "  estimator.fit(X_train, y_train, **fit_params)\n",
      "/Applications/anaconda3/envs/mongoDB/lib/python3.8/site-packages/sklearn/model_selection/_validation.py:681: DataConversionWarning: A column-vector y was passed when a 1d array was expected. Please change the shape of y to (n_samples,), for example using ravel().\n",
      "  estimator.fit(X_train, y_train, **fit_params)\n",
      "/Applications/anaconda3/envs/mongoDB/lib/python3.8/site-packages/sklearn/model_selection/_validation.py:681: DataConversionWarning: A column-vector y was passed when a 1d array was expected. Please change the shape of y to (n_samples,), for example using ravel().\n",
      "  estimator.fit(X_train, y_train, **fit_params)\n",
      "/Applications/anaconda3/envs/mongoDB/lib/python3.8/site-packages/sklearn/model_selection/_validation.py:681: DataConversionWarning: A column-vector y was passed when a 1d array was expected. Please change the shape of y to (n_samples,), for example using ravel().\n",
      "  estimator.fit(X_train, y_train, **fit_params)\n",
      "/Applications/anaconda3/envs/mongoDB/lib/python3.8/site-packages/sklearn/model_selection/_validation.py:681: DataConversionWarning: A column-vector y was passed when a 1d array was expected. Please change the shape of y to (n_samples,), for example using ravel().\n",
      "  estimator.fit(X_train, y_train, **fit_params)\n",
      "/Applications/anaconda3/envs/mongoDB/lib/python3.8/site-packages/sklearn/model_selection/_validation.py:681: DataConversionWarning: A column-vector y was passed when a 1d array was expected. Please change the shape of y to (n_samples,), for example using ravel().\n",
      "  estimator.fit(X_train, y_train, **fit_params)\n",
      "/Applications/anaconda3/envs/mongoDB/lib/python3.8/site-packages/sklearn/model_selection/_validation.py:681: DataConversionWarning: A column-vector y was passed when a 1d array was expected. Please change the shape of y to (n_samples,), for example using ravel().\n",
      "  estimator.fit(X_train, y_train, **fit_params)\n",
      "/Applications/anaconda3/envs/mongoDB/lib/python3.8/site-packages/sklearn/model_selection/_validation.py:681: DataConversionWarning: A column-vector y was passed when a 1d array was expected. Please change the shape of y to (n_samples,), for example using ravel().\n",
      "  estimator.fit(X_train, y_train, **fit_params)\n",
      "/Applications/anaconda3/envs/mongoDB/lib/python3.8/site-packages/sklearn/model_selection/_validation.py:681: DataConversionWarning: A column-vector y was passed when a 1d array was expected. Please change the shape of y to (n_samples,), for example using ravel().\n",
      "  estimator.fit(X_train, y_train, **fit_params)\n",
      "/Applications/anaconda3/envs/mongoDB/lib/python3.8/site-packages/sklearn/model_selection/_validation.py:681: DataConversionWarning: A column-vector y was passed when a 1d array was expected. Please change the shape of y to (n_samples,), for example using ravel().\n",
      "  estimator.fit(X_train, y_train, **fit_params)\n",
      "/Applications/anaconda3/envs/mongoDB/lib/python3.8/site-packages/sklearn/model_selection/_validation.py:681: DataConversionWarning: A column-vector y was passed when a 1d array was expected. Please change the shape of y to (n_samples,), for example using ravel().\n",
      "  estimator.fit(X_train, y_train, **fit_params)\n",
      "/Applications/anaconda3/envs/mongoDB/lib/python3.8/site-packages/sklearn/model_selection/_validation.py:681: DataConversionWarning: A column-vector y was passed when a 1d array was expected. Please change the shape of y to (n_samples,), for example using ravel().\n",
      "  estimator.fit(X_train, y_train, **fit_params)\n",
      "/Applications/anaconda3/envs/mongoDB/lib/python3.8/site-packages/sklearn/model_selection/_validation.py:681: DataConversionWarning: A column-vector y was passed when a 1d array was expected. Please change the shape of y to (n_samples,), for example using ravel().\n",
      "  estimator.fit(X_train, y_train, **fit_params)\n",
      "/Applications/anaconda3/envs/mongoDB/lib/python3.8/site-packages/sklearn/model_selection/_validation.py:681: DataConversionWarning: A column-vector y was passed when a 1d array was expected. Please change the shape of y to (n_samples,), for example using ravel().\n",
      "  estimator.fit(X_train, y_train, **fit_params)\n",
      "/Applications/anaconda3/envs/mongoDB/lib/python3.8/site-packages/sklearn/model_selection/_validation.py:681: DataConversionWarning: A column-vector y was passed when a 1d array was expected. Please change the shape of y to (n_samples,), for example using ravel().\n",
      "  estimator.fit(X_train, y_train, **fit_params)\n",
      "/Applications/anaconda3/envs/mongoDB/lib/python3.8/site-packages/sklearn/model_selection/_validation.py:681: DataConversionWarning: A column-vector y was passed when a 1d array was expected. Please change the shape of y to (n_samples,), for example using ravel().\n",
      "  estimator.fit(X_train, y_train, **fit_params)\n",
      "/Applications/anaconda3/envs/mongoDB/lib/python3.8/site-packages/sklearn/model_selection/_validation.py:681: DataConversionWarning: A column-vector y was passed when a 1d array was expected. Please change the shape of y to (n_samples,), for example using ravel().\n",
      "  estimator.fit(X_train, y_train, **fit_params)\n",
      "/Applications/anaconda3/envs/mongoDB/lib/python3.8/site-packages/sklearn/model_selection/_validation.py:681: DataConversionWarning: A column-vector y was passed when a 1d array was expected. Please change the shape of y to (n_samples,), for example using ravel().\n",
      "  estimator.fit(X_train, y_train, **fit_params)\n",
      "/Applications/anaconda3/envs/mongoDB/lib/python3.8/site-packages/sklearn/model_selection/_validation.py:681: DataConversionWarning: A column-vector y was passed when a 1d array was expected. Please change the shape of y to (n_samples,), for example using ravel().\n",
      "  estimator.fit(X_train, y_train, **fit_params)\n",
      "/Applications/anaconda3/envs/mongoDB/lib/python3.8/site-packages/sklearn/model_selection/_validation.py:681: DataConversionWarning: A column-vector y was passed when a 1d array was expected. Please change the shape of y to (n_samples,), for example using ravel().\n",
      "  estimator.fit(X_train, y_train, **fit_params)\n",
      "/Applications/anaconda3/envs/mongoDB/lib/python3.8/site-packages/sklearn/model_selection/_validation.py:681: DataConversionWarning: A column-vector y was passed when a 1d array was expected. Please change the shape of y to (n_samples,), for example using ravel().\n",
      "  estimator.fit(X_train, y_train, **fit_params)\n",
      "/Applications/anaconda3/envs/mongoDB/lib/python3.8/site-packages/sklearn/model_selection/_validation.py:681: DataConversionWarning: A column-vector y was passed when a 1d array was expected. Please change the shape of y to (n_samples,), for example using ravel().\n",
      "  estimator.fit(X_train, y_train, **fit_params)\n",
      "/Applications/anaconda3/envs/mongoDB/lib/python3.8/site-packages/sklearn/model_selection/_validation.py:681: DataConversionWarning: A column-vector y was passed when a 1d array was expected. Please change the shape of y to (n_samples,), for example using ravel().\n",
      "  estimator.fit(X_train, y_train, **fit_params)\n",
      "/Applications/anaconda3/envs/mongoDB/lib/python3.8/site-packages/sklearn/model_selection/_validation.py:681: DataConversionWarning: A column-vector y was passed when a 1d array was expected. Please change the shape of y to (n_samples,), for example using ravel().\n",
      "  estimator.fit(X_train, y_train, **fit_params)\n",
      "/Applications/anaconda3/envs/mongoDB/lib/python3.8/site-packages/sklearn/model_selection/_validation.py:681: DataConversionWarning: A column-vector y was passed when a 1d array was expected. Please change the shape of y to (n_samples,), for example using ravel().\n",
      "  estimator.fit(X_train, y_train, **fit_params)\n",
      "/Applications/anaconda3/envs/mongoDB/lib/python3.8/site-packages/sklearn/model_selection/_validation.py:681: DataConversionWarning: A column-vector y was passed when a 1d array was expected. Please change the shape of y to (n_samples,), for example using ravel().\n",
      "  estimator.fit(X_train, y_train, **fit_params)\n",
      "/Applications/anaconda3/envs/mongoDB/lib/python3.8/site-packages/sklearn/model_selection/_validation.py:681: DataConversionWarning: A column-vector y was passed when a 1d array was expected. Please change the shape of y to (n_samples,), for example using ravel().\n",
      "  estimator.fit(X_train, y_train, **fit_params)\n",
      "/Applications/anaconda3/envs/mongoDB/lib/python3.8/site-packages/sklearn/model_selection/_validation.py:681: DataConversionWarning: A column-vector y was passed when a 1d array was expected. Please change the shape of y to (n_samples,), for example using ravel().\n",
      "  estimator.fit(X_train, y_train, **fit_params)\n",
      "/Applications/anaconda3/envs/mongoDB/lib/python3.8/site-packages/sklearn/model_selection/_validation.py:681: DataConversionWarning: A column-vector y was passed when a 1d array was expected. Please change the shape of y to (n_samples,), for example using ravel().\n",
      "  estimator.fit(X_train, y_train, **fit_params)\n",
      "/Applications/anaconda3/envs/mongoDB/lib/python3.8/site-packages/sklearn/model_selection/_validation.py:681: DataConversionWarning: A column-vector y was passed when a 1d array was expected. Please change the shape of y to (n_samples,), for example using ravel().\n",
      "  estimator.fit(X_train, y_train, **fit_params)\n",
      "/Applications/anaconda3/envs/mongoDB/lib/python3.8/site-packages/sklearn/model_selection/_validation.py:681: DataConversionWarning: A column-vector y was passed when a 1d array was expected. Please change the shape of y to (n_samples,), for example using ravel().\n",
      "  estimator.fit(X_train, y_train, **fit_params)\n",
      "/Applications/anaconda3/envs/mongoDB/lib/python3.8/site-packages/sklearn/model_selection/_validation.py:681: DataConversionWarning: A column-vector y was passed when a 1d array was expected. Please change the shape of y to (n_samples,), for example using ravel().\n",
      "  estimator.fit(X_train, y_train, **fit_params)\n",
      "/Applications/anaconda3/envs/mongoDB/lib/python3.8/site-packages/sklearn/model_selection/_validation.py:681: DataConversionWarning: A column-vector y was passed when a 1d array was expected. Please change the shape of y to (n_samples,), for example using ravel().\n",
      "  estimator.fit(X_train, y_train, **fit_params)\n",
      "/Applications/anaconda3/envs/mongoDB/lib/python3.8/site-packages/sklearn/model_selection/_validation.py:681: DataConversionWarning: A column-vector y was passed when a 1d array was expected. Please change the shape of y to (n_samples,), for example using ravel().\n",
      "  estimator.fit(X_train, y_train, **fit_params)\n",
      "/Applications/anaconda3/envs/mongoDB/lib/python3.8/site-packages/sklearn/model_selection/_validation.py:681: DataConversionWarning: A column-vector y was passed when a 1d array was expected. Please change the shape of y to (n_samples,), for example using ravel().\n",
      "  estimator.fit(X_train, y_train, **fit_params)\n",
      "/Applications/anaconda3/envs/mongoDB/lib/python3.8/site-packages/sklearn/model_selection/_validation.py:681: DataConversionWarning: A column-vector y was passed when a 1d array was expected. Please change the shape of y to (n_samples,), for example using ravel().\n",
      "  estimator.fit(X_train, y_train, **fit_params)\n",
      "/Applications/anaconda3/envs/mongoDB/lib/python3.8/site-packages/sklearn/model_selection/_validation.py:681: DataConversionWarning: A column-vector y was passed when a 1d array was expected. Please change the shape of y to (n_samples,), for example using ravel().\n",
      "  estimator.fit(X_train, y_train, **fit_params)\n",
      "/Applications/anaconda3/envs/mongoDB/lib/python3.8/site-packages/sklearn/model_selection/_validation.py:681: DataConversionWarning: A column-vector y was passed when a 1d array was expected. Please change the shape of y to (n_samples,), for example using ravel().\n",
      "  estimator.fit(X_train, y_train, **fit_params)\n",
      "/Applications/anaconda3/envs/mongoDB/lib/python3.8/site-packages/sklearn/model_selection/_validation.py:681: DataConversionWarning: A column-vector y was passed when a 1d array was expected. Please change the shape of y to (n_samples,), for example using ravel().\n",
      "  estimator.fit(X_train, y_train, **fit_params)\n",
      "/Applications/anaconda3/envs/mongoDB/lib/python3.8/site-packages/sklearn/model_selection/_validation.py:681: DataConversionWarning: A column-vector y was passed when a 1d array was expected. Please change the shape of y to (n_samples,), for example using ravel().\n",
      "  estimator.fit(X_train, y_train, **fit_params)\n",
      "/Applications/anaconda3/envs/mongoDB/lib/python3.8/site-packages/sklearn/model_selection/_validation.py:681: DataConversionWarning: A column-vector y was passed when a 1d array was expected. Please change the shape of y to (n_samples,), for example using ravel().\n",
      "  estimator.fit(X_train, y_train, **fit_params)\n",
      "/Applications/anaconda3/envs/mongoDB/lib/python3.8/site-packages/sklearn/model_selection/_validation.py:681: DataConversionWarning: A column-vector y was passed when a 1d array was expected. Please change the shape of y to (n_samples,), for example using ravel().\n",
      "  estimator.fit(X_train, y_train, **fit_params)\n",
      "/Applications/anaconda3/envs/mongoDB/lib/python3.8/site-packages/sklearn/model_selection/_validation.py:681: DataConversionWarning: A column-vector y was passed when a 1d array was expected. Please change the shape of y to (n_samples,), for example using ravel().\n",
      "  estimator.fit(X_train, y_train, **fit_params)\n",
      "/Applications/anaconda3/envs/mongoDB/lib/python3.8/site-packages/sklearn/model_selection/_validation.py:681: DataConversionWarning: A column-vector y was passed when a 1d array was expected. Please change the shape of y to (n_samples,), for example using ravel().\n",
      "  estimator.fit(X_train, y_train, **fit_params)\n",
      "/Applications/anaconda3/envs/mongoDB/lib/python3.8/site-packages/sklearn/model_selection/_validation.py:681: DataConversionWarning: A column-vector y was passed when a 1d array was expected. Please change the shape of y to (n_samples,), for example using ravel().\n",
      "  estimator.fit(X_train, y_train, **fit_params)\n",
      "/Applications/anaconda3/envs/mongoDB/lib/python3.8/site-packages/sklearn/model_selection/_validation.py:681: DataConversionWarning: A column-vector y was passed when a 1d array was expected. Please change the shape of y to (n_samples,), for example using ravel().\n",
      "  estimator.fit(X_train, y_train, **fit_params)\n",
      "/Applications/anaconda3/envs/mongoDB/lib/python3.8/site-packages/sklearn/model_selection/_validation.py:681: DataConversionWarning: A column-vector y was passed when a 1d array was expected. Please change the shape of y to (n_samples,), for example using ravel().\n",
      "  estimator.fit(X_train, y_train, **fit_params)\n",
      "/Applications/anaconda3/envs/mongoDB/lib/python3.8/site-packages/sklearn/model_selection/_validation.py:681: DataConversionWarning: A column-vector y was passed when a 1d array was expected. Please change the shape of y to (n_samples,), for example using ravel().\n",
      "  estimator.fit(X_train, y_train, **fit_params)\n",
      "/Applications/anaconda3/envs/mongoDB/lib/python3.8/site-packages/sklearn/model_selection/_validation.py:681: DataConversionWarning: A column-vector y was passed when a 1d array was expected. Please change the shape of y to (n_samples,), for example using ravel().\n",
      "  estimator.fit(X_train, y_train, **fit_params)\n",
      "/Applications/anaconda3/envs/mongoDB/lib/python3.8/site-packages/sklearn/model_selection/_validation.py:681: DataConversionWarning: A column-vector y was passed when a 1d array was expected. Please change the shape of y to (n_samples,), for example using ravel().\n",
      "  estimator.fit(X_train, y_train, **fit_params)\n",
      "/Applications/anaconda3/envs/mongoDB/lib/python3.8/site-packages/sklearn/model_selection/_validation.py:681: DataConversionWarning: A column-vector y was passed when a 1d array was expected. Please change the shape of y to (n_samples,), for example using ravel().\n",
      "  estimator.fit(X_train, y_train, **fit_params)\n",
      "/Applications/anaconda3/envs/mongoDB/lib/python3.8/site-packages/sklearn/model_selection/_validation.py:681: DataConversionWarning: A column-vector y was passed when a 1d array was expected. Please change the shape of y to (n_samples,), for example using ravel().\n",
      "  estimator.fit(X_train, y_train, **fit_params)\n",
      "/Applications/anaconda3/envs/mongoDB/lib/python3.8/site-packages/sklearn/model_selection/_validation.py:681: DataConversionWarning: A column-vector y was passed when a 1d array was expected. Please change the shape of y to (n_samples,), for example using ravel().\n",
      "  estimator.fit(X_train, y_train, **fit_params)\n",
      "/Applications/anaconda3/envs/mongoDB/lib/python3.8/site-packages/sklearn/model_selection/_validation.py:681: DataConversionWarning: A column-vector y was passed when a 1d array was expected. Please change the shape of y to (n_samples,), for example using ravel().\n",
      "  estimator.fit(X_train, y_train, **fit_params)\n",
      "/Applications/anaconda3/envs/mongoDB/lib/python3.8/site-packages/sklearn/model_selection/_validation.py:681: DataConversionWarning: A column-vector y was passed when a 1d array was expected. Please change the shape of y to (n_samples,), for example using ravel().\n",
      "  estimator.fit(X_train, y_train, **fit_params)\n",
      "/Applications/anaconda3/envs/mongoDB/lib/python3.8/site-packages/sklearn/model_selection/_validation.py:681: DataConversionWarning: A column-vector y was passed when a 1d array was expected. Please change the shape of y to (n_samples,), for example using ravel().\n",
      "  estimator.fit(X_train, y_train, **fit_params)\n",
      "/Applications/anaconda3/envs/mongoDB/lib/python3.8/site-packages/sklearn/model_selection/_validation.py:681: DataConversionWarning: A column-vector y was passed when a 1d array was expected. Please change the shape of y to (n_samples,), for example using ravel().\n",
      "  estimator.fit(X_train, y_train, **fit_params)\n",
      "/Applications/anaconda3/envs/mongoDB/lib/python3.8/site-packages/sklearn/model_selection/_validation.py:681: DataConversionWarning: A column-vector y was passed when a 1d array was expected. Please change the shape of y to (n_samples,), for example using ravel().\n",
      "  estimator.fit(X_train, y_train, **fit_params)\n",
      "/Applications/anaconda3/envs/mongoDB/lib/python3.8/site-packages/sklearn/model_selection/_validation.py:681: DataConversionWarning: A column-vector y was passed when a 1d array was expected. Please change the shape of y to (n_samples,), for example using ravel().\n",
      "  estimator.fit(X_train, y_train, **fit_params)\n",
      "/Applications/anaconda3/envs/mongoDB/lib/python3.8/site-packages/sklearn/model_selection/_validation.py:681: DataConversionWarning: A column-vector y was passed when a 1d array was expected. Please change the shape of y to (n_samples,), for example using ravel().\n",
      "  estimator.fit(X_train, y_train, **fit_params)\n",
      "/Applications/anaconda3/envs/mongoDB/lib/python3.8/site-packages/sklearn/model_selection/_validation.py:681: DataConversionWarning: A column-vector y was passed when a 1d array was expected. Please change the shape of y to (n_samples,), for example using ravel().\n",
      "  estimator.fit(X_train, y_train, **fit_params)\n",
      "/Applications/anaconda3/envs/mongoDB/lib/python3.8/site-packages/sklearn/model_selection/_validation.py:681: DataConversionWarning: A column-vector y was passed when a 1d array was expected. Please change the shape of y to (n_samples,), for example using ravel().\n",
      "  estimator.fit(X_train, y_train, **fit_params)\n",
      "/Applications/anaconda3/envs/mongoDB/lib/python3.8/site-packages/sklearn/model_selection/_validation.py:681: DataConversionWarning: A column-vector y was passed when a 1d array was expected. Please change the shape of y to (n_samples,), for example using ravel().\n",
      "  estimator.fit(X_train, y_train, **fit_params)\n",
      "/Applications/anaconda3/envs/mongoDB/lib/python3.8/site-packages/sklearn/model_selection/_validation.py:681: DataConversionWarning: A column-vector y was passed when a 1d array was expected. Please change the shape of y to (n_samples,), for example using ravel().\n",
      "  estimator.fit(X_train, y_train, **fit_params)\n",
      "/Applications/anaconda3/envs/mongoDB/lib/python3.8/site-packages/sklearn/model_selection/_validation.py:681: DataConversionWarning: A column-vector y was passed when a 1d array was expected. Please change the shape of y to (n_samples,), for example using ravel().\n",
      "  estimator.fit(X_train, y_train, **fit_params)\n",
      "/Applications/anaconda3/envs/mongoDB/lib/python3.8/site-packages/sklearn/model_selection/_validation.py:681: DataConversionWarning: A column-vector y was passed when a 1d array was expected. Please change the shape of y to (n_samples,), for example using ravel().\n",
      "  estimator.fit(X_train, y_train, **fit_params)\n",
      "/Applications/anaconda3/envs/mongoDB/lib/python3.8/site-packages/sklearn/model_selection/_validation.py:681: DataConversionWarning: A column-vector y was passed when a 1d array was expected. Please change the shape of y to (n_samples,), for example using ravel().\n",
      "  estimator.fit(X_train, y_train, **fit_params)\n",
      "/Applications/anaconda3/envs/mongoDB/lib/python3.8/site-packages/sklearn/model_selection/_validation.py:681: DataConversionWarning: A column-vector y was passed when a 1d array was expected. Please change the shape of y to (n_samples,), for example using ravel().\n",
      "  estimator.fit(X_train, y_train, **fit_params)\n",
      "/Applications/anaconda3/envs/mongoDB/lib/python3.8/site-packages/sklearn/model_selection/_validation.py:681: DataConversionWarning: A column-vector y was passed when a 1d array was expected. Please change the shape of y to (n_samples,), for example using ravel().\n",
      "  estimator.fit(X_train, y_train, **fit_params)\n",
      "/Applications/anaconda3/envs/mongoDB/lib/python3.8/site-packages/sklearn/model_selection/_validation.py:681: DataConversionWarning: A column-vector y was passed when a 1d array was expected. Please change the shape of y to (n_samples,), for example using ravel().\n",
      "  estimator.fit(X_train, y_train, **fit_params)\n",
      "/Applications/anaconda3/envs/mongoDB/lib/python3.8/site-packages/sklearn/model_selection/_validation.py:681: DataConversionWarning: A column-vector y was passed when a 1d array was expected. Please change the shape of y to (n_samples,), for example using ravel().\n",
      "  estimator.fit(X_train, y_train, **fit_params)\n",
      "/Applications/anaconda3/envs/mongoDB/lib/python3.8/site-packages/sklearn/model_selection/_validation.py:681: DataConversionWarning: A column-vector y was passed when a 1d array was expected. Please change the shape of y to (n_samples,), for example using ravel().\n",
      "  estimator.fit(X_train, y_train, **fit_params)\n",
      "/Applications/anaconda3/envs/mongoDB/lib/python3.8/site-packages/sklearn/model_selection/_validation.py:681: DataConversionWarning: A column-vector y was passed when a 1d array was expected. Please change the shape of y to (n_samples,), for example using ravel().\n",
      "  estimator.fit(X_train, y_train, **fit_params)\n",
      "/Applications/anaconda3/envs/mongoDB/lib/python3.8/site-packages/sklearn/model_selection/_validation.py:681: DataConversionWarning: A column-vector y was passed when a 1d array was expected. Please change the shape of y to (n_samples,), for example using ravel().\n",
      "  estimator.fit(X_train, y_train, **fit_params)\n",
      "/Applications/anaconda3/envs/mongoDB/lib/python3.8/site-packages/sklearn/model_selection/_validation.py:681: DataConversionWarning: A column-vector y was passed when a 1d array was expected. Please change the shape of y to (n_samples,), for example using ravel().\n",
      "  estimator.fit(X_train, y_train, **fit_params)\n",
      "/Applications/anaconda3/envs/mongoDB/lib/python3.8/site-packages/sklearn/model_selection/_validation.py:681: DataConversionWarning: A column-vector y was passed when a 1d array was expected. Please change the shape of y to (n_samples,), for example using ravel().\n",
      "  estimator.fit(X_train, y_train, **fit_params)\n",
      "/Applications/anaconda3/envs/mongoDB/lib/python3.8/site-packages/sklearn/model_selection/_validation.py:681: DataConversionWarning: A column-vector y was passed when a 1d array was expected. Please change the shape of y to (n_samples,), for example using ravel().\n",
      "  estimator.fit(X_train, y_train, **fit_params)\n",
      "/Applications/anaconda3/envs/mongoDB/lib/python3.8/site-packages/sklearn/model_selection/_validation.py:681: DataConversionWarning: A column-vector y was passed when a 1d array was expected. Please change the shape of y to (n_samples,), for example using ravel().\n",
      "  estimator.fit(X_train, y_train, **fit_params)\n",
      "/Applications/anaconda3/envs/mongoDB/lib/python3.8/site-packages/sklearn/model_selection/_validation.py:681: DataConversionWarning: A column-vector y was passed when a 1d array was expected. Please change the shape of y to (n_samples,), for example using ravel().\n",
      "  estimator.fit(X_train, y_train, **fit_params)\n",
      "/Applications/anaconda3/envs/mongoDB/lib/python3.8/site-packages/sklearn/model_selection/_validation.py:681: DataConversionWarning: A column-vector y was passed when a 1d array was expected. Please change the shape of y to (n_samples,), for example using ravel().\n",
      "  estimator.fit(X_train, y_train, **fit_params)\n",
      "/Applications/anaconda3/envs/mongoDB/lib/python3.8/site-packages/sklearn/model_selection/_validation.py:681: DataConversionWarning: A column-vector y was passed when a 1d array was expected. Please change the shape of y to (n_samples,), for example using ravel().\n",
      "  estimator.fit(X_train, y_train, **fit_params)\n",
      "/Applications/anaconda3/envs/mongoDB/lib/python3.8/site-packages/sklearn/model_selection/_validation.py:681: DataConversionWarning: A column-vector y was passed when a 1d array was expected. Please change the shape of y to (n_samples,), for example using ravel().\n",
      "  estimator.fit(X_train, y_train, **fit_params)\n",
      "/Applications/anaconda3/envs/mongoDB/lib/python3.8/site-packages/sklearn/model_selection/_validation.py:681: DataConversionWarning: A column-vector y was passed when a 1d array was expected. Please change the shape of y to (n_samples,), for example using ravel().\n",
      "  estimator.fit(X_train, y_train, **fit_params)\n",
      "/Applications/anaconda3/envs/mongoDB/lib/python3.8/site-packages/sklearn/model_selection/_validation.py:681: DataConversionWarning: A column-vector y was passed when a 1d array was expected. Please change the shape of y to (n_samples,), for example using ravel().\n",
      "  estimator.fit(X_train, y_train, **fit_params)\n",
      "/Applications/anaconda3/envs/mongoDB/lib/python3.8/site-packages/sklearn/model_selection/_validation.py:681: DataConversionWarning: A column-vector y was passed when a 1d array was expected. Please change the shape of y to (n_samples,), for example using ravel().\n",
      "  estimator.fit(X_train, y_train, **fit_params)\n",
      "/Applications/anaconda3/envs/mongoDB/lib/python3.8/site-packages/sklearn/model_selection/_validation.py:681: DataConversionWarning: A column-vector y was passed when a 1d array was expected. Please change the shape of y to (n_samples,), for example using ravel().\n",
      "  estimator.fit(X_train, y_train, **fit_params)\n",
      "/Applications/anaconda3/envs/mongoDB/lib/python3.8/site-packages/sklearn/model_selection/_validation.py:681: DataConversionWarning: A column-vector y was passed when a 1d array was expected. Please change the shape of y to (n_samples,), for example using ravel().\n",
      "  estimator.fit(X_train, y_train, **fit_params)\n",
      "/Applications/anaconda3/envs/mongoDB/lib/python3.8/site-packages/sklearn/model_selection/_validation.py:681: DataConversionWarning: A column-vector y was passed when a 1d array was expected. Please change the shape of y to (n_samples,), for example using ravel().\n",
      "  estimator.fit(X_train, y_train, **fit_params)\n",
      "/Applications/anaconda3/envs/mongoDB/lib/python3.8/site-packages/sklearn/model_selection/_validation.py:681: DataConversionWarning: A column-vector y was passed when a 1d array was expected. Please change the shape of y to (n_samples,), for example using ravel().\n",
      "  estimator.fit(X_train, y_train, **fit_params)\n",
      "/Applications/anaconda3/envs/mongoDB/lib/python3.8/site-packages/sklearn/model_selection/_validation.py:681: DataConversionWarning: A column-vector y was passed when a 1d array was expected. Please change the shape of y to (n_samples,), for example using ravel().\n",
      "  estimator.fit(X_train, y_train, **fit_params)\n",
      "/Applications/anaconda3/envs/mongoDB/lib/python3.8/site-packages/sklearn/model_selection/_validation.py:681: DataConversionWarning: A column-vector y was passed when a 1d array was expected. Please change the shape of y to (n_samples,), for example using ravel().\n",
      "  estimator.fit(X_train, y_train, **fit_params)\n",
      "/Applications/anaconda3/envs/mongoDB/lib/python3.8/site-packages/sklearn/model_selection/_validation.py:681: DataConversionWarning: A column-vector y was passed when a 1d array was expected. Please change the shape of y to (n_samples,), for example using ravel().\n",
      "  estimator.fit(X_train, y_train, **fit_params)\n",
      "/Applications/anaconda3/envs/mongoDB/lib/python3.8/site-packages/sklearn/model_selection/_validation.py:681: DataConversionWarning: A column-vector y was passed when a 1d array was expected. Please change the shape of y to (n_samples,), for example using ravel().\n",
      "  estimator.fit(X_train, y_train, **fit_params)\n",
      "/Applications/anaconda3/envs/mongoDB/lib/python3.8/site-packages/sklearn/model_selection/_validation.py:681: DataConversionWarning: A column-vector y was passed when a 1d array was expected. Please change the shape of y to (n_samples,), for example using ravel().\n",
      "  estimator.fit(X_train, y_train, **fit_params)\n",
      "/Applications/anaconda3/envs/mongoDB/lib/python3.8/site-packages/sklearn/model_selection/_validation.py:681: DataConversionWarning: A column-vector y was passed when a 1d array was expected. Please change the shape of y to (n_samples,), for example using ravel().\n",
      "  estimator.fit(X_train, y_train, **fit_params)\n",
      "/Applications/anaconda3/envs/mongoDB/lib/python3.8/site-packages/sklearn/model_selection/_validation.py:681: DataConversionWarning: A column-vector y was passed when a 1d array was expected. Please change the shape of y to (n_samples,), for example using ravel().\n",
      "  estimator.fit(X_train, y_train, **fit_params)\n",
      "/Applications/anaconda3/envs/mongoDB/lib/python3.8/site-packages/sklearn/model_selection/_search.py:926: DataConversionWarning: A column-vector y was passed when a 1d array was expected. Please change the shape of y to (n_samples,), for example using ravel().\n",
      "  self.best_estimator_.fit(X, y, **fit_params)\n"
     ]
    },
    {
     "data": {
      "text/plain": [
       "GridSearchCV(cv=StratifiedKFold(n_splits=5, random_state=1234, shuffle=True),\n",
       "             estimator=RandomForestClassifier(n_estimators=150, n_jobs=-1),\n",
       "             n_jobs=-1,\n",
       "             param_grid={'criterion': ['gini', 'entropy'],\n",
       "                         'max_depth': [5, 10, 15, 20, 25],\n",
       "                         'max_features': ['sqrt', 'log2']},\n",
       "             scoring='f1')"
      ]
     },
     "execution_count": 19,
     "metadata": {},
     "output_type": "execute_result"
    }
   ],
   "source": [
    "#from sklearn.model_selection import StratifiedKFold, GridSearchCV\n",
    "#gridParams = {\n",
    "#    'criterion': [\"gini\", \"entropy\"],\n",
    "#    'max_features': [\"sqrt\", \"log2\"],\n",
    "#    'max_depth': [5, 10, 15, 20, 25]\n",
    "#}\n",
    "#rfCLF = RandomForestClassifier(n_estimators = 150, n_jobs = -1)\n",
    "#stratified = StratifiedKFold(n_splits = 5, shuffle = True, random_state = 1234)\n",
    "#gridSearch = GridSearchCV(estimator = rfCLF,\n",
    "#                          param_grid = gridParams,\n",
    "#                          scoring = 'f1',\n",
    "#                          cv = stratified,\n",
    "#                          n_jobs = -1)\n",
    "#gridSearch.fit(X_train, Y_train)"
   ]
  },
  {
   "cell_type": "markdown",
   "metadata": {},
   "source": [
    "# 6 Prediction e valutazione dei modelli\n",
    "Ora che i modelli sono stati addestrati, è finalmente possibile iniziare la predizione di Severity utilizzando il test set. Di conseguenza, viene utilizzato il metodo .transform() che restituisce direttamente il dataframe contenente la predizione dei modelli utilizzati e la relativa label corretta.\n",
    "Per la valutazione dei modelli appena addestrati, vengono utilizzate le metriche fornite dalle librerie Scikit-learn , ovvero librerie di machine learning open-source scritte in Python.\n",
    "Tutte le metriche fornite dalle librerie da Scikit-learn utilizzano come parametri di input y_true e y_pred . Queste rappresentano rispettivamente le label verità e le label predette dal classificatore. Tali parametri possono essere prelevati direttamente dai dataframe ottenuti nel passaggio precedente:"
   ]
  },
  {
   "cell_type": "markdown",
   "metadata": {},
   "source": [
    "## 6.1 Matrice di confusione\n",
    "L'accuratezza è semplicemente la percentuale delle istanze classificate correttamente. Calcoliamo quindi l'accuracy dei modelli addestrati:"
   ]
  },
  {
   "cell_type": "code",
   "execution_count": 23,
   "metadata": {},
   "outputs": [
    {
     "data": {
      "image/png": "[encoded data removed]",
      "text/plain": [
       "<Figure size 432x288 with 2 Axes>"
      ]
     },
     "metadata": {},
     "output_type": "display_data"
    }
   ],
   "source": [
    "from sklearn.metrics import confusion_matrix, ConfusionMatrixDisplay\n",
    "\n",
    "trainPredetto = gridSearch.predict(X_train)\n",
    "testPredetto = gridSearch.predict(X_test)\n",
    "\n",
    "cm = confusion_matrix(Y_test, testPredetto, labels=[0, 1])\n",
    "\n",
    "cmatrix = ConfusionMatrixDisplay(confusion_matrix=cm, display_labels=[\"Non Frode\",\"Frode\"])\n",
    "cmatrix.plot()\n",
    "plt.title(\"Matrice di Confusione\")\n",
    "plt.show()\n"
   ]
  },
  {
   "cell_type": "markdown",
   "metadata": {},
   "source": [
    "## 6.2 Percentuali successo su Train-set e Test-set"
   ]
  },
  {
   "cell_type": "code",
   "execution_count": 21,
   "metadata": {},
   "outputs": [
    {
     "name": "stdout",
     "output_type": "stream",
     "text": [
      "Train score     : 100.00 %\n",
      "Test Accuracy     : 99.93 %\n",
      "Test Precision     : 73.91 %\n",
      "Test Recall     : 89.47 %\n",
      "Test F1     : 80.95 %\n",
      "Accuratezza riconoscimento frodi : 89.47 %\n",
      "Accuratezza riconoscimento non frodi : 99.95 %\n"
     ]
    }
   ],
   "source": [
    "from sklearn.metrics import accuracy_score\n",
    "\n",
    "veriNegativi = cm[0][0]\n",
    "veriPositivi = cm[1][1]\n",
    "falsiPositivi = cm[0][1]\n",
    "falsiNegativi = cm[1][0]   \n",
    "\n",
    "nonFrodiTotali = veriNegativi + falsiPositivi\n",
    "frodiTotali = veriPositivi + falsiNegativi\n",
    "\n",
    "percentualeDiSuccessoNonFrodi = veriNegativi / nonFrodiTotali\n",
    "percentualeDiSuccessoFrodi = veriPositivi / frodiTotali\n",
    "\n",
    "precision = veriPositivi/(veriPositivi + falsiPositivi)\n",
    "recall = veriPositivi/(veriPositivi + falsiNegativi)\n",
    "print(\"Train score     : {:.2f} %\".format(accuracy_score(trainPredetto, Y_train) * 100))\n",
    "print(\"Test Accuracy     : {:.2f} %\".format(accuracy_score(testPredetto, Y_test) * 100))\n",
    "print(\"Test Precision     : {:.2f} %\".format(100 * precision))\n",
    "print(\"Test Recall     : {:.2f} %\".format(100 * recall))\n",
    "print(\"Test F1     : {:.2f} %\".format(100 * 2 * precision * recall /(precision + recall)))\n",
    "\n",
    "print(\"Accuratezza riconoscimento frodi : {:.2f} %\".format(percentualeDiSuccessoFrodi*100))\n",
    "print(\"Accuratezza riconoscimento non frodi : {:.2f} %\".format(percentualeDiSuccessoNonFrodi*100))\n"
   ]
  },
  {
   "cell_type": "markdown",
   "metadata": {},
   "source": [
    "## 6.X AUPRC"
   ]
  },
  {
   "cell_type": "code",
   "execution_count": 22,
   "metadata": {},
   "outputs": [
    {
     "name": "stdout",
     "output_type": "stream",
     "text": [
      "0.0016741268107003137\t0.661503454996092\n"
     ]
    },
    {
     "data": {
      "image/png": "[encoded data removed]",
      "text/plain": [
       "<Figure size 432x288 with 1 Axes>"
      ]
     },
     "metadata": {},
     "output_type": "display_data"
    }
   ],
   "source": [
    "from sklearn.metrics import average_precision_score\n",
    "\n",
    "baseline = frodiTotali/(frodiTotali + nonFrodiTotali)\n",
    "auprc = average_precision_score(Y_test, testPredetto)\n",
    "\n",
    "print(baseline, auprc, sep=\"\\t\")\n",
    "\n",
    "from sklearn.metrics import PrecisionRecallDisplay\n",
    "\n",
    "display = PrecisionRecallDisplay.from_estimator(gridSearch, X_test, Y_test)\n",
    "\n",
    "_ = display.ax_.set_title(\"2-class Precision-Recall curve\")"
   ]
  },
  {
   "cell_type": "markdown",
   "metadata": {},
   "source": [
    "\n",
    "\n",
    "### 6.10.2 Balanced Accuracy\n",
    "Nei casi in cui il dataset non sia bilanciato nel migliore dei modi, come nel nostro caso, ha senso anche la valutazione della balanced accuracy che calcola la media aritmetica delle accuratezze specifiche delle classi:\n",
    "\n",
    "### 6.10.3 F1 Micro\n",
    "Valutazione della F1 micro dei modelli addestrati:\n",
    "\n",
    "### 6.10.4 F1 Macro\n",
    "Valutazione della F1 macro dei modelli addestrati:"
   ]
  },
  {
   "cell_type": "markdown",
   "metadata": {},
   "source": [
    "$O = \\sum \\limits _{i, j : i < j} (||X_{i} - X_{j}|| - δ_{ij})^2 $"
   ]
  },
  {
   "cell_type": "code",
   "execution_count": 14,
   "metadata": {},
   "outputs": [
    {
     "name": "stderr",
     "output_type": "stream",
     "text": [
      "/Applications/anaconda3/envs/mongoDB/lib/python3.8/site-packages/sklearn/neural_network/_multilayer_perceptron.py:1109: DataConversionWarning: A column-vector y was passed when a 1d array was expected. Please change the shape of y to (n_samples, ), for example using ravel().\n",
      "  y = column_or_1d(y, warn=True)\n",
      "/Applications/anaconda3/envs/mongoDB/lib/python3.8/site-packages/sklearn/neural_network/_multilayer_perceptron.py:1109: DataConversionWarning: A column-vector y was passed when a 1d array was expected. Please change the shape of y to (n_samples, ), for example using ravel().\n",
      "  y = column_or_1d(y, warn=True)\n",
      "/Applications/anaconda3/envs/mongoDB/lib/python3.8/site-packages/sklearn/neural_network/_multilayer_perceptron.py:1109: DataConversionWarning: A column-vector y was passed when a 1d array was expected. Please change the shape of y to (n_samples, ), for example using ravel().\n",
      "  y = column_or_1d(y, warn=True)\n"
     ]
    }
   ],
   "source": [
    "from sklearn.metrics import confusion_matrix, ConfusionMatrixDisplay\n",
    "from sklearn.neural_network import MLPClassifier\n",
    "x = [\"relu\"] # activation\n",
    "y = [\"adam\"] # solver\n",
    "z = [(100, 10), (100, 20), (100, 30)] # hidden_layer_sizes\n",
    "\n",
    "best_model = None\n",
    "bestF1 = 0\n",
    "for i in x:\n",
    "    for j in y:\n",
    "        for k in z:\n",
    "            rfCLF = MLPClassifier(activation = i, solver = j, hidden_layer_sizes=k, max_iter=10000)\n",
    "            rfCLF.fit(X_train, Y_train)\n",
    "            testPredetto = rfCLF.predict(X_test)\n",
    "            \n",
    "            cm = confusion_matrix(Y_test, testPredetto, labels=[0, 1])\n",
    "            veriNegativi = cm[0][0]\n",
    "            veriPositivi = cm[1][1]\n",
    "            falsiPositivi = cm[0][1]\n",
    "            falsiNegativi = cm[1][0]   \n",
    "\n",
    "            precision = veriPositivi/(veriPositivi + falsiPositivi)\n",
    "            recall = veriPositivi/(veriPositivi + falsiNegativi)\n",
    "            f1 = 100 * 2 * precision * recall /(precision + recall)\n",
    "            if f1 > bestF1:\n",
    "                bestF1 = f1\n",
    "                best_model = rfCLF"
   ]
  },
  {
   "cell_type": "code",
   "execution_count": 15,
   "metadata": {},
   "outputs": [
    {
     "data": {
      "image/png": "[encoded data removed]",
      "text/plain": [
       "<Figure size 432x288 with 2 Axes>"
      ]
     },
     "metadata": {
      "needs_background": "light"
     },
     "output_type": "display_data"
    },
    {
     "name": "stdout",
     "output_type": "stream",
     "text": [
      "Train score     : 93.52 %\n",
      "Test Accuracy     : 99.70 %\n",
      "Test Precision     : 34.71 %\n",
      "Test Recall     : 88.42 %\n",
      "Test F1     : 49.85 %\n",
      "Accuratezza riconoscimento frodi : 88.42 %\n",
      "Accuratezza riconoscimento non frodi : 99.72 %\n",
      "0.0016741268107003137\t0.30710989671901195\n"
     ]
    },
    {
     "data": {
      "image/png": "[encoded data removed]",
      "text/plain": [
       "<Figure size 432x288 with 1 Axes>"
      ]
     },
     "metadata": {
      "needs_background": "light"
     },
     "output_type": "display_data"
    }
   ],
   "source": [
    "from sklearn.metrics import confusion_matrix, ConfusionMatrixDisplay\n",
    "\n",
    "trainPredetto = best_model.predict(X_train)\n",
    "testPredetto = best_model.predict(X_test)\n",
    "\n",
    "cm = confusion_matrix(Y_test, testPredetto, labels=[0, 1])\n",
    "\n",
    "cmatrix = ConfusionMatrixDisplay(confusion_matrix=cm, display_labels=[\"Non Frode\",\"Frode\"])\n",
    "cmatrix.plot()\n",
    "plt.title(\"Matrice di Confusione\")\n",
    "plt.show()\n",
    "\n",
    "from sklearn.metrics import accuracy_score\n",
    "\n",
    "veriNegativi = cm[0][0]\n",
    "veriPositivi = cm[1][1]\n",
    "falsiPositivi = cm[0][1]\n",
    "falsiNegativi = cm[1][0]   \n",
    "\n",
    "nonFrodiTotali = veriNegativi + falsiPositivi\n",
    "frodiTotali = veriPositivi + falsiNegativi\n",
    "\n",
    "percentualeDiSuccessoNonFrodi = veriNegativi / nonFrodiTotali\n",
    "percentualeDiSuccessoFrodi = veriPositivi / frodiTotali\n",
    "\n",
    "precision = veriPositivi/(veriPositivi + falsiPositivi)\n",
    "recall = veriPositivi/(veriPositivi + falsiNegativi)\n",
    "print(\"Train score     : {:.2f} %\".format(accuracy_score(trainPredetto, Y_train) * 100))\n",
    "print(\"Test Accuracy     : {:.2f} %\".format(accuracy_score(testPredetto, Y_test) * 100))\n",
    "print(\"Test Precision     : {:.2f} %\".format(100 * precision))\n",
    "print(\"Test Recall     : {:.2f} %\".format(100 * recall))\n",
    "print(\"Test F1     : {:.2f} %\".format(100 * 2 * precision * recall /(precision + recall)))\n",
    "\n",
    "print(\"Accuratezza riconoscimento frodi : {:.2f} %\".format(percentualeDiSuccessoFrodi*100))\n",
    "print(\"Accuratezza riconoscimento non frodi : {:.2f} %\".format(percentualeDiSuccessoNonFrodi*100))\n",
    "\n",
    "from sklearn.metrics import average_precision_score\n",
    "\n",
    "baseline = frodiTotali/(frodiTotali + nonFrodiTotali)\n",
    "auprc = average_precision_score(Y_test, testPredetto)\n",
    "\n",
    "print(baseline, auprc, sep=\"\\t\")\n",
    "\n",
    "from sklearn.metrics import PrecisionRecallDisplay\n",
    "\n",
    "display = PrecisionRecallDisplay.from_estimator(best_model, X_test, Y_test)\n",
    "\n",
    "_ = display.ax_.set_title(\"2-class Precision-Recall curve\")"
   ]
  },
  {
   "cell_type": "code",
   "execution_count": 16,
   "metadata": {},
   "outputs": [
    {
     "name": "stdout",
     "output_type": "stream",
     "text": [
      "(100, 20)\n",
      "relu\n"
     ]
    }
   ],
   "source": [
    "print(best_model.hidden_layer_sizes)\n",
    "print(best_model.activation)"
   ]
  },
  {
   "cell_type": "code",
   "execution_count": 39,
   "metadata": {},
   "outputs": [
    {
     "name": "stderr",
     "output_type": "stream",
     "text": [
      "/Applications/anaconda3/envs/mongoDB/lib/python3.8/site-packages/sklearn/neural_network/_multilayer_perceptron.py:1109: DataConversionWarning: A column-vector y was passed when a 1d array was expected. Please change the shape of y to (n_samples, ), for example using ravel().\n",
      "  y = column_or_1d(y, warn=True)\n",
      "/Applications/anaconda3/envs/mongoDB/lib/python3.8/site-packages/sklearn/neural_network/_multilayer_perceptron.py:1109: DataConversionWarning: A column-vector y was passed when a 1d array was expected. Please change the shape of y to (n_samples, ), for example using ravel().\n",
      "  y = column_or_1d(y, warn=True)\n",
      "/Applications/anaconda3/envs/mongoDB/lib/python3.8/site-packages/sklearn/neural_network/_multilayer_perceptron.py:1109: DataConversionWarning: A column-vector y was passed when a 1d array was expected. Please change the shape of y to (n_samples, ), for example using ravel().\n",
      "  y = column_or_1d(y, warn=True)\n",
      "/Applications/anaconda3/envs/mongoDB/lib/python3.8/site-packages/sklearn/neural_network/_multilayer_perceptron.py:1109: DataConversionWarning: A column-vector y was passed when a 1d array was expected. Please change the shape of y to (n_samples, ), for example using ravel().\n",
      "  y = column_or_1d(y, warn=True)\n",
      "/Applications/anaconda3/envs/mongoDB/lib/python3.8/site-packages/sklearn/neural_network/_multilayer_perceptron.py:1109: DataConversionWarning: A column-vector y was passed when a 1d array was expected. Please change the shape of y to (n_samples, ), for example using ravel().\n",
      "  y = column_or_1d(y, warn=True)\n",
      "/Applications/anaconda3/envs/mongoDB/lib/python3.8/site-packages/sklearn/neural_network/_multilayer_perceptron.py:1109: DataConversionWarning: A column-vector y was passed when a 1d array was expected. Please change the shape of y to (n_samples, ), for example using ravel().\n",
      "  y = column_or_1d(y, warn=True)\n",
      "/Applications/anaconda3/envs/mongoDB/lib/python3.8/site-packages/sklearn/neural_network/_multilayer_perceptron.py:1109: DataConversionWarning: A column-vector y was passed when a 1d array was expected. Please change the shape of y to (n_samples, ), for example using ravel().\n",
      "  y = column_or_1d(y, warn=True)\n",
      "/Applications/anaconda3/envs/mongoDB/lib/python3.8/site-packages/sklearn/neural_network/_multilayer_perceptron.py:1109: DataConversionWarning: A column-vector y was passed when a 1d array was expected. Please change the shape of y to (n_samples, ), for example using ravel().\n",
      "  y = column_or_1d(y, warn=True)\n",
      "/Applications/anaconda3/envs/mongoDB/lib/python3.8/site-packages/sklearn/neural_network/_multilayer_perceptron.py:1109: DataConversionWarning: A column-vector y was passed when a 1d array was expected. Please change the shape of y to (n_samples, ), for example using ravel().\n",
      "  y = column_or_1d(y, warn=True)\n",
      "/Applications/anaconda3/envs/mongoDB/lib/python3.8/site-packages/sklearn/neural_network/_multilayer_perceptron.py:1109: DataConversionWarning: A column-vector y was passed when a 1d array was expected. Please change the shape of y to (n_samples, ), for example using ravel().\n",
      "  y = column_or_1d(y, warn=True)\n",
      "/Applications/anaconda3/envs/mongoDB/lib/python3.8/site-packages/sklearn/neural_network/_multilayer_perceptron.py:1109: DataConversionWarning: A column-vector y was passed when a 1d array was expected. Please change the shape of y to (n_samples, ), for example using ravel().\n",
      "  y = column_or_1d(y, warn=True)\n",
      "/Applications/anaconda3/envs/mongoDB/lib/python3.8/site-packages/sklearn/neural_network/_multilayer_perceptron.py:1109: DataConversionWarning: A column-vector y was passed when a 1d array was expected. Please change the shape of y to (n_samples, ), for example using ravel().\n",
      "  y = column_or_1d(y, warn=True)\n",
      "/Applications/anaconda3/envs/mongoDB/lib/python3.8/site-packages/sklearn/neural_network/_multilayer_perceptron.py:1109: DataConversionWarning: A column-vector y was passed when a 1d array was expected. Please change the shape of y to (n_samples, ), for example using ravel().\n",
      "  y = column_or_1d(y, warn=True)\n"
     ]
    }
   ],
   "source": [
    "from sklearn.model_selection import StratifiedKFold, GridSearchCV\n",
    "from sklearn.neural_network import MLPClassifier\n",
    "gridParams = {\n",
    "    'activation': [\"tanh\", \"relu\"],\n",
    "    'solver': [\"lbfgs\", \"adam\"],\n",
    "    'hidden_layer_sizes': [(150, 3), (150, 5)]\n",
    "}\n",
    "rfCLF = MLPClassifier(max_iter=300)\n",
    "#stratified = StratifiedKFold(n_splits = 5, shuffle = True, random_state = 1234)\n",
    "gridSearch = GridSearchCV(estimator = rfCLF,\n",
    "                          param_grid = gridParams,\n",
    "                          scoring = 'f1',\n",
    "                          #cv = stratified,\n",
    "                          n_jobs = -1)\n",
    "gridSearch.fit(X_train, Y_train)"
   ]
  }
 ],
 "metadata": {
  "interpreter": {
   "hash": "17f1067490f984ba715149d06ea4a88ce507d8a2668e250361db3c636d63351c"
  },
  "kernelspec": {
   "display_name": "Python 3.8.11 64-bit ('mongoDB': conda)",
   "name": "python3"
  },
  "language_info": {
   "codemirror_mode": {
    "name": "ipython",
    "version": 3
   },
   "file_extension": ".py",
   "mimetype": "text/x-python",
   "name": "python",
   "nbconvert_exporter": "python",
   "pygments_lexer": "ipython3",
   "version": "3.8.11"
  },
  "orig_nbformat": 4
 },
 "nbformat": 4,
 "nbformat_minor": 2
}
