{
 "cells": [
  {
   "cell_type": "markdown",
   "metadata": {},
   "source": [
    "# Big Data Project\n",
    "\n",
    "Il presente progetto è stato realizzato da Luigi Gatto, Davide Lavalle e Cedric Ferdico. \n",
    "Il progetto di esame (a.a. 2020-2021) è una competizione Kaggle: un data set di frodi su carte di credito in cui sono presenti solo 492 frodi su 284808 transazioni. I dati contengono i campi \"Time\", \"V1\" ... \"V28\", \"Amount\" e \"Class\" che descriveremo in seguito.\n",
    "\n",
    "È stato richiesto di effettuare tutti i passi di data cleaning/imputation e una analisi delle feature rilevanti ai fini della classificazione. \n",
    "La metrica richiesta è la Area Under the Precision-Recall Curve (AUPRC). Inoltre, è stato richiesto di effettuare il Multidimensional Scaling per realizzare una visualizzazione grafica dei dati in 2D o 3D che consenta di mettere in relazione i punti appartenenti a ciascuna classe con le feature utilizzate per la classificazione, ai fini di apprezzare l'effettiva separazione tra le classi.\n"
   ]
  },
  {
   "cell_type": "markdown",
   "metadata": {},
   "source": [
    "## 0. Ecosistema\n",
    "Per la realizzazione del progetto, si è deciso di utilizzare i seguenti strumenti:\n",
    "\n",
    "- HDFS: per lo storage del dataset (simulando un cluster unitario di datanode); \n",
    "- Spark: per il recupero (da HDFS) e l'elaborazione del dataset;\n",
    "- Pandas: per la manipolazione e l'analisi dei dati;\n",
    "- Scikitlearn: per i modelli di apprendimento automatico e le metriche di valutazione dei modelli;\n",
    "- Imblearn: conferisce dei tool utili alla classificazione di classi sbilanciate (utilizzata per effettuare il sovracampionamento);\n",
    "- Numpy: per la gestione di matrici e array multidimensionali di grandi dimensioni e l'utilizzo di funzioni matematiche di alto livello per operare su queste strutture dati;\n",
    "- Matplotlib/Seaborn: per la visualizzazione dei dati."
   ]
  },
  {
   "cell_type": "markdown",
   "metadata": {},
   "source": [
    "# 1. Descrizione del dataset\n",
    "\n",
    "Il dataset analizzato nel progetto è un insieme di record di transazioni di carte di credito a cui è stata effettuata la PCA, per motivi di privacy. I dati sono raccolti in maniera continua: il tempo è segnato all'interno della colonna \"Time\" con un intero che indica l'ammontare di secondi passati tra la transazione i-esima e la prima (che, di conseguenza ha il valore di \"Time\" a 0). \n",
    "Il dataset analizzato presenta 284808 record di transazioni al momento dell'analisi in questo progetto.\n",
    "\n",
    "Il dataset è fornito in formato .csv.\n"
   ]
  },
  {
   "cell_type": "markdown",
   "metadata": {},
   "source": [
    "## 1.1. DATASET\n",
    "In questa tabella andremo a riassumere il contenuto del dataset dal punto di vista delle features, descrivendone il tipo ed il contenuto. <br>\n",
    "<br>\n",
    "\n",
    "| **Feature** | **Tipo** | **Descrizione** |\n",
    "|------------|------------|------------|\n",
    "|  \"Time\" | _Int_ | Valore numerico che indica l'ammontare di secondi trascorsi tra la prima transazione e la i-esima, il valore per la prima transazione è 0. |\n",
    "| \"V1\"...\"V28\" | _Float_ | Feature di dettaglio della transazione convertite con la PCA per questioni di privacy. |\n",
    "| \"Amount\" | _Float_ | Valore numerico che indica l'ammontare della transazione. |\n",
    "| \"Class\" | _Boolean_ | Valore 0/1 che indica se la transazione in oggetto sia frode (1) o lecita (0). |"
   ]
  },
  {
   "cell_type": "markdown",
   "metadata": {},
   "source": [
    "# 2. Inizializzazione dell'ambiente\n",
    "Qui andremo a descrivere brevemente la fase di inizializzazione degli strumenti utilizzati per il progetto."
   ]
  },
  {
   "cell_type": "markdown",
   "metadata": {},
   "source": [
    "## 2.1. Importazione del dataset in HDFS\n",
    "\n",
    "Per prima cosa, dopo aver effetuato l'installazione e la configurazione di HDFS, è necessario avviare tutti i servizi Hadoop.\n",
    "Per farlo è sufficiente eseguire il seguente comando da CLI: "
   ]
  },
  {
   "cell_type": "markdown",
   "metadata": {},
   "source": [
    "``` >> start-all ```"
   ]
  },
  {
   "cell_type": "markdown",
   "metadata": {},
   "source": [
    "A questo punto, una volta avviati tutti i servizi, sarà possibile caricare in HDFS il dataset.\n",
    "Per effettuare l'upload, sarà sufficiente eseguire un altro comando CLI:"
   ]
  },
  {
   "cell_type": "markdown",
   "metadata": {},
   "source": [
    "```>> hdfs fs -put \"local/path/to/file.csv\" \"remote/path/\" ```"
   ]
  },
  {
   "cell_type": "markdown",
   "metadata": {},
   "source": [
    "Dove il primo parametro sta ad indicare la directory locale in cui è conservato il file .csv mentre il secondo indicherà la directory del file system distribuito in cui il dataset sarà caricato."
   ]
  },
  {
   "cell_type": "markdown",
   "metadata": {},
   "source": [
    "## 2.2. Spark\n",
    "L'inizializzazione dell'ambiente Spark consiste nell'importazione dei relativi moduli e nell'inizializzazione di una nuova SparkSession.\n",
    "Il motivo per cui è stato preso in considerazione l'utilizzo di Apache Spark è stato il suo ottimo rendimento in ambiti applicativi come questo. Infatti, questo strumento, è caratterizzato da un'alta velocità di elaborazione e di analisi avanzata; inoltre, dispone di un supporto di integrazione multipla con le operazioni a basso costo di Hadoop per la gestione dell’hardware e l’immagazzinamento dei dati."
   ]
  },
  {
   "cell_type": "code",
   "execution_count": 1,
   "metadata": {},
   "outputs": [
    {
     "name": "stderr",
     "output_type": "stream",
     "text": [
      "WARNING: An illegal reflective access operation has occurred\n",
      "WARNING: Illegal reflective access by org.apache.spark.unsafe.Platform (file:/usr/local/Cellar/apache-spark/3.1.2/libexec/jars/spark-unsafe_2.12-3.1.2.jar) to constructor java.nio.DirectByteBuffer(long,int)\n",
      "WARNING: Please consider reporting this to the maintainers of org.apache.spark.unsafe.Platform\n",
      "WARNING: Use --illegal-access=warn to enable warnings of further illegal reflective access operations\n",
      "WARNING: All illegal access operations will be denied in a future release\n",
      "21/11/01 17:09:11 WARN NativeCodeLoader: Unable to load native-hadoop library for your platform... using builtin-java classes where applicable\n",
      "Using Spark's default log4j profile: org/apache/spark/log4j-defaults.properties\n",
      "Setting default log level to \"WARN\".\n",
      "To adjust logging level use sc.setLogLevel(newLevel). For SparkR, use setLogLevel(newLevel).\n"
     ]
    }
   ],
   "source": [
    "import findspark\n",
    "\n",
    "location = findspark.find()\n",
    "findspark.init(location)\n",
    "\n",
    "from pyspark.sql import SparkSession\n",
    "from pyspark.sql.functions import *\n",
    "\n",
    "spark = SparkSession.builder \\\n",
    "    .appName(\"Progetto BigData Gatto - Lavalle - Ferdico A.A. 2020/2021\") \\\n",
    "    .getOrCreate()\n"
   ]
  },
  {
   "cell_type": "markdown",
   "metadata": {},
   "source": [
    "# 3. Lettura del dataset da HDFS con Spark\n",
    "\n",
    "Il codice seguente permette la lettura del file da HDFS e quindi l'importazione del dataset in formato .csv all'interno del dataframe secondo lo schema appena creato.\n",
    "Il dataset è conservato in una simulazione di filesystem distribuito in locale. Questa scelta è stata effettuata per permetterci di cimentarci nell'implementazione di un fs distribuito con lo strumento Hadoop."
   ]
  },
  {
   "cell_type": "code",
   "execution_count": 2,
   "metadata": {},
   "outputs": [
    {
     "name": "stderr",
     "output_type": "stream",
     "text": []
    }
   ],
   "source": [
    "dataSet = spark.read \\\n",
    "    .csv('hdfs://localhost:9099/user/davide/creditCardProject/creditcard.csv', header = 'True', inferSchema='True')"
   ]
  },
  {
   "cell_type": "markdown",
   "metadata": {},
   "source": [
    "# 4. Dataset preprocessing\n",
    "La fase di preprocessing è necessaria per preparare il dataset appena caricato prima dell'analisi vera e propria. I dati presenti possono infatti presentare errori, dati mancanti o valori non previsti. L'obiettivo del preprocessing è quindi quello di pulire tali informazioni rimuovendo o \"curando\" i dati che presentano rumore o qualsiasi altro tipo di inconsistenze."
   ]
  },
  {
   "cell_type": "markdown",
   "metadata": {},
   "source": [
    "## 4.1. Osservazione sul dataset\n"
   ]
  },
  {
   "cell_type": "markdown",
   "metadata": {},
   "source": [
    "Convertiamo il DataFrame Spark in un DataFrame Pandas il quale offre delle buone API per la gestione e l'elaborazione:"
   ]
  },
  {
   "cell_type": "code",
   "execution_count": null,
   "metadata": {},
   "outputs": [],
   "source": [
    "import pandas as pd\n",
    "\n",
    "df = dataSet.toPandas()"
   ]
  },
  {
   "cell_type": "markdown",
   "metadata": {},
   "source": [
    "Per prima cosa diamo uno sguardo a come le transazioni si evolvono nel tempo. <br>\n",
    "<br>\n",
    "Per farlo realizziamo un grafico che tenga conto dell'evoluzione del valore di \"Amount\" seguendo il trascorrere del tempo, marcando con il colore Rosso le transazioni frodi e con il colore Blu quelle lecite. <br>\n",
    "\n",
    "Grafico: X&mdash;> Time; Y&mdash;> Amount &mdash; [Rosso frode - Blu non frode]"
   ]
  },
  {
   "cell_type": "code",
   "execution_count": 16,
   "metadata": {},
   "outputs": [
    {
     "data": {
      "text/plain": [
       "<matplotlib.collections.PathCollection at 0x7fdbc8ace910>"
      ]
     },
     "execution_count": 16,
     "metadata": {},
     "output_type": "execute_result"
    },
    {
     "data": {
      "image/png": "[encoded data removed]",
      "text/plain": [
       "<Figure size 432x288 with 1 Axes>"
      ]
     },
     "metadata": {},
     "output_type": "display_data"
    }
   ],
   "source": [
    "import numpy as np\n",
    "import matplotlib.pyplot as plt\n",
    "\n",
    "xlim = df['Time'].max() * 1.2\n",
    "ylim = df['Amount'].max() * 1.2\n",
    "\n",
    "X = np.where(df['Class']==0, df['Time'], None)\n",
    "Y = np.where(df['Class']==0, df['Amount'], None)\n",
    "\n",
    "plt.style.use('seaborn-whitegrid')\n",
    "plt.xlabel(\"Time\")\n",
    "plt.ylabel(\"Amount\")\n",
    "plt.scatter(X, Y, marker = \".\", color = \"blue\")\n",
    "\n",
    "X = np.where(df['Class']==1, df['Time'], None)\n",
    "Y = np.where(df['Class']==1, df['Amount'], None)\n",
    "plt.scatter(X, Y, marker = \".\", color = \"red\")"
   ]
  },
  {
   "cell_type": "markdown",
   "metadata": {},
   "source": [
    "Da questo grafico è possibile notare come alle transazioni per cui il valore di **Class** è uguale ad 1 (le frodi) corrispondano valori di \"Amount\" relativamente bassi (<2500). <br>\n",
    "Inoltre è possibile percepire, anche se non del tutto chiaramente, il fatto che il dataset sia sbilanciato nei confronti delle transazioni lecite. "
   ]
  },
  {
   "cell_type": "markdown",
   "metadata": {},
   "source": [
    "Per verificare lo sbilanciamento del dataset abbiamo visualizzato il numero delle transazioni lecite rispetto alle frodi:"
   ]
  },
  {
   "cell_type": "code",
   "execution_count": 65,
   "metadata": {},
   "outputs": [
    {
     "data": {
      "image/png": "[encoded data removed]",
      "text/plain": [
       "<Figure size 432x288 with 1 Axes>"
      ]
     },
     "metadata": {},
     "output_type": "display_data"
    },
    {
     "name": "stdout",
     "output_type": "stream",
     "text": [
      "Numero transazioni lecite: 284315\n",
      "Numero di frodi: 492\n"
     ]
    }
   ],
   "source": [
    "classi = []\n",
    "classi.append(len(df.loc[df.Class == 0]))\n",
    "classi.append(len(df.loc[df.Class == 1]))\n",
    "\n",
    "plt.title(\"Bilanciamento Classi\")\n",
    "plt.xlabel(\"Classe\")\n",
    "plt.ylabel(\"N_elementi\")\n",
    "plt.bar([0, 1], classi)\n",
    "plt.show()\n",
    "print(\"Numero transazioni lecite: \" + str(classi[0]))\n",
    "print(\"Numero di frodi: \" + str(classi[1]))"
   ]
  },
  {
   "cell_type": "markdown",
   "metadata": {},
   "source": [
    "Da questa esecuzione risulta lampante lo sbilanciamento del dataset, agiremo quindi di conseguenza negli step succesivi."
   ]
  },
  {
   "cell_type": "markdown",
   "metadata": {},
   "source": [
    "## 4.2. Imputazione features mancanti e rimozione duplicati \n"
   ]
  },
  {
   "cell_type": "markdown",
   "metadata": {},
   "source": [
    "\n",
    "Banalmente, la prima operazione può essere quella di individuare le informazioni che presentano features con valori mancanti. Il trattamento di valori mancanti può avvenire fondamentalmente in due modi: cancellazione o imputazione. La scelta corretta dipende dall'obiettivo dell'analisi e dalla possibile conoscenza a priori del problema, oltre ovviamente che dalle quantità di tali valori nulli."
   ]
  },
  {
   "cell_type": "code",
   "execution_count": 11,
   "metadata": {},
   "outputs": [
    {
     "name": "stderr",
     "output_type": "stream",
     "text": []
    },
    {
     "name": "stdout",
     "output_type": "stream",
     "text": [
      "+----+---+---+---+---+---+---+---+---+---+---+---+---+---+---+---+---+---+---+---+---+---+---+---+---+---+---+---+---+------+-----+\n",
      "|Time| V1| V2| V3| V4| V5| V6| V7| V8| V9|V10|V11|V12|V13|V14|V15|V16|V17|V18|V19|V20|V21|V22|V23|V24|V25|V26|V27|V28|Amount|Class|\n",
      "+----+---+---+---+---+---+---+---+---+---+---+---+---+---+---+---+---+---+---+---+---+---+---+---+---+---+---+---+---+------+-----+\n",
      "|   0|  0|  0|  0|  0|  0|  0|  0|  0|  0|  0|  0|  0|  0|  0|  0|  0|  0|  0|  0|  0|  0|  0|  0|  0|  0|  0|  0|  0|     0|    0|\n",
      "+----+---+---+---+---+---+---+---+---+---+---+---+---+---+---+---+---+---+---+---+---+---+---+---+---+---+---+---+---+------+-----+\n",
      "\n"
     ]
    }
   ],
   "source": [
    "dataSet.select([count(when(col(c).isNull() | isnan(c), c)).alias(c) for c in dataSet.columns]).show()"
   ]
  },
  {
   "cell_type": "markdown",
   "metadata": {},
   "source": [
    "Dall'esecuzione precedente è possibile notare come tutte le features presenti nel dataset non presentino dati mancanti.\n",
    "Procediamo adesso con il controllo di campioni duplicati all'interno del dataset. Per farlo utilizziamo il metodo \"drop_duplicates\" di pandas."
   ]
  },
  {
   "cell_type": "code",
   "execution_count": 13,
   "metadata": {},
   "outputs": [
    {
     "name": "stdout",
     "output_type": "stream",
     "text": [
      "Duplicati rimossi: 1081\n"
     ]
    }
   ],
   "source": [
    "lunghezzaIniziale = len(df)\n",
    "df.drop_duplicates(subset=df.columns.values[:-1], keep='first',inplace=True)\n",
    "lunghezzaFinale = len(df)\n",
    "print(f\"Duplicati rimossi: {lunghezzaIniziale - lunghezzaFinale}\")"
   ]
  },
  {
   "cell_type": "markdown",
   "metadata": {},
   "source": [
    "Con l'esecuzione del codice precedente sono stati eliminati i duplicati.<br>\n",
    "Dato che i valori di 28 features sulle 31 totali sono il risultato di una Principal Component Analysis effettuata sul dataset originario, diventa difficile effettuare operazioni di imputazione e/o rilevamento di inconsistenze sui dati."
   ]
  },
  {
   "cell_type": "markdown",
   "metadata": {},
   "source": [
    "## 4.3. Eliminazione delle features meno rilevanti\n",
    "\n",
    "L'eliminazione delle features meno rilevanti è necessaria per diversi motivi, tra i quali la riduzione di dimensionalità del problema (che alleggerirà il carico di lavoro successivo) e l'eliminazione di potenziali informazioni fuorvianti che sarebbero d'ostacolo all'addestramento del modello predittivo."
   ]
  },
  {
   "cell_type": "markdown",
   "metadata": {},
   "source": [
    "### 4.3.1. Matrice di correlazione\n",
    "\n",
    " Per l'analisi predittiva alcune delle features possono essere in qualche modo implicitamente correlate alla feature **Class** e per tale motivo utili alla sua predizione. Un possibile modo per individuare le features correlate è quello di utilizzare l'approccio statistico.\n",
    "Calcolare le correlazioni tra la feature **Class** ed il resto delle features è possibile calcolando la matrice di correlazione del dataset. È chiaro quindi che vanno escluse tutte le caratteristiche aventi una correlazione con la feature presa in esame al di sotto di una certa soglia.\n",
    "Per poter carcolare la matrice di correlazione, è possibile utilizzare un metodo fornito da Pandas.\n",
    "\n",
    "Procediamo adesso con il calcolo e la visualizzazione della matrice di correlazione. Abbiamo deciso di utilizzare un valore di soglia pari a 0,05."
   ]
  },
  {
   "cell_type": "code",
   "execution_count": 68,
   "metadata": {},
   "outputs": [
    {
     "data": {
      "image/png": "[encoded data removed]",
      "text/plain": [
       "<Figure size 864x720 with 2 Axes>"
      ]
     },
     "metadata": {},
     "output_type": "display_data"
    },
    {
     "name": "stdout",
     "output_type": "stream",
     "text": [
      "Valori minori della soglia per le feature: Time V6 V8 V13 V15 V19 V20 V21 V22 V23 V24 V25 V26 V27 V28 Amount "
     ]
    }
   ],
   "source": [
    "import seaborn as sns\n",
    "soglia = 0.05\n",
    "\n",
    "plt.figure(figsize=(12, 10))\n",
    "corr = df.corr()\n",
    "corr = pd.DataFrame.abs(corr)\n",
    "fig = sns.heatmap(corr, cmap='coolwarm_r', annot_kws={'size':20})\n",
    "fig.set_title('Matrice di Correlazione', fontsize=14)\n",
    "plt.show()\n",
    "\n",
    "count = 0\n",
    "print(\"Valori minori della soglia per le feature: \", end=\"\")\n",
    "for i in corr[\"Class\"]:\n",
    "    if i < soglia:\n",
    "        print(corr[\"Class\"].index[count], end=\" \")\n",
    "    count += 1"
   ]
  },
  {
   "cell_type": "markdown",
   "metadata": {},
   "source": [
    "Dalla matrice di correlazione appena ottenuta, va presa in considerazione soltanto l'ultima riga ovvero quella relativa alle correlazioni tra la feature **Class** e ognuna delle altre features.\n",
    "Tanto è maggiore in valore assoluto la correlazione tra due variabili aleatorie, tanto più la conoscenza del valore di una è utile a prevedere il valore dell'altra.\n",
    "\n",
    "Dopo aver trovato le features che, secondo la matrice di correlazione presentano un valore al disotto della soglia, analizziamo anche il fisher score per un'ulteriore conferma."
   ]
  },
  {
   "cell_type": "markdown",
   "metadata": {},
   "source": [
    "### 4.3.2. Fisher Score"
   ]
  },
  {
   "cell_type": "markdown",
   "metadata": {},
   "source": [
    "Il Fisher Score risulta essere maggiore quanto più le features sono rilevanti per la discriminazione delle classi.\n",
    "\n",
    "Per ogni feature, il Fisher Score è calcolato come: <br><br>\n",
    "<font size=4><div align=\"center\"> $F = \\frac{\\sum \\limits _{j=1} ^{k} p_{j} (µ_{j}-µ)^{2}}{\\sum \\limits _{j=1} ^{k} p_{j} σ_{j}^{2}} $ </div></font>\n",
    "\n",
    "Dove: <br>\n",
    "$p_{j}$ è frazione dei dati appartenete alla classe j <br>\n",
    "$µ_{j}$ è media dei dati nella classe j <br>\n",
    "$σ_{j}$ è dev. standard dei dati nella classe j <br>"
   ]
  },
  {
   "cell_type": "markdown",
   "metadata": {},
   "source": [
    "È stata scelta una soglia pari a 0,5. Il codice per calcolare il Fisher Score e le features che non superano una determinata soglia è il seguente:"
   ]
  },
  {
   "cell_type": "code",
   "execution_count": 69,
   "metadata": {},
   "outputs": [
    {
     "name": "stdout",
     "output_type": "stream",
     "text": [
      "Feature con score minori della soglia: Time - V6 - V8 - V13 - V15 - V19 - V20 - V21 - V22 - V23 - V24 - V25 - V26 - V27 - V28 - Amount - "
     ]
    }
   ],
   "source": [
    "def fisher(m1,s1,p1,m2,s2,p2,m3):\n",
    "  m1 = float(m1)\n",
    "  s1 = float(s1)\n",
    "  m2 = float(m2)\n",
    "  s2 = float(s2)\n",
    "  m3 = float(m3)\n",
    "\n",
    "  num = p1 * ((m1 - m3)**2) + p2*((m2 - m3)**2)\n",
    "  den = p1 * (s1**2) + p2 * (s2**2)\n",
    "\n",
    "  return (100 * num/den)\n",
    "\n",
    "frodi = dataSet.filter(dataSet.Class.contains(1))\n",
    "legittime = dataSet.filter(dataSet.Class.contains(0))\n",
    "\n",
    "statFrodi       = frodi.describe().toPandas()\n",
    "statLegittime   = legittime.describe().toPandas()\n",
    "statGlobali     = dataSet.describe().toPandas()\n",
    "\n",
    "suppFrodi       = float(statFrodi.loc[0,\"Time\"]) / float(statGlobali.loc[0,\"Time\"])\n",
    "suppLegittime   = float(statLegittime.loc[0,\"Time\"]) / float(statGlobali.loc[0,\"Time\"])\n",
    "\n",
    "print(\"Feature con score minori della soglia: \", end=\"\")\n",
    "\n",
    "for col in dataSet.columns[0:-1]:\n",
    "    mediaFrodi      = float(statFrodi.loc[1,col])\n",
    "    dsFrodi         = float(statFrodi.loc[2,col])\n",
    "    mediaLegittime  = float(statLegittime.loc[1,col])\n",
    "    dsLegittime     = float(statLegittime.loc[2,col])\n",
    "    mediaGlobale    = float(statGlobali.loc[1,col])\n",
    "    fisherValue = fisher(mediaFrodi, \n",
    "                          dsFrodi, \n",
    "                          suppFrodi, \n",
    "                          mediaLegittime,\n",
    "                          dsLegittime,\n",
    "                          suppLegittime,\n",
    "                          mediaGlobale)\n",
    "    \n",
    "    if fisherValue < 0.5:                      \n",
    "      print(col + \" -\", end=\" \")"
   ]
  },
  {
   "cell_type": "markdown",
   "metadata": {},
   "source": [
    "### 4.3.3. Eliminazioni delle features dal dataset"
   ]
  },
  {
   "cell_type": "markdown",
   "metadata": {},
   "source": [
    "Secondo la matrice di correlazione e il fisher score, le features da eliminare combaciano. Di conseguenza il prossimo blocco di codice eliminerà proprio quelle features."
   ]
  },
  {
   "cell_type": "code",
   "execution_count": 14,
   "metadata": {},
   "outputs": [],
   "source": [
    "dfFinal = df.drop([\"Time\", \"V6\", \"V8\", \"V13\", \"V15\", \"V19\", \"V20\", \"V21\", \"V22\", \"V23\", \"V24\", \"V25\", \"V26\", \"V27\", \"V28\", \"Amount\"], axis=1)"
   ]
  },
  {
   "cell_type": "markdown",
   "metadata": {},
   "source": [
    "## 4.4. Min max Scaling"
   ]
  },
  {
   "cell_type": "markdown",
   "metadata": {},
   "source": [
    "Il min max scaling consiste nel scalare ogni feature rispetto ai valori di minimo e di massimo della stessa. Risultando, così, in un valore compreso tra 0 e 1. <br>\n",
    "La scaling min max è dato da: <br>\n",
    "\n",
    "<font size=4><div align=\"center\"> $y_{i}^{j} = \\frac{x_{i}^{j} - min(j)}{max(j)-min(j)} $ </div></font>\n",
    "\n",
    "Questo tipo di scaling si effettua per ridurre la potenziale influenza negativa di features che assumono un ampio range di valori.  "
   ]
  },
  {
   "cell_type": "code",
   "execution_count": 17,
   "metadata": {},
   "outputs": [],
   "source": [
    "from sklearn.preprocessing import MinMaxScaler\n",
    "scaler = MinMaxScaler()\n",
    "for col in dfFinal.columns[0:-1]:\n",
    "    scaledCol = scaler.fit_transform(np.array(dfFinal[col]).reshape(-1, 1))\n",
    "    dfFinal[col] = scaledCol"
   ]
  },
  {
   "cell_type": "markdown",
   "metadata": {},
   "source": [
    "## 4.5. Valutazione Grafica \n",
    "\n",
    "Per effettuare la valutazione grafica della separazione del nostro problema tramite le features che abbiamo selezionato, abbiamo effettuato il Multidimensional Scaling ( MDS ) sul nostro dataset opportunamente modificato per poterlo rappresentare in 2D.\n",
    "\n",
    "Il Multi Dimensional Scaling ha l'obiettivo di trovare un embedding k-dimensionale di vettori $X_{i}$ tale che minimizzi il seguente funzionale:\n",
    "\n",
    "<font size=4><div align=\"center\"> $O = \\sum \\limits _{i, j : i < j} (||X_{i} - X_{j}|| - δ_{ij})^2 $ </div></font>\n",
    "\n",
    "\n",
    "Dove: <br>\n",
    "$δ_{ij}$: è la distanza tra i due campioni del dataset i e j.\n",
    "\n",
    "\n",
    "Eseguiremo il calcolo del MDS facendo uso prima della distanza Manhattan e poi della distanza euclidea. <br>\n",
    "In rosso saranno le transazioni lecite mentre in verde le frodi."
   ]
  },
  {
   "cell_type": "code",
   "execution_count": 72,
   "metadata": {},
   "outputs": [
    {
     "data": {
      "image/png": "[encoded data removed]",
      "text/plain": [
       "<Figure size 432x288 with 1 Axes>"
      ]
     },
     "metadata": {},
     "output_type": "display_data"
    },
    {
     "data": {
      "image/png": "[encoded data removed]",
      "text/plain": [
       "<Figure size 432x288 with 1 Axes>"
      ]
     },
     "metadata": {},
     "output_type": "display_data"
    }
   ],
   "source": [
    "dfFinalClassFalse = dfFinal.loc[dfFinal.Class == 0]\n",
    "dfFinalClassFalse = dfFinalClassFalse.drop([\"Class\"], axis = 1)\n",
    "\n",
    "dfFinalClassTrue = dfFinal.loc[dfFinal.Class == 1]\n",
    "dfFinalClassTrue = dfFinalClassTrue.drop([\"Class\"], axis = 1)\n",
    "\n",
    "from sklearn.manifold import MDS\n",
    "from sklearn.metrics import pairwise_distances\n",
    "\n",
    "pwsClassTrue = pairwise_distances(X = dfFinalClassTrue, metric=\"manhattan\")\n",
    "pwsClassFalse = pairwise_distances(X = dfFinalClassFalse.head(1000), metric=\"manhattan\")\n",
    "\n",
    "#MDS a due componenti con distanza Manhattan\n",
    "embedding = MDS(n_components=2, dissimilarity=\"precomputed\", random_state = 104)\n",
    "xTrue_transformed = embedding.fit_transform(pwsClassTrue)\n",
    "xFalse_transformed = embedding.fit_transform(pwsClassFalse)\n",
    "\n",
    "plt.style.use('seaborn-whitegrid')\n",
    "plt.scatter(xTrue_transformed[:, 0], xTrue_transformed[:, 1], marker = \".\", color = 'green')\n",
    "plt.scatter(xFalse_transformed[:, 0], xFalse_transformed[:, 1], marker = \".\", color = 'red')\n",
    "plt.show()\n",
    "\n",
    "#MDS a due componenti con distanza Euclidea\n",
    "embedding = MDS(n_components=2, random_state = 104)\n",
    "xTrue_transformed = embedding.fit_transform(dfFinalClassTrue)\n",
    "xFalse_transformed = embedding.fit_transform(dfFinalClassFalse.head(1000))\n",
    "\n",
    "plt.style.use('seaborn-whitegrid')\n",
    "plt.scatter(xTrue_transformed[:, 0], xTrue_transformed[:, 1], marker = \".\", color = 'green')\n",
    "plt.scatter(xFalse_transformed[:, 0], xFalse_transformed[:, 1], marker = \".\", color = 'red')\n",
    "plt.show()"
   ]
  },
  {
   "cell_type": "markdown",
   "metadata": {},
   "source": [
    "Dai due grafici sopra, possiamo notare che le due classi siano, in generale, ben divise in quanto le transazioni lecite ( in rosso ) si trovano su una porzione limitata dello spazio.\n",
    "Questo implica che il nostro problema risulta essere quindi ben discriminato dalla selezione di features effettuata. <br>\n",
    "Nonostante ciò, però, ci aspettiamo comunque una presenza di falsi positivi/negativi dovuta alle zone di contatto tra i punti rossi ed i punti verdi."
   ]
  },
  {
   "cell_type": "markdown",
   "metadata": {},
   "source": [
    "## 4.6. Salvataggio del cleaned dataset.csv\n",
    "E' sicuramente conveniente salvare in HDFS il dataset così ottenuto per non ripetere i passaggi di data cleaning appena descritti ad ogni nuova esecuzione. Per memorizzare il cleaned dataset nel formato csv, è possibile semplicemente utilizzare il metodo .write.csv() fornito da Spark."
   ]
  },
  {
   "cell_type": "code",
   "execution_count": null,
   "metadata": {},
   "outputs": [],
   "source": [
    "sparkDF = spark.createDataFrame(dfFinal) \n",
    "\n",
    "sparkDF.write.csv('hdfs://localhost:9099/user/davide/creditCardProject/cleaned_df.csv', header=True, mode='overwrite')"
   ]
  },
  {
   "cell_type": "markdown",
   "metadata": {},
   "source": [
    "## 4.7. Importazione del cleaned dataset cleaned_df.csv\n",
    "Il passaggio successivo, dunque, è quello di importare il nuovo dataset cleaned_df.csv. Per farlo è necessario costruire nuovamente lo schema del dataframe che ospiterà il dataset, utilizzare il metodo read di Spark ed infine rieffettuare la trasformazione in DataFrame Pandas."
   ]
  },
  {
   "cell_type": "code",
   "execution_count": 3,
   "metadata": {},
   "outputs": [
    {
     "name": "stderr",
     "output_type": "stream",
     "text": []
    }
   ],
   "source": [
    "cleaned_df = spark.read \\\n",
    "    .csv('hdfs://localhost:9099/user/davide/creditCardProject/cleaned_df.csv', header = 'True', inferSchema='True')\n",
    "\n",
    "cleaned_df = cleaned_df.toPandas()"
   ]
  },
  {
   "cell_type": "markdown",
   "metadata": {},
   "source": [
    "# 5. Modello di addestramento"
   ]
  },
  {
   "cell_type": "markdown",
   "metadata": {},
   "source": [
    "## 5.1. Funzioni d'utilità\n",
    "Di seguito definiremo qualche funzione che ci tornerà utile in fase di addestramento e valutazione."
   ]
  },
  {
   "cell_type": "markdown",
   "metadata": {},
   "source": [
    "### 5.1.1. La funzione **gridLearner**\n",
    "La funzione **gridLearner** ci permette di effettuare una ricerca esaustiva su diversi iperparametri per un classificatore che si vuole addestrare.\n",
    "* gridParams - Iperparametri del classificatore <br>\n",
    "* classifier - Istanza del classificatore<br>\n",
    "* X_train - Features del training set<br>\n",
    "* Y_train - Classi di appartenza dei dati del training set<br>"
   ]
  },
  {
   "cell_type": "code",
   "execution_count": 4,
   "metadata": {},
   "outputs": [],
   "source": [
    "from sklearn.model_selection import StratifiedKFold, GridSearchCV\n",
    "\n",
    "def gridLearner (gridParams, classifier, X_train, Y_train):\n",
    "    stratified = StratifiedKFold(n_splits = 5, shuffle = True, random_state = 1234)\n",
    "    gridSearch = GridSearchCV(estimator = classifier,\n",
    "                            param_grid = gridParams,\n",
    "                            scoring = 'f1',\n",
    "                            cv = stratified,\n",
    "                            n_jobs = -1)\n",
    "    gridSearch.fit(X_train, Y_train)\n",
    "    return gridSearch"
   ]
  },
  {
   "cell_type": "markdown",
   "metadata": {},
   "source": [
    "### 5.1.2. La funzione **matriceDiConfusione**\n",
    "La funzione **matriceDiConfusione** ci permette di costruire e opzionalmente mostrare la matrice di confusione passando come parametri:\n",
    "* true_labels - Classi vere <br>\n",
    "* predicted_labels - Classi predette <br>\n",
    "* plot - (default = True) se \"True\" mostra la matrice di confusione."
   ]
  },
  {
   "cell_type": "code",
   "execution_count": 5,
   "metadata": {},
   "outputs": [],
   "source": [
    "from sklearn.metrics import confusion_matrix, ConfusionMatrixDisplay\n",
    "import matplotlib.pyplot as plt\n",
    "\n",
    "def matriceDiConfusione(true_labels, predicted_labels, plot=True):\n",
    "    cm = confusion_matrix(true_labels, predicted_labels, labels=[0, 1])\n",
    "    cmatrix = ConfusionMatrixDisplay(confusion_matrix=cm, display_labels=[\"Non Frode\",\"Frode\"])\n",
    "    \n",
    "    if plot:\n",
    "        cmatrix.plot()\n",
    "        plt.title(\"Matrice di Confusione\")\n",
    "        plt.show()\n",
    "    \n",
    "    return cm"
   ]
  },
  {
   "cell_type": "markdown",
   "metadata": {},
   "source": [
    "### 5.1.3. La funzione **auprc**\n",
    "La funzione **auprc** ci permette di calcolare e mostrare il grafico della funzione auprc e ne restituisce il valore, passando come parametri :\n",
    "* estimator - Stimatore <br>\n",
    "* X_true - Feature vere <br>\n",
    "* Y_true - Classi vere<br>\n",
    "* Y_predictred - Classi predette <br>"
   ]
  },
  {
   "cell_type": "code",
   "execution_count": 6,
   "metadata": {},
   "outputs": [],
   "source": [
    "from sklearn.metrics import average_precision_score\n",
    "from sklearn.metrics import PrecisionRecallDisplay\n",
    "\n",
    "def auprc(estimator, X_true, Y_true, Y_predicted):\n",
    "    auprcValue = average_precision_score(Y_predicted, Y_true)\n",
    "    display = PrecisionRecallDisplay.from_estimator(estimator, X_true, Y_true)\n",
    "    _ = display.ax_.set_title(\"Precision-Recall Curve\")\n",
    "    return auprcValue"
   ]
  },
  {
   "cell_type": "markdown",
   "metadata": {},
   "source": [
    "### 5.1.4. La funzione **printScores**\n",
    "\n",
    "La funzione **printScores** ci permette di stampare i seguenti score:\n",
    "* accuracy,\n",
    "* precision,\n",
    "* recall,\n",
    "* F1,\n",
    "* AUPRC insieme al relativo grafico.\n",
    "\n",
    "Inoltre, abbiamo preferito analizzare anche uno score che indica l'accuratezza nel riconoscimento delle transazioni lecite.<br>\n",
    "La funzione necessita dei seguenti parametri:\n",
    "\n",
    "* estimator - Estimatore <br>\n",
    "* confusionMatrix - Matrice di confusione <br>\n",
    "* X_true - Feature vere <br>\n",
    "* Y_true - Classi vere<br>\n",
    "* Y_predictred - Classi predette <br>"
   ]
  },
  {
   "cell_type": "code",
   "execution_count": 7,
   "metadata": {},
   "outputs": [],
   "source": [
    "from sklearn.metrics import accuracy_score\n",
    "\n",
    "def printScores(estimator, confusionMatrix, X_true, Y_true, Y_predicted):\n",
    "    veriNegativi = confusionMatrix[0][0]\n",
    "    veriPositivi = confusionMatrix[1][1]\n",
    "    falsiPositivi = confusionMatrix[0][1]\n",
    "    falsiNegativi = confusionMatrix[1][0]   \n",
    "\n",
    "    nonFrodiTotali = veriNegativi + falsiPositivi\n",
    "    frodiTotali = veriPositivi + falsiNegativi\n",
    "\n",
    "    percentualeDiSuccessoNonFrodi = veriNegativi / nonFrodiTotali\n",
    "\n",
    "    precision = veriPositivi/(veriPositivi + falsiPositivi)\n",
    "    recall = veriPositivi/(veriPositivi + falsiNegativi)\n",
    "    print(\"Accuracy:                             {:.2f} %\".format(accuracy_score(Y_predicted, Y_true) * 100))\n",
    "    print(\"Precision:                            {:.2f} %\".format(100 * precision))\n",
    "    print(\"Recall-score:                         {:.2f} %\".format(100 * recall))\n",
    "    print(\"F1-score:                             {:.2f} %\".format(100 * 2 * precision * recall /(precision + recall)))\n",
    "    print(\"Accuratezza riconoscimento non frodi: {:.2f} %\".format(percentualeDiSuccessoNonFrodi*100))\n",
    "\n",
    "    auprcValue = auprc(estimator, X_true, Y_true, Y_predicted)\n",
    "    baseline = frodiTotali/(frodiTotali + nonFrodiTotali)\n",
    "    print(\"Baseline AUPRC:                       {:.5f} \".format(baseline))\n",
    "    print(\"AUPRC model:                          {:.5f} \".format(auprcValue))"
   ]
  },
  {
   "cell_type": "markdown",
   "metadata": {},
   "source": [
    "## 5.2. Suddivisione del dataset\n",
    "\n",
    "Per effettuare l'addestramento necessitiamo di dividere il nostro dataset in due porzioni: il training set e il test set. <br>\n",
    "\n",
    "A tale scopo, utilizziamo la funzione \"train_test_split\" di sklearn.\n",
    "\n",
    "Per prima cosa, dividiamo le due partizioni e ne visualizziamo le relative dimensioni."
   ]
  },
  {
   "cell_type": "code",
   "execution_count": 8,
   "metadata": {},
   "outputs": [
    {
     "name": "stdout",
     "output_type": "stream",
     "text": [
      "Dimensione Training Set  :  226980\n",
      "Dimensione Test Set      :  56746\n"
     ]
    }
   ],
   "source": [
    "from sklearn.model_selection import train_test_split\n",
    "\n",
    "features = cleaned_df[cleaned_df.columns[:len(cleaned_df.columns)-1]].to_numpy()\n",
    "targets = cleaned_df.Class.to_numpy()\n",
    "\n",
    "X_train, X_test, Y_train, Y_test = train_test_split(features, targets, test_size=0.2, stratify=targets)\n",
    "\n",
    "print(\"Dimensione Training Set  : \", len(X_train))\n",
    "print(\"Dimensione Test Set      : \", len(X_test))"
   ]
  },
  {
   "cell_type": "markdown",
   "metadata": {},
   "source": [
    "Prima di continuare è necessario anche analizzare il bilanciamento delle classi appartenenti alla feature **Class**. <br>\n",
    "Mostriamo graficamente il bilanciamento delle due classi ( 0 lecite , 1 frodi )"
   ]
  },
  {
   "cell_type": "code",
   "execution_count": 21,
   "metadata": {},
   "outputs": [
    {
     "data": {
      "image/png": "[encoded data removed]",
      "text/plain": [
       "<Figure size 432x288 with 1 Axes>"
      ]
     },
     "metadata": {},
     "output_type": "display_data"
    }
   ],
   "source": [
    "target_un,count = np.unique(Y_train,return_counts=True)\n",
    "plt.title(\"Bilanciamento Classi (Pre-Oversampling)\")\n",
    "plt.xlabel(\"Classe\")\n",
    "plt.ylabel(\"N_elementi\")\n",
    "plt.bar([str(i) for i in target_un],count)\n",
    "plt.show()"
   ]
  },
  {
   "cell_type": "markdown",
   "metadata": {},
   "source": [
    "Il grafico risultante mostra una situazione di forte sbilanciamento."
   ]
  },
  {
   "cell_type": "markdown",
   "metadata": {},
   "source": [
    "## 5.3. Oversampling \n",
    "Per risolvere il problema del forte sbilanciamento del paragrafo precedente, è possibile bilanciare la distribuzione della classe \" frode \" attraverso l'oversampling. Questo consiste nella duplicazione dei record della classe interessata. <br>\n",
    "Per effettuare l'operazione, utilizziamo il metodo SMOTE del modulo imblearn. <br>\n",
    "L'oversampling sarà effettuato esclusivamente sul training set per non influenzare i risultati della predizione da parte del modello.<br>\n",
    "\n",
    "Andiamo ad effettuare, quindi, l'oversampling e ne mostriamo il risultato:"
   ]
  },
  {
   "cell_type": "code",
   "execution_count": 22,
   "metadata": {},
   "outputs": [
    {
     "data": {
      "image/png": "[encoded data removed]",
      "text/plain": [
       "<Figure size 432x288 with 1 Axes>"
      ]
     },
     "metadata": {},
     "output_type": "display_data"
    }
   ],
   "source": [
    "from imblearn.over_sampling import SMOTE\n",
    "\n",
    "X_train_overSampled, Y_train_overSampled = SMOTE().fit_resample(X_train,Y_train)\n",
    "Y_train_overSampled = Y_train_overSampled.reshape(-1,1)\n",
    "\n",
    "target_balanced,count = np.unique(Y_train_overSampled,return_counts=True)\n",
    "plt.title(\"Bilanciamento Classi (Post-Oversampling)\")\n",
    "plt.xlabel(\"Classe\")\n",
    "plt.ylabel(\"N_elementi\")\n",
    "plt.bar([str(i) for i in target_balanced],count)\n",
    "plt.show()"
   ]
  },
  {
   "cell_type": "markdown",
   "metadata": {},
   "source": [
    "## 5.4. Addestramento\n",
    "Data la natura del problema in oggetto, i metodi di apprendimento che abbiamo utilizzato sono di natura supervisionata.\n",
    "Andremo a vedere come si comportano tre modelli:\n",
    "\n",
    "* Gausian Naive Bayes;\n",
    "* Multilayer Perceptron Classifier;\n",
    "* Random Forest.\n",
    "\n",
    "Per ogni modello effettueremo un addestramento sia con il training set sovracampionato che con il training set non sovracampionato per poi osservarne i risultati tramite una matrice di confusione e i vari score."
   ]
  },
  {
   "cell_type": "markdown",
   "metadata": {},
   "source": [
    "### 5.4.1. Gaussian Naive Bayes\n",
    "Il primo classificatore che abbiamo preso in considerazione è il Gaussian Naive Bayes. I Naive Bayes sono un gruppo di algoritmi di classificazione supervisionati basati sul teorema di Bayes. Un Naive Bayes è un modello di classificazione semplice, che trova ampio utilizzo quando l'input ha un'elevata dimensionalità.\n",
    "Il Gaussian Naive Bayes è una variante del semplice Naive Bayes che segue la distribuzione normale Gaussiana e supporta i dati continui."
   ]
  },
  {
   "cell_type": "code",
   "execution_count": 12,
   "metadata": {},
   "outputs": [],
   "source": [
    "from sklearn.naive_bayes import GaussianNB\n",
    "\n",
    "gaussianNB = GaussianNB()\n",
    "gaussianNB.fit(X_train, Y_train.ravel())\n",
    "\n",
    "gaussianNB_O = GaussianNB()\n",
    "gaussianNB_O.fit(X_train_overSampled, Y_train_overSampled.ravel())\n",
    "\n",
    "GNB_testPredetto = gaussianNB.predict(X_test)\n",
    "GNB_O_testPredetto = gaussianNB_O.predict(X_test)"
   ]
  },
  {
   "cell_type": "markdown",
   "metadata": {},
   "source": [
    "### 5.4.2. MultiLayer Perceptron Classifier \n",
    "Il secondo classificatore che abbiamo impiegato è il Multilayer Perceptron Classifier. Questo è un modello che impiega una moltitudine di percettroni organizzati in strati completamente connessi per classificare i dati.\n",
    "\n",
    "Col codice commentato abbiamo cercato quale fosse il miglior MLP, con alcuni iperparametri fissi, al variare di altri (segnati in grassetto):\n",
    "\n",
    "* **activation** - {tanh, relu} funzione di attivazione per il singolo percettrone.\n",
    "* solver - {adam} algoritmo ottimizzato per il calcolo stocastico del gradiente.\n",
    "* **hidden\\_layer\\_sizes** - {(150, 3), (150, 5), (200, 3), (200, 5)} ampiezza e profondità degli strati \"nascosti\".\n",
    "* max_iter - {10000} nel caso in cui si utilizzi \"adam\" come solver, incide sul numero di epoche di addestramento.\n",
    "\n",
    "Durante l'esecuzione è stato scelto il modello che avesse un migliore F1-score. In base all'esecuzione effettuata gli iperparametri migliori sono risulati:\n",
    "\n",
    "- activation = Relu\n",
    "- hidden_layer_size = (150, 5)\n"
   ]
  },
  {
   "cell_type": "code",
   "execution_count": 9,
   "metadata": {},
   "outputs": [],
   "source": [
    "from sklearn.neural_network import MLPClassifier\n",
    "\n",
    "#MLP = MLPClassifier(activation = \"relu\", solver = \"adam\", hidden_layer_sizes=(150,5), max_iter=10000)\n",
    "#MLP.fit(X_train, Y_train.ravel())\n",
    "\n",
    "#MLP_O = MLPClassifier(activation = \"relu\", solver = \"adam\", hidden_layer_sizes=(150,5), max_iter=10000)\n",
    "#MLP_O.fit(X_train_overSampled, Y_train_overSampled.ravel())\n",
    "\n",
    "#MLP_testPredetto = MLP.predict(X_test)\n",
    "#MLP_O_testPredetto = MLP_O.predict(X_test)\n",
    "\n",
    "x = [\"tanh\", \"relu\"] # activation\n",
    "y = [(150, 3), (150, 5), (200, 3), (200, 5)] # hidden_layer_sizes\n",
    "\n",
    "#NORMALE\n",
    "best_MLP = None\n",
    "best_F1 = 0\n",
    "for i in x:\n",
    "    for k in y:\n",
    "        MLP = MLPClassifier(activation = i, solver = \"adam\", hidden_layer_sizes=k, max_iter=10000)\n",
    "        MLP.fit(X_train, Y_train)\n",
    "        testPredetto = MLP.predict(X_test)\n",
    "        \n",
    "        MLP_cm = matriceDiConfusione(Y_test, testPredetto, False)\n",
    "        veriNegativi = MLP_cm[0][0]\n",
    "        veriPositivi = MLP_cm[1][1]\n",
    "        falsiPositivi = MLP_cm[0][1]\n",
    "        falsiNegativi = MLP_cm[1][0]   \n",
    "\n",
    "        precision = veriPositivi/(veriPositivi + falsiPositivi)\n",
    "        recall = veriPositivi/(veriPositivi + falsiNegativi)\n",
    "        f1 = 100 * 2 * precision * recall /(precision + recall)\n",
    "        if f1 > best_F1:\n",
    "            best_F1 = f1\n",
    "            best_MLP = MLP\n",
    "\n",
    "## OVERSAMPLED\n",
    "best_MLP_O = None\n",
    "best_F1 = 0\n",
    "for i in x:\n",
    "    for k in y:\n",
    "        MLP = MLPClassifier(activation = i, solver = \"adam\", hidden_layer_sizes=k, max_iter=10000)\n",
    "        MLP.fit(X_train_overSampled, Y_train_overSampled)\n",
    "        testPredetto = MLP.predict(X_test)\n",
    "        \n",
    "        MLP_cm = matriceDiConfusione(Y_test, testPredetto, False)\n",
    "        veriNegativi = MLP_cm[0][0]\n",
    "        veriPositivi = MLP_cm[1][1]\n",
    "        falsiPositivi = MLP_cm[0][1]\n",
    "        falsiNegativi = MLP_cm[1][0]   \n",
    "\n",
    "        precision = veriPositivi/(veriPositivi + falsiPositivi)\n",
    "        recall = veriPositivi/(veriPositivi + falsiNegativi)\n",
    "        f1 = 100 * 2 * precision * recall /(precision + recall)\n",
    "        if f1 > best_F1:\n",
    "            best_F1 = f1\n",
    "            best_MLP_O = MLP"
   ]
  },
  {
   "cell_type": "markdown",
   "metadata": {},
   "source": [
    "### 5.4.3. Random Forest\n",
    "\n",
    "L'ultimo classificatore che abbiamo deciso di utilizzare è il random forest. Questo è un classificatore che impiega una moltitudine di alberi decisionali per classificare i dati. <br>\n",
    "Nella parte commentata del blocco di codice successivo abbiamo testato il modello al variare di alcuni iperparametri:\n",
    "\n",
    "* **Criterion**    - {Gini, Entropy} E' il criterio con la quale si misura la qualità della discriminazione delle feature in ogni albero.\n",
    "* **Max_features** - {Sqrt, Log2} E' il numero delle features considerata per ogni divisione.\n",
    "* **Max_depth**    - {5, 10, 15, 20, 25} Il massimo valore di profondità dell'albero.\n",
    "* N_estimators - {150} Numero di alberi utilizzati nel random forest.\n",
    "* N_jobs       - {-1} Il numero di job da eseguire in parallelo. -1 implica l'utilizzo di tutti i processori.\n",
    "\n",
    "Il modello migliore è quello con i seguenti iperparametri:\n",
    "* Criterion     - @TODO\n",
    "* Max_features  - @TODO\n",
    "* Max_depth     - @TODO"
   ]
  },
  {
   "cell_type": "code",
   "execution_count": 17,
   "metadata": {},
   "outputs": [],
   "source": [
    "from sklearn.model_selection import StratifiedKFold, GridSearchCV\n",
    "from sklearn.ensemble import RandomForestClassifier\n",
    "\n",
    "gridParams = {\n",
    "    'criterion': [\"gini\", \"entropy\"],\n",
    "    'max_features': [\"sqrt\", \"log2\"],\n",
    "    'max_depth': [5, 10, 15, 20, 25]\n",
    "}\n",
    "\n",
    "rfCLF = RandomForestClassifier(n_estimators = 150, n_jobs = -1)\n",
    "rf = gridLearner(gridParams, rfCLF, X_train, Y_train.ravel())\n",
    "\n",
    "rfCLF = RandomForestClassifier(n_estimators = 150, n_jobs = -1)\n",
    "rf_O = gridLearner(gridParams, rfCLF, X_train_overSampled, Y_train_overSampled.ravel())\n",
    "\n",
    "#rf = RandomForestClassifier(n_estimators = 150, criterion = \"entropy\", max_features = \"log2\")\n",
    "#rf.fit(X_train, Y_train.ravel())\n",
    "\n",
    "#rf_O = RandomForestClassifier(n_estimators = 150, criterion = \"entropy\", max_features = \"log2\")\n",
    "#rf_O.fit(X_train_overSampled, Y_train_overSampled.ravel())\n",
    "\n",
    "rf_testPredetto = rf.predict(X_test)\n",
    "rf_O_testPredetto = rf_O.predict(X_test)"
   ]
  },
  {
   "cell_type": "markdown",
   "metadata": {},
   "source": [
    "# 6. Valutazione dei modelli\n",
    "Ora che i modelli sono stati addestrati, è finalmente possibile iniziare la predizione della classe utilizzando il test set.\n",
    "Per la valutazione dei modelli appena addestrati, vengono utilizzate le metriche fornite dalla libreria Scikit-learn, ovvero una libreria di machine learning open-source scritte in Python.\n",
    "\n",
    "Tutte le metriche fornite dalle librerie da Scikit-learn utilizzano come parametri di input y_true e y_pred. Queste rappresentano rispettivamente le etichette reali e le etichette predette dal classificatore."
   ]
  },
  {
   "cell_type": "markdown",
   "metadata": {},
   "source": [
    "## 6.1. Matrice di confusione\n",
    "\n",
    "La matrice di confusione è un grafico che riporta sull'asse Y le vere classi di appartenenza del dato, mentre sull'asse X le classi predette dal modello:\n",
    "\n",
    "*  In alto a sinistra avremo le transazioni lecite classificate come tali: **_Veri Negativi_**\n",
    "*  In alto a destra avremo le transazioni lecite classificate come frodi: **_Falsi Positivi_**\n",
    "*  In basso a sinista avremo le transazioni frodi classificate come lecite: **_Falsi Negativi_**\n",
    "*  In basso a destra avremo le transazioni frodi classificate come tali: **_Veri Positivi_**\n"
   ]
  },
  {
   "cell_type": "markdown",
   "metadata": {},
   "source": [
    "### 6.1.1. Gaussian Naive Bayes "
   ]
  },
  {
   "cell_type": "code",
   "execution_count": 13,
   "metadata": {},
   "outputs": [
    {
     "data": {
      "image/png": "[encoded data removed]",
      "text/plain": [
       "<Figure size 432x288 with 2 Axes>"
      ]
     },
     "metadata": {
      "needs_background": "light"
     },
     "output_type": "display_data"
    }
   ],
   "source": [
    "print(\"Matrice di Confusione con dataset non sovracampionato:\")\n",
    "GNB_cm = matriceDiConfusione(Y_test, GNB_testPredetto)\n",
    "\n",
    "print(\"Matrice di Confusione con dataset sovracampionato:\")\n",
    "GNB_O_cm = matriceDiConfusione(Y_test, GNB_O_testPredetto)"
   ]
  },
  {
   "cell_type": "markdown",
   "metadata": {},
   "source": [
    "### 6.1.2. MLP"
   ]
  },
  {
   "cell_type": "code",
   "execution_count": 10,
   "metadata": {},
   "outputs": [
    {
     "data": {
      "image/png": "[encoded data removed]",
      "text/plain": [
       "<Figure size 432x288 with 2 Axes>"
      ]
     },
     "metadata": {
      "needs_background": "light"
     },
     "output_type": "display_data"
    }
   ],
   "source": [
    "print(\"Matrice di Confusione con dataset non sovracampionato:\")\n",
    "MLP_cm = matriceDiConfusione(Y_test, MLP_testPredetto)\n",
    "\n",
    "print(\"Matrice di Confusione con dataset sovracampionato:\")\n",
    "MLP_O_cm = matriceDiConfusione(Y_test, MLP_O_testPredetto)"
   ]
  },
  {
   "cell_type": "markdown",
   "metadata": {},
   "source": [
    "### 6.1.3. Random Forest "
   ]
  },
  {
   "cell_type": "code",
   "execution_count": 18,
   "metadata": {},
   "outputs": [
    {
     "data": {
      "image/png": "[encoded data removed]",
      "text/plain": [
       "<Figure size 432x288 with 2 Axes>"
      ]
     },
     "metadata": {
      "needs_background": "light"
     },
     "output_type": "display_data"
    }
   ],
   "source": [
    "print(\"Matrice di Confusione con dataset non sovracampionato:\")\n",
    "rf_cm = matriceDiConfusione(Y_test, rf_testPredetto)\n",
    "\n",
    "print(\"Matrice di Confusione con dataset sovracampionato:\")\n",
    "rf_O_cm = matriceDiConfusione(Y_test, rf_O_testPredetto)"
   ]
  },
  {
   "cell_type": "markdown",
   "metadata": {},
   "source": [
    "## 6.2. Scores dei modelli\n",
    "\n",
    "Gli scores sulla predizione sono necessari per la valutazione dei modelli.\n",
    "\n",
    "Gli scores che abbiamo deciso di prendere in considerazione sono:\n",
    "\n",
    "* **Accuracy**: è definita come numero di predizioni corrette diviso numero di predizioni totali.<br><br>\n",
    "<font size=4> $Accuracy = \\frac{ N_{correct\\_predictions} } { N_{wrong\\_predictions} } $ </font>\n",
    "<br><br>\n",
    "\n",
    "* **Precision**: si calcola come il rapporto tra veri positivi diviso la somma tra veri positivi e falsi positivi. <br><br>\n",
    "<font size=4> $Precision = \\frac{ N_{true\\_positives} }{ N_{false\\_positives} + N_{true\\_positives} } $ </font>\n",
    "<br><br>\n",
    "\n",
    "* **Recall-score**: rappresenta la capacità del modello di classificare correttamente i positivi. Si calcola come il rapporto tra veri positivi diviso le frodi totali. <br><br>\n",
    "<font size=4> $Recall = \\frac{ N_{true\\_positives}}{ N_{total\\_fraud} } $ </font>\n",
    "<br><br>\n",
    "\n",
    "* **F1-score**: si ottiene come il doppio del rapporto tra N e D, dove N è uguale al prodotto tra precision e recall, D è la somma tra precision e recall. <br><br>\n",
    "<font size=4> $F1 = 2 * \\frac{ Precision * Recall }{ Precision + Recall } $ </font> \n",
    "<br><br>\n",
    "\n",
    "* **Accuratezza riconoscimento non frodi**: l'abbiamo calcolata come il rapporto tra veri negativi e il numero di transazioni lecite totali: <br><br>\n",
    "<font size=4> $AR_{lecit} = \\frac{ N_{true\\_negative}}{N_{total\\_lecit}} $ </font>\n",
    "<br><br>\n",
    "\n",
    "* **AUPRC**: il parametro Area Under Precision Recall Curve è una metrica utile per misurare le performance di un modello applicato ad un problema non bilanciato, dove ha molta importanza il riconoscimento degli esempi positivi. L'interpretazione di questo parametro dipende fortemente dal livello di bilanciamento del problema per cui, per interpretarlo, è necessario calcolare la \"baseline\" del problema. Un valore generico di 0.50 per l'AUPRC potrebbe essere ottimo per un problema con una baseline di 0.05, ma pessimo per un problema con una baseline di 0.80. Il valore di \"baseline\" è calcolato come la porzione di elementi con classe positiva nel dataset: <br><br>\n",
    "<font size=4> $Baseline = \\frac{ N_{positives}}{N_{totals}} $ </font>\n"
   ]
  },
  {
   "cell_type": "markdown",
   "metadata": {},
   "source": [
    "### 6.2.1. Gaussian Naive Bayes"
   ]
  },
  {
   "cell_type": "code",
   "execution_count": 14,
   "metadata": {},
   "outputs": [
    {
     "name": "stdout",
     "output_type": "stream",
     "text": [
      "Accuracy:                             98.64 %\n",
      "Precision:                            9.68 %\n",
      "Recall-score:                         85.26 %\n",
      "F1-score:                             17.38 %\n",
      "Accuratezza riconoscimento non frodi: 98.67 %\n",
      "Baseline AUPRC:                       0.00167 \n",
      "AUPRC model:                          0.09584 \n"
     ]
    },
    {
     "data": {
      "image/png": "[encoded data removed]",
      "text/plain": [
       "<Figure size 432x288 with 1 Axes>"
      ]
     },
     "metadata": {
      "needs_background": "light"
     },
     "output_type": "display_data"
    }
   ],
   "source": [
    "print(\"Valutazione con dataset non sovracampionato:\")\n",
    "printScores(gaussianNB, GNB_cm, X_test, Y_test, GNB_testPredetto)\n",
    "\n",
    "print(\"Valutazione con dataset sovracampionato:\")\n",
    "printScores(gaussianNB_O, GNB_O_cm, X_test, Y_test, GNB_O_testPredetto)"
   ]
  },
  {
   "cell_type": "markdown",
   "metadata": {},
   "source": [
    "### 6.2.2. MLP"
   ]
  },
  {
   "cell_type": "code",
   "execution_count": 11,
   "metadata": {},
   "outputs": [
    {
     "name": "stdout",
     "output_type": "stream",
     "text": [
      "Accuracy:                             99.94 %\n",
      "Precision:                            85.54 %\n",
      "Recall-score:                         74.74 %\n",
      "F1-score:                             79.78 %\n",
      "Accuratezza riconoscimento non frodi: 99.98 %\n",
      "Baseline AUPRC:                       0.00167 \n",
      "AUPRC model:                          0.63953 \n"
     ]
    },
    {
     "data": {
      "image/png": "[encoded data removed]",
      "text/plain": [
       "<Figure size 432x288 with 1 Axes>"
      ]
     },
     "metadata": {
      "needs_background": "light"
     },
     "output_type": "display_data"
    }
   ],
   "source": [
    "print(\"Valutazione con dataset non sovracampionato:\")\n",
    "printScores(MLP, MLP_cm, X_test, Y_test, MLP_testPredetto)\n",
    "\n",
    "print(\"Valutazione con dataset sovracampionato:\")\n",
    "printScores(MLP_O, MLP_O_cm, X_test, Y_test, MLP_O_testPredetto)"
   ]
  },
  {
   "cell_type": "markdown",
   "metadata": {},
   "source": [
    "### 6.2.3. Random Forest"
   ]
  },
  {
   "cell_type": "code",
   "execution_count": 19,
   "metadata": {},
   "outputs": [
    {
     "name": "stdout",
     "output_type": "stream",
     "text": [
      "Accuracy:                             99.95 %\n",
      "Precision:                            94.81 %\n",
      "Recall-score:                         76.84 %\n",
      "F1-score:                             84.88 %\n",
      "Accuratezza riconoscimento non frodi: 99.99 %\n",
      "Baseline AUPRC:                       0.00167 \n",
      "AUPRC model:                          0.72857 \n"
     ]
    },
    {
     "data": {
      "image/png": "[encoded data removed]",
      "text/plain": [
       "<Figure size 432x288 with 1 Axes>"
      ]
     },
     "metadata": {
      "needs_background": "light"
     },
     "output_type": "display_data"
    }
   ],
   "source": [
    "print(\"Valutazione con dataset non sovracampionato:\")\n",
    "printScores(rf, rf_cm, X_test, Y_test, rf_testPredetto)\n",
    "\n",
    "print(\"Valutazione con dataset sovracampionato:\")\n",
    "printScores(rf_O, rf_O_cm, X_test, Y_test, rf_O_testPredetto)"
   ]
  },
  {
   "cell_type": "markdown",
   "metadata": {},
   "source": [
    "# 7. CONCLUSIONI"
   ]
  },
  {
   "cell_type": "markdown",
   "metadata": {},
   "source": [
    "Tra i diversi classificatori addestrati, il Random Forest risulta essere il modello più adatto, in termini di performance, per la classificazione del nostro problema. \n",
    "In particolare con questi iperparametri: entropy, log2, ... non mi sembra lo diciamo da nessuna parte \n",
    "\n",
    "Inoltre, nonostante ci aspettassimo migliori risultati dai modelli addestrati con il training set su cui è stato effettuato sovracampionamento, le performance migliori sono arrivate dai modelli addestrati con training set su cui questa operazione non è stata effettuata.\n",
    "\n",
    "Oltretutto bisogna considerare che, a causa della PCA effettuata sul data set, durante la fase di cleaning dei dati non è stato possibile effettuare alcun tipo di imputazione, aggregazione o ragionamento sul significato delle singole feature.\n",
    "\n",
    "Un ulteriore fattore influente è il fortissimo sbilanciamento che pensavamo non permettesse ai classificatori di discriminare in maniera ottimale le classi positive. Ciò che però abbiamo constatato è stata l'inefficacia del sovracampionamento che credevamo potesse essere utile per limitare il problema sopracitato.\n",
    "\n",
    "Il team è soddisfatto dal risultato ottenuto e ci teniamo a precisare che abbiamo percorso molteplici strade prima di arrivare a questo risultato effettuando diversi addestramenti e modificando tutti i vari possibili iperparametri.\n",
    "Questa attività ci ha permesso di mettere in pratica le nozioni studiate durante il corso permettendoci anche di capire, con un'applicazione reale, la vera efficacia dei modelli di apprendimento per la risoluzione di problemi di classificazione. "
   ]
  }
 ],
 "metadata": {
  "interpreter": {
   "hash": "17f1067490f984ba715149d06ea4a88ce507d8a2668e250361db3c636d63351c"
  },
  "kernelspec": {
   "display_name": "Python 3.8.11 64-bit ('mongoDB': conda)",
   "name": "python3"
  },
  "language_info": {
   "codemirror_mode": {
    "name": "ipython",
    "version": 3
   },
   "file_extension": ".py",
   "mimetype": "text/x-python",
   "name": "python",
   "nbconvert_exporter": "python",
   "pygments_lexer": "ipython3",
   "version": "3.8.11"
  },
  "orig_nbformat": 4
 },
 "nbformat": 4,
 "nbformat_minor": 2
}
