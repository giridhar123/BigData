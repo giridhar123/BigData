{
 "cells": [
  {
   "cell_type": "markdown",
   "metadata": {},
   "source": [
    "# Big Data Project\n",
    "Il presente progetto è stato realizzato da Luigi Gatto, Davide Lavalle e Cedric Ferdico. \n",
    "Il progetto di esame (a.a. 2020-2021) è una competizione Kaggle: si tratta di un data set di frodi su carte di credito in cui sono presenti solo 492 frodi su 284808 transazioni. I dati contengono i campi \"Time\", \"V1\" ... \"V28\", \"Amount\" e \"Class\" che descriveremo in seguito.\n",
    "\n",
    "E' stato richiesto di effettuare tutti i passi di data cleaning/inputation e una analisi delle feature rilevanti ai fini della classificazione. \n",
    "La metrica richiesta è la Area Under the Precision-Recall Curve (AUPRC). Inoltre, è stata necessario trovare una modalità di visualizzazione dei dati classificati in 2D o 3D che consenta di mettere in relazione i punti appartenenti a ciascuna classe con le feature utilizzate per la classificazione ai fini di apprezzare l'effettiva separazione tra le classi. (Suggerimento: utilizzare il Multi-Dimensional Scaling (MDS).)\n",
    "\n",
    "## 0.Ecosistema\n",
    "Per la realizzazione del progetto, è stato deciso di utilizzare i seguenti strumenti:\n",
    "- HDFS: per o storage del dataset (simulando un cluster unitario di datanode); \n",
    "- Spark: per il recupero (da HDFS) e l'elaborazione del dataset;\n",
    "- Pandas: per la manipolazione e l'analisi dei dati;\n",
    "- Scikitlearn: per l'apprendimento automatico e le metriche di valutazione dei modelli;\n",
    "- Imblearn: conferisce dei tool utili alla classificazione di classi sbilanciate (utilizzata per effettuare il sovracampionamento);\n",
    "- Numpy: per la gestione di matrici e array multidimensionali di grandi dimensioni e l'utilizzo di funzioni matematiche di alto livello per operare su queste strutture dati;\n",
    "- Matplotlib/Seaborn: per la visualizzazione dei dati.\n"
   ]
  },
  {
   "cell_type": "markdown",
   "metadata": {},
   "source": [
    "# 1.Descrizione del dataset\n",
    "\n",
    "Il dataset analizzato nel progetto è un insieme di record di transazioni di carte di credito a cui è stato effettuato la PCA (per motivi di privacy). I dati sono raccolti in maniera continua: il tempo è segnato all'interno della colonna \"Time\" con un intero che indica l'ammontare di secondi passati tra la transazione i-esima e la prima (che, di conseguenza ha il valore di \"Time\" a 0). \n",
    "Il dataset analizzato presenta 284808 di record di transazioni al momento dell'analisi in questo progetto.\n",
    "\n",
    "Il dataset è fornito in formato .csv.\n",
    "\n",
    "\n",
    "## 1.1.DATASET\n",
    "In questa tabella andremo a riassumere il contenuto del dataset dal punto di vista delle features, descrivendone il tipo ed il contenuto.\n",
    "\n",
    "| **Feature** | **Tipo** | **Descrizione** |\n",
    "|------------ |------------ |------------ |\n",
    "| \"Time\" | _Int_ | Valore numerico che indica l'ammontare di secondi trascorsi tra la prima transazione e la i-esima, il valore per la prima transazione è 0. |\n",
    "| \"V1\"...\"V28\" | _Float_ | Feature di dettaglio della transazione convertite con la PCA per questioni di privacy. |\n",
    "| \"Amount\" | _Float_ | Valore numerico che indica l'ammontare della transazione. |\n",
    "| \"Class\" | _Boolean_ | Valore 0/1 che indica se la transazione in oggetto sia frode (1) o lecita (0). |"
   ]
  },
  {
   "cell_type": "markdown",
   "metadata": {},
   "source": [
    "# 2.Inizializzazione dell'ambiente\n",
    "Qui andremo a descrivere brevemente la fase di inizializzazione degli strumenti utilizzati per il progetto."
   ]
  },
  {
   "cell_type": "markdown",
   "metadata": {},
   "source": [
    "## 2.1.Importazione del dataset in HDFS\n",
    "\n",
    "Per prima, dopo aver effetuato l'installazione ed il setup di HDFS, è necessario avviare tutti i servizi Hadoop.\n",
    "Per farlo è sufficiente eseguire un comando da CLI: "
   ]
  },
  {
   "cell_type": "markdown",
   "metadata": {},
   "source": [
    "``` >> start-all ```"
   ]
  },
  {
   "cell_type": "markdown",
   "metadata": {},
   "source": [
    "A questo punto, una volta avviati tutti i servizi, sarà possibile caricare in HDFS il dataset.\n",
    "Per effettuare l'upload, sarà sufficiente eseguire un altro comando CLI:"
   ]
  },
  {
   "cell_type": "markdown",
   "metadata": {},
   "source": [
    "```>> hdfs fs -put \"local/path/to/file.csv\" \"remote/path/\" ```"
   ]
  },
  {
   "cell_type": "markdown",
   "metadata": {},
   "source": [
    "Dove il primo parametro sta ad indicare la directory locale in cui è conservato il file .csv mentre il secondo indicherà la directory del file system distribuito in cui il dataset sarà caricato."
   ]
  },
  {
   "cell_type": "markdown",
   "metadata": {},
   "source": [
    "## 2.2.Spark\n",
    "L'inizializzazione dell'ambiente Spark consiste nell'importazione dei relativi moduli e nell'inizializzazione di una nuova SparkSession.\n",
    "Il motivo per cui è stato preso in considerazione l'utilizzo di Apache Spark è stato il suo ottimo rendimento in ambiti applicativi come questo. Infatti, questo strumento, è caratterizzato da un'alta velocità di elaborazione e di analisi avanzata; inoltre, dispone di un supporto di integrazione multipla con le operazioni a basso costo di Hadoop per la gestione dell’hardware e l’immagazzinamento dei dati."
   ]
  },
  {
   "cell_type": "code",
   "execution_count": 1,
   "metadata": {},
   "outputs": [],
   "source": [
    "import findspark   #SEMBRA ESSERE TOTALMENTE INUTILE\n",
    "\n",
    "location = findspark.find()\n",
    "findspark.init(location)\n",
    "\n",
    "from pyspark.sql import SparkSession\n",
    "from pyspark.sql.functions import *\n",
    "\n",
    "spark = SparkSession.builder \\\n",
    "    .appName(\"Progetto BigData Gatto - Lavalle - Ferdico A.A. 2020/2021\") \\\n",
    "    .getOrCreate()\n"
   ]
  },
  {
   "cell_type": "markdown",
   "metadata": {},
   "source": [
    "# 3.Lettura del dataset da HDFS con Spark\n",
    "\n",
    "Il codice seguente permette la lettura del file da HDFS e quindi l'importazione del dataset in formato .csv all'interno del dataframe secondo lo schema appena creato.\n",
    "Il dataset è conservato in una simulazione di filesystem distribuito in locale. \n",
    "(Questa scelta è stata effettuata per permetterci di cimentarci nell'implementazione di un fs distribuito con lo strumento Hadoop)"
   ]
  },
  {
   "cell_type": "code",
   "execution_count": 2,
   "metadata": {},
   "outputs": [],
   "source": [
    "dataSet = spark.read \\\n",
    "    .csv('hdfs://localhost:9090/user/cedric/bigdata/creditcard.csv', header = 'True', inferSchema='True')"
   ]
  },
  {
   "cell_type": "markdown",
   "metadata": {},
   "source": [
    "# 4.Dataset preprocessing\n",
    "La fase di preprocessing è necessaria per preparare il dataset appena caricato prima dell'analisi vera e propria. I dati presenti possono infatti presentare errori, dati mancanti o valori non previsti. L'obiettivo del preprocessing è quindi quello di pulire tali informazioni rimuovendo o \"curando\" i dati che presentano rumore o qualsiasi altro tipo di inconsistenze."
   ]
  },
  {
   "cell_type": "markdown",
   "metadata": {},
   "source": [
    "## 4.1 Osservazione sul dataset\n"
   ]
  },
  {
   "cell_type": "markdown",
   "metadata": {},
   "source": [
    "Convertiamo in Pandas per una gestione più semplice per poter fare i grafici"
   ]
  },
  {
   "cell_type": "code",
   "execution_count": 5,
   "metadata": {},
   "outputs": [
    {
     "ename": "ImportError",
     "evalue": "Can't determine version for numexpr",
     "output_type": "error",
     "traceback": [
      "\u001b[1;31m---------------------------------------------------------------------------\u001b[0m",
      "\u001b[1;31mImportError\u001b[0m                               Traceback (most recent call last)",
      "\u001b[1;32m~\\AppData\\Local\\Temp/ipykernel_6676/497568249.py\u001b[0m in \u001b[0;36m<module>\u001b[1;34m\u001b[0m\n\u001b[0;32m      1\u001b[0m \u001b[1;32mimport\u001b[0m \u001b[0mnumpy\u001b[0m \u001b[1;32mas\u001b[0m \u001b[0mnp\u001b[0m\u001b[1;33m\u001b[0m\u001b[1;33m\u001b[0m\u001b[0m\n\u001b[1;32m----> 2\u001b[1;33m \u001b[1;32mimport\u001b[0m \u001b[0mpandas\u001b[0m \u001b[1;32mas\u001b[0m \u001b[0mpd\u001b[0m\u001b[1;33m\u001b[0m\u001b[1;33m\u001b[0m\u001b[0m\n\u001b[0m\u001b[0;32m      3\u001b[0m \u001b[1;32mimport\u001b[0m \u001b[0mmatplotlib\u001b[0m \u001b[1;32mas\u001b[0m \u001b[0mmp\u001b[0m\u001b[1;33m\u001b[0m\u001b[1;33m\u001b[0m\u001b[0m\n\u001b[0;32m      4\u001b[0m \u001b[1;32mimport\u001b[0m \u001b[0mmatplotlib\u001b[0m\u001b[1;33m.\u001b[0m\u001b[0mpyplot\u001b[0m \u001b[1;32mas\u001b[0m \u001b[0mplt\u001b[0m\u001b[1;33m\u001b[0m\u001b[1;33m\u001b[0m\u001b[0m\n\u001b[0;32m      5\u001b[0m \u001b[1;33m\u001b[0m\u001b[0m\n",
      "\u001b[1;32m~\\anaconda3\\envs\\Conda\\lib\\site-packages\\pandas\\__init__.py\u001b[0m in \u001b[0;36m<module>\u001b[1;34m\u001b[0m\n\u001b[0;32m     48\u001b[0m \u001b[1;32mimport\u001b[0m \u001b[0mpandas\u001b[0m\u001b[1;33m.\u001b[0m\u001b[0mcore\u001b[0m\u001b[1;33m.\u001b[0m\u001b[0mconfig_init\u001b[0m\u001b[1;33m\u001b[0m\u001b[1;33m\u001b[0m\u001b[0m\n\u001b[0;32m     49\u001b[0m \u001b[1;33m\u001b[0m\u001b[0m\n\u001b[1;32m---> 50\u001b[1;33m from pandas.core.api import (\n\u001b[0m\u001b[0;32m     51\u001b[0m     \u001b[1;31m# dtype\u001b[0m\u001b[1;33m\u001b[0m\u001b[1;33m\u001b[0m\u001b[1;33m\u001b[0m\u001b[0m\n\u001b[0;32m     52\u001b[0m     \u001b[0mInt8Dtype\u001b[0m\u001b[1;33m,\u001b[0m\u001b[1;33m\u001b[0m\u001b[1;33m\u001b[0m\u001b[0m\n",
      "\u001b[1;32m~\\anaconda3\\envs\\Conda\\lib\\site-packages\\pandas\\core\\api.py\u001b[0m in \u001b[0;36m<module>\u001b[1;34m\u001b[0m\n\u001b[0;32m     27\u001b[0m     \u001b[0mvalue_counts\u001b[0m\u001b[1;33m,\u001b[0m\u001b[1;33m\u001b[0m\u001b[1;33m\u001b[0m\u001b[0m\n\u001b[0;32m     28\u001b[0m )\n\u001b[1;32m---> 29\u001b[1;33m \u001b[1;32mfrom\u001b[0m \u001b[0mpandas\u001b[0m\u001b[1;33m.\u001b[0m\u001b[0mcore\u001b[0m\u001b[1;33m.\u001b[0m\u001b[0marrays\u001b[0m \u001b[1;32mimport\u001b[0m \u001b[0mCategorical\u001b[0m\u001b[1;33m\u001b[0m\u001b[1;33m\u001b[0m\u001b[0m\n\u001b[0m\u001b[0;32m     30\u001b[0m \u001b[1;32mfrom\u001b[0m \u001b[0mpandas\u001b[0m\u001b[1;33m.\u001b[0m\u001b[0mcore\u001b[0m\u001b[1;33m.\u001b[0m\u001b[0marrays\u001b[0m\u001b[1;33m.\u001b[0m\u001b[0mboolean\u001b[0m \u001b[1;32mimport\u001b[0m \u001b[0mBooleanDtype\u001b[0m\u001b[1;33m\u001b[0m\u001b[1;33m\u001b[0m\u001b[0m\n\u001b[0;32m     31\u001b[0m from pandas.core.arrays.floating import (\n",
      "\u001b[1;32m~\\anaconda3\\envs\\Conda\\lib\\site-packages\\pandas\\core\\arrays\\__init__.py\u001b[0m in \u001b[0;36m<module>\u001b[1;34m\u001b[0m\n\u001b[1;32m----> 1\u001b[1;33m from pandas.core.arrays.base import (\n\u001b[0m\u001b[0;32m      2\u001b[0m     \u001b[0mExtensionArray\u001b[0m\u001b[1;33m,\u001b[0m\u001b[1;33m\u001b[0m\u001b[1;33m\u001b[0m\u001b[0m\n\u001b[0;32m      3\u001b[0m     \u001b[0mExtensionOpsMixin\u001b[0m\u001b[1;33m,\u001b[0m\u001b[1;33m\u001b[0m\u001b[1;33m\u001b[0m\u001b[0m\n\u001b[0;32m      4\u001b[0m     \u001b[0mExtensionScalarOpsMixin\u001b[0m\u001b[1;33m,\u001b[0m\u001b[1;33m\u001b[0m\u001b[1;33m\u001b[0m\u001b[0m\n\u001b[0;32m      5\u001b[0m )\n",
      "\u001b[1;32m~\\anaconda3\\envs\\Conda\\lib\\site-packages\\pandas\\core\\arrays\\base.py\u001b[0m in \u001b[0;36m<module>\u001b[1;34m\u001b[0m\n\u001b[0;32m     58\u001b[0m \u001b[1;32mfrom\u001b[0m \u001b[0mpandas\u001b[0m\u001b[1;33m.\u001b[0m\u001b[0mcore\u001b[0m\u001b[1;33m.\u001b[0m\u001b[0mdtypes\u001b[0m\u001b[1;33m.\u001b[0m\u001b[0mmissing\u001b[0m \u001b[1;32mimport\u001b[0m \u001b[0misna\u001b[0m\u001b[1;33m\u001b[0m\u001b[1;33m\u001b[0m\u001b[0m\n\u001b[0;32m     59\u001b[0m \u001b[1;33m\u001b[0m\u001b[0m\n\u001b[1;32m---> 60\u001b[1;33m from pandas.core import (\n\u001b[0m\u001b[0;32m     61\u001b[0m     \u001b[0mmissing\u001b[0m\u001b[1;33m,\u001b[0m\u001b[1;33m\u001b[0m\u001b[1;33m\u001b[0m\u001b[0m\n\u001b[0;32m     62\u001b[0m     \u001b[0mops\u001b[0m\u001b[1;33m,\u001b[0m\u001b[1;33m\u001b[0m\u001b[1;33m\u001b[0m\u001b[0m\n",
      "\u001b[1;32m~\\anaconda3\\envs\\Conda\\lib\\site-packages\\pandas\\core\\ops\\__init__.py\u001b[0m in \u001b[0;36m<module>\u001b[1;34m\u001b[0m\n\u001b[0;32m     30\u001b[0m     \u001b[0mroperator\u001b[0m\u001b[1;33m,\u001b[0m\u001b[1;33m\u001b[0m\u001b[1;33m\u001b[0m\u001b[0m\n\u001b[0;32m     31\u001b[0m )\n\u001b[1;32m---> 32\u001b[1;33m from pandas.core.ops.array_ops import (  # noqa:F401\n\u001b[0m\u001b[0;32m     33\u001b[0m     \u001b[0marithmetic_op\u001b[0m\u001b[1;33m,\u001b[0m\u001b[1;33m\u001b[0m\u001b[1;33m\u001b[0m\u001b[0m\n\u001b[0;32m     34\u001b[0m     \u001b[0mcomp_method_OBJECT_ARRAY\u001b[0m\u001b[1;33m,\u001b[0m\u001b[1;33m\u001b[0m\u001b[1;33m\u001b[0m\u001b[0m\n",
      "\u001b[1;32m~\\anaconda3\\envs\\Conda\\lib\\site-packages\\pandas\\core\\ops\\array_ops.py\u001b[0m in \u001b[0;36m<module>\u001b[1;34m\u001b[0m\n\u001b[0;32m     46\u001b[0m )\n\u001b[0;32m     47\u001b[0m \u001b[1;33m\u001b[0m\u001b[0m\n\u001b[1;32m---> 48\u001b[1;33m \u001b[1;32mimport\u001b[0m \u001b[0mpandas\u001b[0m\u001b[1;33m.\u001b[0m\u001b[0mcore\u001b[0m\u001b[1;33m.\u001b[0m\u001b[0mcomputation\u001b[0m\u001b[1;33m.\u001b[0m\u001b[0mexpressions\u001b[0m \u001b[1;32mas\u001b[0m \u001b[0mexpressions\u001b[0m\u001b[1;33m\u001b[0m\u001b[1;33m\u001b[0m\u001b[0m\n\u001b[0m\u001b[0;32m     49\u001b[0m \u001b[1;32mfrom\u001b[0m \u001b[0mpandas\u001b[0m\u001b[1;33m.\u001b[0m\u001b[0mcore\u001b[0m\u001b[1;33m.\u001b[0m\u001b[0mconstruction\u001b[0m \u001b[1;32mimport\u001b[0m \u001b[0mensure_wrapped_if_datetimelike\u001b[0m\u001b[1;33m\u001b[0m\u001b[1;33m\u001b[0m\u001b[0m\n\u001b[0;32m     50\u001b[0m from pandas.core.ops import (\n",
      "\u001b[1;32m~\\anaconda3\\envs\\Conda\\lib\\site-packages\\pandas\\core\\computation\\expressions.py\u001b[0m in \u001b[0;36m<module>\u001b[1;34m\u001b[0m\n\u001b[0;32m     17\u001b[0m \u001b[1;32mfrom\u001b[0m \u001b[0mpandas\u001b[0m\u001b[1;33m.\u001b[0m\u001b[0m_typing\u001b[0m \u001b[1;32mimport\u001b[0m \u001b[0mFuncType\u001b[0m\u001b[1;33m\u001b[0m\u001b[1;33m\u001b[0m\u001b[0m\n\u001b[0;32m     18\u001b[0m \u001b[1;33m\u001b[0m\u001b[0m\n\u001b[1;32m---> 19\u001b[1;33m \u001b[1;32mfrom\u001b[0m \u001b[0mpandas\u001b[0m\u001b[1;33m.\u001b[0m\u001b[0mcore\u001b[0m\u001b[1;33m.\u001b[0m\u001b[0mcomputation\u001b[0m\u001b[1;33m.\u001b[0m\u001b[0mcheck\u001b[0m \u001b[1;32mimport\u001b[0m \u001b[0mNUMEXPR_INSTALLED\u001b[0m\u001b[1;33m\u001b[0m\u001b[1;33m\u001b[0m\u001b[0m\n\u001b[0m\u001b[0;32m     20\u001b[0m \u001b[1;32mfrom\u001b[0m \u001b[0mpandas\u001b[0m\u001b[1;33m.\u001b[0m\u001b[0mcore\u001b[0m\u001b[1;33m.\u001b[0m\u001b[0mops\u001b[0m \u001b[1;32mimport\u001b[0m \u001b[0mroperator\u001b[0m\u001b[1;33m\u001b[0m\u001b[1;33m\u001b[0m\u001b[0m\n\u001b[0;32m     21\u001b[0m \u001b[1;33m\u001b[0m\u001b[0m\n",
      "\u001b[1;32m~\\anaconda3\\envs\\Conda\\lib\\site-packages\\pandas\\core\\computation\\check.py\u001b[0m in \u001b[0;36m<module>\u001b[1;34m\u001b[0m\n\u001b[0;32m      1\u001b[0m \u001b[1;32mfrom\u001b[0m \u001b[0mpandas\u001b[0m\u001b[1;33m.\u001b[0m\u001b[0mcompat\u001b[0m\u001b[1;33m.\u001b[0m\u001b[0m_optional\u001b[0m \u001b[1;32mimport\u001b[0m \u001b[0mimport_optional_dependency\u001b[0m\u001b[1;33m\u001b[0m\u001b[1;33m\u001b[0m\u001b[0m\n\u001b[0;32m      2\u001b[0m \u001b[1;33m\u001b[0m\u001b[0m\n\u001b[1;32m----> 3\u001b[1;33m \u001b[0mne\u001b[0m \u001b[1;33m=\u001b[0m \u001b[0mimport_optional_dependency\u001b[0m\u001b[1;33m(\u001b[0m\u001b[1;34m\"numexpr\"\u001b[0m\u001b[1;33m,\u001b[0m \u001b[0merrors\u001b[0m\u001b[1;33m=\u001b[0m\u001b[1;34m\"warn\"\u001b[0m\u001b[1;33m)\u001b[0m\u001b[1;33m\u001b[0m\u001b[1;33m\u001b[0m\u001b[0m\n\u001b[0m\u001b[0;32m      4\u001b[0m \u001b[0mNUMEXPR_INSTALLED\u001b[0m \u001b[1;33m=\u001b[0m \u001b[0mne\u001b[0m \u001b[1;32mis\u001b[0m \u001b[1;32mnot\u001b[0m \u001b[1;32mNone\u001b[0m\u001b[1;33m\u001b[0m\u001b[1;33m\u001b[0m\u001b[0m\n\u001b[0;32m      5\u001b[0m \u001b[1;32mif\u001b[0m \u001b[0mNUMEXPR_INSTALLED\u001b[0m\u001b[1;33m:\u001b[0m\u001b[1;33m\u001b[0m\u001b[1;33m\u001b[0m\u001b[0m\n",
      "\u001b[1;32m~\\anaconda3\\envs\\Conda\\lib\\site-packages\\pandas\\compat\\_optional.py\u001b[0m in \u001b[0;36mimport_optional_dependency\u001b[1;34m(name, extra, errors, min_version)\u001b[0m\n\u001b[0;32m    129\u001b[0m     \u001b[0mminimum_version\u001b[0m \u001b[1;33m=\u001b[0m \u001b[0mmin_version\u001b[0m \u001b[1;32mif\u001b[0m \u001b[0mmin_version\u001b[0m \u001b[1;32mis\u001b[0m \u001b[1;32mnot\u001b[0m \u001b[1;32mNone\u001b[0m \u001b[1;32melse\u001b[0m \u001b[0mVERSIONS\u001b[0m\u001b[1;33m.\u001b[0m\u001b[0mget\u001b[0m\u001b[1;33m(\u001b[0m\u001b[0mparent\u001b[0m\u001b[1;33m)\u001b[0m\u001b[1;33m\u001b[0m\u001b[1;33m\u001b[0m\u001b[0m\n\u001b[0;32m    130\u001b[0m     \u001b[1;32mif\u001b[0m \u001b[0mminimum_version\u001b[0m\u001b[1;33m:\u001b[0m\u001b[1;33m\u001b[0m\u001b[1;33m\u001b[0m\u001b[0m\n\u001b[1;32m--> 131\u001b[1;33m         \u001b[0mversion\u001b[0m \u001b[1;33m=\u001b[0m \u001b[0mget_version\u001b[0m\u001b[1;33m(\u001b[0m\u001b[0mmodule_to_get\u001b[0m\u001b[1;33m)\u001b[0m\u001b[1;33m\u001b[0m\u001b[1;33m\u001b[0m\u001b[0m\n\u001b[0m\u001b[0;32m    132\u001b[0m         \u001b[1;32mif\u001b[0m \u001b[0mVersion\u001b[0m\u001b[1;33m(\u001b[0m\u001b[0mversion\u001b[0m\u001b[1;33m)\u001b[0m \u001b[1;33m<\u001b[0m \u001b[0mVersion\u001b[0m\u001b[1;33m(\u001b[0m\u001b[0mminimum_version\u001b[0m\u001b[1;33m)\u001b[0m\u001b[1;33m:\u001b[0m\u001b[1;33m\u001b[0m\u001b[1;33m\u001b[0m\u001b[0m\n\u001b[0;32m    133\u001b[0m             msg = (\n",
      "\u001b[1;32m~\\anaconda3\\envs\\Conda\\lib\\site-packages\\pandas\\compat\\_optional.py\u001b[0m in \u001b[0;36mget_version\u001b[1;34m(module)\u001b[0m\n\u001b[0;32m     58\u001b[0m \u001b[1;33m\u001b[0m\u001b[0m\n\u001b[0;32m     59\u001b[0m     \u001b[1;32mif\u001b[0m \u001b[0mversion\u001b[0m \u001b[1;32mis\u001b[0m \u001b[1;32mNone\u001b[0m\u001b[1;33m:\u001b[0m\u001b[1;33m\u001b[0m\u001b[1;33m\u001b[0m\u001b[0m\n\u001b[1;32m---> 60\u001b[1;33m         \u001b[1;32mraise\u001b[0m \u001b[0mImportError\u001b[0m\u001b[1;33m(\u001b[0m\u001b[1;34mf\"Can't determine version for {module.__name__}\"\u001b[0m\u001b[1;33m)\u001b[0m\u001b[1;33m\u001b[0m\u001b[1;33m\u001b[0m\u001b[0m\n\u001b[0m\u001b[0;32m     61\u001b[0m     \u001b[1;32mreturn\u001b[0m \u001b[0mversion\u001b[0m\u001b[1;33m\u001b[0m\u001b[1;33m\u001b[0m\u001b[0m\n\u001b[0;32m     62\u001b[0m \u001b[1;33m\u001b[0m\u001b[0m\n",
      "\u001b[1;31mImportError\u001b[0m: Can't determine version for numexpr"
     ]
    }
   ],
   "source": [
    "import numpy as np\n",
    "import pandas as pd\n",
    "import matplotlib as mp\n",
    "import matplotlib.pyplot as plt\n",
    "\n",
    "df = dataSet.toPandas()"
   ]
  },
  {
   "cell_type": "markdown",
   "metadata": {},
   "source": [
    "Grafico X: Amount --> Y: Class"
   ]
  },
  {
   "cell_type": "markdown",
   "metadata": {},
   "source": [
    "È possibile dedurre che il dataset è sbilanciato e che le transazioni con class = 1 (frodi) hanno un valore di Amount relativamente basso (< 5000).\n",
    "Grafico: X: Time -- Y:Amount (Rosso frode - Blu non frode)"
   ]
  },
  {
   "cell_type": "code",
   "execution_count": null,
   "metadata": {},
   "outputs": [
    {
     "data": {
      "image/png": "[encoded data removed]",
      "text/plain": [
       "<Figure size 432x288 with 1 Axes>"
      ]
     },
     "metadata": {},
     "output_type": "display_data"
    }
   ],
   "source": [
    "X = df['Amount']\n",
    "Y = df['Class']\n",
    "\n",
    "plt.style.use('seaborn-whitegrid')\n",
    "plt.xlabel(\"Amount\")\n",
    "plt.ylabel(\"Class\")\n",
    "plt.scatter(X, Y, marker = \".\", color = 'red')\n",
    "plt.show()"
   ]
  },
  {
   "cell_type": "code",
   "execution_count": null,
   "metadata": {},
   "outputs": [
    {
     "data": {
      "text/plain": [
       "<matplotlib.collections.PathCollection at 0x1ded8fc9af0>"
      ]
     },
     "execution_count": 5,
     "metadata": {},
     "output_type": "execute_result"
    },
    {
     "data": {
      "image/png": "[encoded data removed]",
      "text/plain": [
       "<Figure size 432x288 with 1 Axes>"
      ]
     },
     "metadata": {},
     "output_type": "display_data"
    }
   ],
   "source": [
    "#Grafico non frode\n",
    "xlim = df['Time'].max() * 1.2\n",
    "ylim = df['Amount'].max() * 1.2\n",
    "\n",
    "X = np.where(df['Class']==0, df['Time'], None)\n",
    "Y = np.where(df['Class']==0, df['Amount'], None)\n",
    "\n",
    "plt.style.use('seaborn-whitegrid')\n",
    "plt.xlabel(\"Time\")\n",
    "plt.ylabel(\"Amount\")\n",
    "plt.scatter(X, Y, marker = \".\", color = \"blue\")\n",
    "\n",
    "X = np.where(df['Class']==1, df['Time'], None)\n",
    "Y = np.where(df['Class']==1, df['Amount'], None)\n",
    "plt.scatter(X, Y, marker = \".\", color = \"red\")"
   ]
  },
  {
   "cell_type": "markdown",
   "metadata": {},
   "source": [
    "Dall'esecuzione precedente è possibile notare come tutte le features presenti nel dataset non presentino dati mancanti.\n",
    "Una piccola parentesi va invece aperta per l'analisi predittiva. Ricordando che è richiesta la previsione della classe di appartenza di una transazione, le caratteristiche che possono in qualche modo influenzare questo campo andranno sicuramente mantenute. Le operazioni successive andranno ad identificare le feature meno rilevanti e che andremo ad eliminare."
   ]
  },
  {
   "cell_type": "markdown",
   "metadata": {},
   "source": [
    "## 4.X Data cleaning\n",
    "Banalmente, la prima operazione può essere quella di individuare le informazioni che presentano caratteristiche con valori mancanti. Il trattamento di valori mancanti può avvenire fondamentalmente in due modi: cancellazione o imputazione. La scelta corretta dipende dall'obiettivo dell'analisi e dalla possibile conoscenza a priori del problema, oltre ovviamente che dalle quantità di tali valori nulli."
   ]
  },
  {
   "cell_type": "code",
   "execution_count": null,
   "metadata": {},
   "outputs": [
    {
     "name": "stdout",
     "output_type": "stream",
     "text": [
      "+----+---+---+---+---+---+---+---+---+---+---+---+---+---+---+---+---+---+---+---+---+---+---+---+---+---+---+---+---+------+-----+\n",
      "|Time| V1| V2| V3| V4| V5| V6| V7| V8| V9|V10|V11|V12|V13|V14|V15|V16|V17|V18|V19|V20|V21|V22|V23|V24|V25|V26|V27|V28|Amount|Class|\n",
      "+----+---+---+---+---+---+---+---+---+---+---+---+---+---+---+---+---+---+---+---+---+---+---+---+---+---+---+---+---+------+-----+\n",
      "|   0|  0|  0|  0|  0|  0|  0|  0|  0|  0|  0|  0|  0|  0|  0|  0|  0|  0|  0|  0|  0|  0|  0|  0|  0|  0|  0|  0|  0|     0|    0|\n",
      "+----+---+---+---+---+---+---+---+---+---+---+---+---+---+---+---+---+---+---+---+---+---+---+---+---+---+---+---+---+------+-----+\n",
      "\n"
     ]
    }
   ],
   "source": [
    "nullValues = dataSet.select([count(when(isnan(c) | col(c).isNull(), c)).alias(c) for c in dataSet.columns])\n",
    "nullValues.show()"
   ]
  },
  {
   "cell_type": "markdown",
   "metadata": {},
   "source": [
    "## 4.X Eliminazione delle features meno rilevanti\n",
    "\n"
   ]
  },
  {
   "cell_type": "markdown",
   "metadata": {},
   "source": [
    "### 4.X.1 Matrice di correlazione"
   ]
  },
  {
   "cell_type": "code",
   "execution_count": null,
   "metadata": {},
   "outputs": [
    {
     "data": {
      "image/png": "[encoded data removed]",
      "text/plain": [
       "<Figure size 864x720 with 2 Axes>"
      ]
     },
     "metadata": {},
     "output_type": "display_data"
    },
    {
     "name": "stdout",
     "output_type": "stream",
     "text": [
      "Time      False\n",
      "V1        False\n",
      "V2        False\n",
      "V3        False\n",
      "V4        False\n",
      "V5        False\n",
      "V6        False\n",
      "V7        False\n",
      "V8        False\n",
      "V9        False\n",
      "V10       False\n",
      "V11       False\n",
      "V12       False\n",
      "V13        True\n",
      "V14       False\n",
      "V15       False\n",
      "V16       False\n",
      "V17       False\n",
      "V18       False\n",
      "V19       False\n",
      "V20       False\n",
      "V21       False\n",
      "V22       False\n",
      "V23        True\n",
      "V24       False\n",
      "V25       False\n",
      "V26        True\n",
      "V27       False\n",
      "V28       False\n",
      "Amount    False\n",
      "Class     False\n",
      "Name: Class, dtype: bool\n"
     ]
    }
   ],
   "source": [
    "import seaborn as sns\n",
    "\n",
    "# shuffle before creating subsamples\n",
    "\n",
    "df_fraud = df.loc[df.Class == 1]\n",
    "df_non_fraud = df.loc[df.Class == 0][1000:1492]\n",
    "\n",
    "dfFifty = pd.concat([df_fraud, df_non_fraud])\n",
    "\n",
    "plt.figure(figsize=(12, 10))\n",
    "corr = dfFifty.corr()\n",
    "corr = pd.DataFrame.abs(corr)\n",
    "fig = sns.heatmap(corr, cmap='coolwarm_r', annot_kws={'size':20})\n",
    "fig.set_title('Correlation Matrix', fontsize=14)\n",
    "plt.show()\n",
    "\n",
    "soglia = 0.05\n",
    "print(corr[\"Class\"] < soglia)"
   ]
  },
  {
   "cell_type": "markdown",
   "metadata": {},
   "source": [
    "Dalla matrice di correlazione eliminiamo questo, questo e questo"
   ]
  },
  {
   "cell_type": "code",
   "execution_count": null,
   "metadata": {},
   "outputs": [],
   "source": [
    "dfFinal = df.drop([\"V13\", \"V23\"], axis = 1) # <-- dalla matrice di correlazione"
   ]
  },
  {
   "cell_type": "markdown",
   "metadata": {},
   "source": [
    "## Fisher Score"
   ]
  },
  {
   "cell_type": "code",
   "execution_count": null,
   "metadata": {},
   "outputs": [
    {
     "name": "stdout",
     "output_type": "stream",
     "text": [
      "[ 0 14 12  4 11 10  3 16  9 17  7  2  6 18  1  5 19 15 20 21 29 28 24 27\n",
      " 25  8 26 22 13 23]\n"
     ]
    }
   ],
   "source": [
    "from skfeature.function.similarity_based import fisher_score\n",
    "\n",
    "df_fraud = df.loc[df.Class == 1]\n",
    "df_non_fraud = df.loc[df.Class == 0][0:492]\n",
    "\n",
    "dfFifty = pd.concat([df_fraud, df_non_fraud])\n",
    "\n",
    "fisherX = np.array(dfFifty.iloc[:, dfFifty.columns != 'Class'])\n",
    "fisherY = np.array(dfFifty.iloc[:, dfFifty.columns == 'Class'])\n",
    "fisherY = fisherY.reshape(1, -1)[0]\n",
    "\n",
    "idx = fisher_score.fisher_score(fisherX, fisherY) #returns rank directly instead of fisher score. so no need for feature_ranking\n",
    "idx = fisher_score.feature_ranking(idx)\n",
    "print(idx)"
   ]
  },
  {
   "cell_type": "markdown",
   "metadata": {},
   "source": [
    "Dal fisher score eliminiamo questo, questo e questo"
   ]
  },
  {
   "cell_type": "code",
   "execution_count": null,
   "metadata": {},
   "outputs": [],
   "source": [
    "dfFinal = dfFinal.drop([\"Time\", \"V3\", \"V6\", \"V11\", \"V14\"], axis = 1) # <-- dal fisher score"
   ]
  },
  {
   "cell_type": "code",
   "execution_count": null,
   "metadata": {},
   "outputs": [],
   "source": [
    "#prendo le prime 3 colonne\n",
    "dfFinalClassFalse = dfFinal.loc[dfFinal.Class == 0]\n",
    "dfFinalClassFalse = dfFinalClassFalse.drop([\"Class\"], axis = 1)\n",
    "\n",
    "dfFinalClassTrue = dfFinal.loc[dfFinal.Class == 1]\n",
    "dfFinalClassTrue = dfFinalClassTrue.drop([\"Class\"], axis = 1)\n",
    "\n",
    "from sklearn.manifold import MDS\n",
    "\n",
    "embedding = MDS(n_components=3)\n",
    "xTrue_transformed = embedding.fit_transform(dfFinalClassTrue)\n",
    "xFalse_transformed = embedding.fit_transform(dfFinalClassFalse.head(1000))\n"
   ]
  },
  {
   "cell_type": "code",
   "execution_count": null,
   "metadata": {},
   "outputs": [],
   "source": [
    "plt.style.use('seaborn-whitegrid')\n",
    "plt.scatter(xTrue_transformed[:, 0], xTrue_transformed[:, 1], marker = \".\", color = 'red')\n",
    "plt.scatter(xFalse_transformed[:, 0], xFalse_transformed[:, 1], marker = \".\", color = 'blue')\n",
    "plt.show()\n",
    "\n",
    "\n",
    "ax = plt.axes(projection='3d')\n",
    "ax.scatter3D(xTrue_transformed[:, 0], xTrue_transformed[:, 1], xTrue_transformed[:, 2], c=xTrue_transformed[:, 2], cmap='Greens');\n",
    "ax.scatter3D(xFalse_transformed[:, 0], xFalse_transformed[:, 1], xFalse_transformed[:, 2], c=xFalse_transformed[:, 2], cmap='Reds');"
   ]
  },
  {
   "cell_type": "code",
   "execution_count": null,
   "metadata": {},
   "outputs": [],
   "source": [
    "from sklearn.metrics import pairwise_distances\n",
    "\n",
    "pwsClassTrue = pairwise_distances(X = dfFinalClassTrue, metric=\"manhattan\")\n",
    "pwsClassFalse = pairwise_distances(X = dfFinalClassFalse.head(1000), metric=\"manhattan\")\n",
    "\n",
    "embedding = MDS(n_components=2, dissimilarity=\"precomputed\", random_state = 104, verbose = 1)\n",
    "xTrue_transformed = embedding.fit_transform(pwsClassTrue)\n",
    "xFalse_transformed = embedding.fit_transform(pwsClassFalse)\n",
    "\n",
    "plt.style.use('seaborn-whitegrid')\n",
    "plt.scatter(xTrue_transformed[:, 0], xTrue_transformed[:, 1], marker = \".\", color = 'green')\n",
    "plt.scatter(xFalse_transformed[:, 0], xFalse_transformed[:, 1], marker = \".\", color = 'red')\n",
    "plt.show()\n",
    "\n",
    "embedding = MDS(n_components=2, random_state = 104, verbose = 1)\n",
    "xTrue_transformed = embedding.fit_transform(dfFinalClassTrue)\n",
    "xFalse_transformed = embedding.fit_transform(dfFinalClassFalse.head(1000))\n",
    "\n",
    "plt.style.use('seaborn-whitegrid')\n",
    "plt.scatter(xTrue_transformed[:, 0], xTrue_transformed[:, 1], marker = \".\", color = 'green')\n",
    "plt.scatter(xFalse_transformed[:, 0], xFalse_transformed[:, 1], marker = \".\", color = 'red')\n",
    "plt.show()"
   ]
  },
  {
   "cell_type": "code",
   "execution_count": null,
   "metadata": {},
   "outputs": [],
   "source": [
    "from sklearn.metrics import pairwise_distances\n",
    "\n",
    "pwsClassTrue = pairwise_distances(X = dfFinalClassTrue, metric=\"manhattan\")\n",
    "pwsClassFalse = pairwise_distances(X = dfFinalClassFalse.head(1000), metric=\"manhattan\")\n",
    "\n",
    "embedding = MDS(n_components=3, dissimilarity=\"precomputed\", random_state = 104)\n",
    "xTrue_transformed = embedding.fit_transform(pwsClassTrue)\n",
    "xFalse_transformed = embedding.fit_transform(pwsClassFalse)\n",
    "\n",
    "ax = plt.axes(projection='3d')\n",
    "ax.scatter3D(xTrue_transformed[:, 0], xTrue_transformed[:, 1], xTrue_transformed[:, 2], c=xTrue_transformed[:, 2], cmap='Greens')\n",
    "ax.scatter3D(xFalse_transformed[:, 0], xFalse_transformed[:, 1], xFalse_transformed[:, 2], c=xFalse_transformed[:, 2], cmap='Reds')"
   ]
  },
  {
   "cell_type": "code",
   "execution_count": null,
   "metadata": {},
   "outputs": [],
   "source": [
    "embedding = MDS(n_components=3, random_state = 104)\n",
    "xTrue_transformed = embedding.fit_transform(dfFinalClassTrue)\n",
    "xFalse_transformed = embedding.fit_transform(dfFinalClassFalse.head(1000))\n",
    "\n",
    "ax = plt.axes(projection='3d')\n",
    "ax.scatter3D(xTrue_transformed[:, 0], xTrue_transformed[:, 1], xTrue_transformed[:, 2], c=xTrue_transformed[:, 2], cmap='Greens')\n",
    "ax.scatter3D(xFalse_transformed[:, 0], xFalse_transformed[:, 1], xFalse_transformed[:, 2], c=xFalse_transformed[:, 2], cmap='Reds')"
   ]
  },
  {
   "cell_type": "markdown",
   "metadata": {},
   "source": [
    "## 3.2 Salvataggio del dataset.csv\n",
    "E' sicuramente conveniente salvare direttamente nel Drive personale il dataset così ottenuto per non ripetere i passaggi di data cleaning appena descritti ad ogni nuovo accesso a Colab. Per memorizzare il cleaned dataset, è possibile semplicemente utilizzare il metodo .write() fornito da Spark.\n",
    "@Todo Dobbiamo farlo?"
   ]
  },
  {
   "cell_type": "markdown",
   "metadata": {},
   "source": [
    "## 4. Importazione del cleaned dataset\n",
    "cleaned_accidents_dataset.csv\n",
    "Andiamo quindi ad importare il nuovo dataset cleaned_accidents_dataset.csv . Per farlo è necessario costruire nuovamente lo schema del dataframe che ospiterà il dataset e infine utilizzare il metodo read di Spark."
   ]
  },
  {
   "cell_type": "markdown",
   "metadata": {},
   "source": [
    "Divisione del dataset in training set e validation set"
   ]
  },
  {
   "cell_type": "markdown",
   "metadata": {},
   "source": [
    "### 6.4 Scelta delle features @ToDo noi non possiamo farla, che ci mettiamo?\n",
    "\n",
    "Più paragrafi sono stati dedicati alla pulizia del dataset, alla scelta delle features e quindi alla rimozione delle caratteristiche con dati mancanti o palesemente non necessari all'analisi. Per l'analisi predittiva ciò non basta,infatti alcune delle features possono essere in qualche modo implicitamente correlate al campo Severity , e per tale motivo utili alla sua predizione. Un possibile modo per individuare le features correlate è quello di utilizzare l'approccio statistico.\n",
    "Calcolare le correlazioni tra la caratteristica Severity ed il resto è possibile calcolando la relativa matrice di correlazione. E' chiaro quindi che vanno escluse tutte le caratteristiche aventi una correlazione col campo preso in esame al di sotto di una certa soglia.\n",
    "Per poter carcolare la matrice di correlazione, è possibile utilizzare un metodo fornito da Pandas. E' quindi necessario importare il dataset indicizzato all'interno di un suo dataframe:\n",
    "\n",
    "Dalla matrice di correlazione appena ottenuta, va presa in considerazione soltanto la prima colonna ovvero quella relativa alle correlazioni tra la caratteristica Severity e ognuna delle altre caratteristiche.\n",
    "Tanto è maggiore in valore assoluto la correlazione tra due variabili aleatorie, tanto più la conoscenza del valore di una è utile a prevedere il valore dell'altra. Per tale motivo è necessario calcolare i valori assoluti delle correlazioni tra\n",
    "Severity e le altre caratteristiche, ed infine ordinarli in ordine decrescente:"
   ]
  },
  {
   "cell_type": "markdown",
   "metadata": {},
   "source": [
    "6.8 Bilanciamento del dataset\n",
    "Prima di continuare è necessario anche analizzare il bilanciamento delle classi appartenenti alla caratteristica Severity :\n",
    "\n",
    "Il risulta mostra un bilanciamento non proprio uniforme. In particolare è possibile notare come la classe 1 e 4 sono quelle meno frequenti rispetto alle altre presenti. E' possibile bilanciare la distribuzione di tali classi attraverso l'oversampling. L'oversampling consiste nella duplicazione dei record delle le classi meno frequenti. Di conseguenza, va utilizzato il metodo .sample fornito sempre da Spark. Il metodo appena citato permette di specificare una frazione di record da estrarre dal dataframe da cui estrarre i campioni, con o senza sostituzione. L'oversampling sarà effettuato esclusivamente del training set per non influenzare i risultati della predizione da parte del modello.\n",
    "Visuliazziamo la distribuzione delle classi per la stessa caratteristica ma soltanto per il Training Set:\n",
    "\n",
    "Proviamo quindi a distribuire in maniera più uniforme tali classi tramite oversampling. E' evidente che l'oversampling debba essere seguito sui record aventi classi 1 , 3 e 4 di Severity .\n",
    "Bisogna innanzitutto separare i record appartenenti alle stesse classe di Severity:\n",
    "\n",
    "Come descritto prima, è necessario l'oversampling sui record appartenenti alle classi 1 , 3 e 4 . Il fattore di oversampling è gestibile tramite il parametro fraction di sample .\n",
    "\n",
    "Controlliamo quindi se la distribuzione delle classi all'interno del dataset si è uniformata:"
   ]
  },
  {
   "cell_type": "markdown",
   "metadata": {},
   "source": [
    "Valutazione dell'errore del modello ottenuto al passo precedente"
   ]
  },
  {
   "cell_type": "markdown",
   "metadata": {},
   "source": [
    "## Dobbiamo eliminare MLP?"
   ]
  },
  {
   "cell_type": "code",
   "execution_count": null,
   "metadata": {},
   "outputs": [
    {
     "name": "stdout",
     "output_type": "stream",
     "text": [
      "               V1         V2        V4        V5        V7        V8  \\\n",
      "0       -1.359807  -0.072781  1.378155 -0.338321  0.239599  0.098698   \n",
      "1        1.191857   0.266151  0.448154  0.060018 -0.078803  0.085102   \n",
      "2       -1.358354  -1.340163  0.379780 -0.503198  0.791461  0.247676   \n",
      "3       -0.966272  -0.185226 -0.863291 -0.010309  0.237609  0.377436   \n",
      "4       -1.158233   0.877737  0.403034 -0.407193  0.592941 -0.270533   \n",
      "...           ...        ...       ...       ...       ...       ...   \n",
      "284802 -11.881118  10.071785 -2.066656 -5.364473 -4.918215  7.305334   \n",
      "284803  -0.732789  -0.055080 -0.738589  0.868229  0.024330  0.294869   \n",
      "284804   1.919565  -0.301254 -0.557828  2.630515 -0.296827  0.708417   \n",
      "284805  -0.240440   0.530483  0.689799 -0.377961 -0.686180  0.679145   \n",
      "284806  -0.533413  -0.189733 -0.506271 -0.012546  1.577006 -0.414650   \n",
      "\n",
      "              V9       V10       V12       V15  ...       V19       V20  \\\n",
      "0       0.363787  0.090794 -0.617801  1.468177  ...  0.403993  0.251412   \n",
      "1      -0.255425 -0.166974  1.065235  0.635558  ... -0.145783 -0.069083   \n",
      "2      -1.514654  0.207643  0.066084  2.345865  ... -2.261857  0.524980   \n",
      "3      -1.387024 -0.054952  0.178228 -0.631418  ... -1.232622 -0.208038   \n",
      "4       0.817739  0.753074  0.538196  0.175121  ...  0.803487  0.408542   \n",
      "...          ...       ...       ...       ...  ...       ...       ...   \n",
      "284802  1.914428  4.356170  2.711941 -0.924459  ... -0.682920  1.475829   \n",
      "284803  0.584800 -0.975926  0.915802  1.164931  ... -1.545556  0.059616   \n",
      "284804  0.432454 -0.484782  0.063119  1.329284  ... -0.577252  0.001396   \n",
      "284805  0.392087 -0.399126 -0.962886  1.962563  ...  2.897849  0.127434   \n",
      "284806  0.486180 -0.915427 -0.031513  0.041333  ... -0.256117  0.382948   \n",
      "\n",
      "             V21       V22       V24       V25       V26       V27       V28  \\\n",
      "0      -0.018307  0.277838  0.066928  0.128539 -0.189115  0.133558 -0.021053   \n",
      "1      -0.225775 -0.638672 -0.339846  0.167170  0.125895 -0.008983  0.014724   \n",
      "2       0.247998  0.771679 -0.689281 -0.327642 -0.139097 -0.055353 -0.059752   \n",
      "3      -0.108300  0.005274 -1.175575  0.647376 -0.221929  0.062723  0.061458   \n",
      "4      -0.009431  0.798278  0.141267 -0.206010  0.502292  0.219422  0.215153   \n",
      "...          ...       ...       ...       ...       ...       ...       ...   \n",
      "284802  0.213454  0.111864 -0.509348  1.436807  0.250034  0.943651  0.823731   \n",
      "284803  0.214205  0.924384 -1.016226 -0.606624 -0.395255  0.068472 -0.053527   \n",
      "284804  0.232045  0.578229  0.640134  0.265745 -0.087371  0.004455 -0.026561   \n",
      "284805  0.265245  0.800049  0.123205 -0.569159  0.546668  0.108821  0.104533   \n",
      "284806  0.261057  0.643078  0.008797 -0.473649 -0.818267 -0.002415  0.013649   \n",
      "\n",
      "        ScaledAmount  \n",
      "0           0.244964  \n",
      "1          -0.342475  \n",
      "2           1.160686  \n",
      "3           0.140534  \n",
      "4          -0.073403  \n",
      "...              ...  \n",
      "284802     -0.350151  \n",
      "284803     -0.254117  \n",
      "284804     -0.081839  \n",
      "284805     -0.313249  \n",
      "284806      0.514355  \n",
      "\n",
      "[284807 rows x 23 columns]\n",
      "Iteration 1, loss = 0.03914368\n",
      "Iteration 2, loss = 0.00352165\n",
      "Iteration 3, loss = 0.00304919\n",
      "Iteration 4, loss = 0.00280925\n",
      "Iteration 5, loss = 0.00270721\n"
     ]
    },
    {
     "name": "stderr",
     "output_type": "stream",
     "text": [
      "C:\\BigData\\envs\\BigData\\lib\\site-packages\\sklearn\\neural_network\\_multilayer_perceptron.py:619: UserWarning: Training interrupted by user.\n",
      "  warnings.warn(\"Training interrupted by user.\")\n"
     ]
    },
    {
     "name": "stdout",
     "output_type": "stream",
     "text": [
      "0.7687074829931972\n",
      "0.9992860737567735\n"
     ]
    }
   ],
   "source": [
    "\n",
    "#from sklearn import preprocessing\n",
    "#\n",
    "#standardScaler = preprocessing.StandardScaler()\n",
    "#scaledTime = standardScaler.fit_transform(X = dfFinal[['Time']])\n",
    "#scaledAmount = standardScaler.fit_transform(X = dfFinal[['Amount']])\n",
    "\n",
    "#dfFinal['ScaledTime'] = scaledTime\n",
    "# dfFinal['ScaledAmount'] = scaledAmount\n",
    "\n",
    "# dfFinal = dfFinal.drop(['Time', 'Amount'], axis = 1)\n",
    "\n",
    "# X = dfFinal.iloc[:, dfFinal.columns != 'Class']\n",
    "# y = dfFinal.iloc[:, dfFinal.columns == 'Class']\n",
    "\n",
    "# from sklearn.model_selection import train_test_split\n",
    "# X_train, X_test, y_train, y_test = train_test_split (X, y, test_size = 0.3, random_state = 50)\n",
    "\n",
    "# from sklearn.metrics import recall_score\n",
    "# from sklearn.neural_network import MLPClassifier\n",
    "\n",
    "# #hidden_layer_sizes=(200,)\n",
    "# MLPC = MLPClassifier(hidden_layer_sizes=(200,6), max_iter=10000, verbose=True)\n",
    "# MLPC.fit(X_train, y_train.values.ravel())\n",
    "# y_pred = MLPC.predict(X_test)\n",
    "# # Obtenemos valores de recall\n",
    "# recall_acc = recall_score(y_test, y_pred)\n",
    "# print(recall_acc)\n",
    "# print(MLPC.score(X_test, y_test))"
   ]
  },
  {
   "cell_type": "code",
   "execution_count": null,
   "metadata": {},
   "outputs": [
    {
     "ename": "NameError",
     "evalue": "name 'y_test' is not defined",
     "output_type": "error",
     "traceback": [
      "\u001b[1;31m---------------------------------------------------------------------------\u001b[0m\n",
      "\u001b[1;31mNameError\u001b[0m                                 Traceback (most recent call last)\n",
      "\u001b[1;32m~\\AppData\\Local\\Temp/ipykernel_10516/742628591.py\u001b[0m in \u001b[0;36m<module>\u001b[1;34m\u001b[0m\n",
      "\u001b[0;32m      1\u001b[0m \u001b[1;31m#F1 score\u001b[0m\u001b[1;33m\u001b[0m\u001b[1;33m\u001b[0m\u001b[1;33m\u001b[0m\u001b[0m\n",
      "\u001b[0;32m      2\u001b[0m \u001b[1;32mfrom\u001b[0m \u001b[0msklearn\u001b[0m\u001b[1;33m.\u001b[0m\u001b[0mmetrics\u001b[0m \u001b[1;32mimport\u001b[0m \u001b[0mf1_score\u001b[0m\u001b[1;33m\u001b[0m\u001b[1;33m\u001b[0m\u001b[0m\n",
      "\u001b[1;32m----> 3\u001b[1;33m \u001b[0mf1result\u001b[0m \u001b[1;33m=\u001b[0m \u001b[0mf1_score\u001b[0m\u001b[1;33m(\u001b[0m\u001b[0my_test\u001b[0m\u001b[1;33m,\u001b[0m \u001b[0my_pred\u001b[0m\u001b[1;33m)\u001b[0m\u001b[1;33m\u001b[0m\u001b[1;33m\u001b[0m\u001b[0m\n",
      "\u001b[0m\u001b[0;32m      4\u001b[0m \u001b[0mprint\u001b[0m\u001b[1;33m(\u001b[0m\u001b[0mf1result\u001b[0m\u001b[1;33m)\u001b[0m\u001b[1;33m\u001b[0m\u001b[1;33m\u001b[0m\u001b[0m\n",
      "\n",
      "\u001b[1;31mNameError\u001b[0m: name 'y_test' is not defined"
     ]
    }
   ],
   "source": [
    "#F1 score\n",
    "from sklearn.metrics import f1_score\n",
    "f1result = f1_score(y_test, y_pred)\n",
    "print(f1result)"
   ]
  },
  {
   "cell_type": "markdown",
   "metadata": {},
   "source": [
    "# ADDESTRAMENTO"
   ]
  },
  {
   "cell_type": "markdown",
   "metadata": {},
   "source": [
    "6.9 Training\n",
    "Per l'addestramento è necessario importare i modelli da addestrare dalle librerie di Spark per la classificazione. Come modelli verranno utilizzati Decision Tree ed il classificatore di tipo probabilistico Naive Bayes per poter confrontare infine i risultati ottenuti.\n",
    "Per poter inizializzare i modelli è necessario prima inserire come parametri la caratteristica che il modello deve predire Severity , e la colonna delle features .\n"
   ]
  },
  {
   "cell_type": "markdown",
   "metadata": {},
   "source": [
    "Creiamo test set e train set dal dataset e visualizziamo le loro dimensioni"
   ]
  },
  {
   "cell_type": "code",
   "execution_count": null,
   "metadata": {},
   "outputs": [
    {
     "name": "stdout",
     "output_type": "stream",
     "text": [
      "Train Feature size :  199364\n",
      "Train Label size   : 199364\n",
      "Test Feature size  : 85443\n",
      "Test Label size    : 85443\n"
     ]
    }
   ],
   "source": [
    "from sklearn.model_selection import train_test_split\n",
    "\n",
    "features = dfFinal[dfFinal.columns[:len(dfFinal.columns)-1]].to_numpy()\n",
    "targets = dfFinal.Class.to_numpy()\n",
    "\n",
    "X_train,X_test,Y_train,Y_test = train_test_split(features, targets, test_size=0.3, shuffle=True)\n",
    "#X ingressi\n",
    "print(\"Train Feature size : \", len(X_train))\n",
    "print(\"Train Label size   :\", len(Y_train))\n",
    "print(\"Test Feature size  :\", len(X_test))\n",
    "print(\"Test Label size    :\", len(Y_test))"
   ]
  },
  {
   "cell_type": "code",
   "execution_count": null,
   "metadata": {},
   "outputs": [
    {
     "data": {
      "image/png": "[encoded data removed]",
      "text/plain": [
       "<Figure size 432x288 with 1 Axes>"
      ]
     },
     "metadata": {},
     "output_type": "display_data"
    }
   ],
   "source": [
    "target_un,count = np.unique(targets,return_counts=True)\n",
    "plt.title(\"Class Balancing\")\n",
    "plt.xlabel(\"Class\")\n",
    "plt.ylabel(\"Count\")\n",
    "plt.bar([str(i) for i in target_un],count)\n",
    "plt.show()"
   ]
  },
  {
   "cell_type": "code",
   "execution_count": null,
   "metadata": {},
   "outputs": [
    {
     "data": {
      "image/png": "[encoded data removed]",
      "text/plain": [
       "<Figure size 432x288 with 1 Axes>"
      ]
     },
     "metadata": {},
     "output_type": "display_data"
    }
   ],
   "source": [
    "from imblearn.over_sampling import SMOTE\n",
    "\n",
    "#SOVRACAMPIONAMENTO SOLO DEL TRAINING SET IN MODO DA SBAGLIARE SOLO 1 VOLTA E NON N VOLTE NEL TEST SET\n",
    "X_train, Y_train = SMOTE().fit_resample(X_train,Y_train)\n",
    "Y_train = Y_train.reshape(-1,1)\n",
    "\n",
    "target_balanced,count = np.unique(Y_train,return_counts=True)\n",
    "plt.title(\"Class Balancing\")\n",
    "plt.xlabel(\"Class\")\n",
    "plt.ylabel(\"Count\")\n",
    "plt.bar([str(i) for i in target_balanced],count)\n",
    "plt.show()"
   ]
  },
  {
   "cell_type": "code",
   "execution_count": null,
   "metadata": {},
   "outputs": [
    {
     "name": "stderr",
     "output_type": "stream",
     "text": [
      "C:\\Users\\utente\\AppData\\Local\\Temp/ipykernel_10516/4214428992.py:4: DataConversionWarning: A column-vector y was passed when a 1d array was expected. Please change the shape of y to (n_samples,), for example using ravel().\n",
      "  model.fit(X_train, Y_train)\n"
     ]
    },
    {
     "data": {
      "text/plain": [
       "RandomForestClassifier(criterion='entropy')"
      ]
     },
     "execution_count": 17,
     "metadata": {},
     "output_type": "execute_result"
    }
   ],
   "source": [
    "from sklearn.ensemble import RandomForestClassifier\n",
    "\n",
    "model = RandomForestClassifier(n_estimators=100, criterion=\"entropy\")\n",
    "model.fit(X_train, Y_train)"
   ]
  },
  {
   "cell_type": "markdown",
   "metadata": {},
   "source": [
    "# 6 Prediction e valutazione dei modelli\n",
    "Ora che i modelli sono stati addestrati, è finalmente possibile iniziare la predizione di Severity utilizzando il test set. Di conseguenza, viene utilizzato il metodo .transform() che restituisce direttamente il dataframe contenente la predizione dei modelli utilizzati e la relativa label corretta.\n",
    "Per la valutazione dei modelli appena addestrati, vengono utilizzate le metriche fornite dalle librerie Scikit-learn , ovvero librerie di machine learning open-source scritte in Python.\n",
    "Tutte le metriche fornite dalle librerie da Scikit-learn utilizzano come parametri di input y_true e y_pred . Queste rappresentano rispettivamente le label verità e le label predette dal classificatore. Tali parametri possono essere prelevati direttamente dai dataframe ottenuti nel passaggio precedente:"
   ]
  },
  {
   "cell_type": "markdown",
   "metadata": {},
   "source": [
    "## 6.1 Matrice di confusione\n",
    "L'accuratezza è semplicemente la percentuale delle istanze classificate correttamente. Calcoliamo quindi l'accuracy dei modelli addestrati:"
   ]
  },
  {
   "cell_type": "code",
   "execution_count": null,
   "metadata": {},
   "outputs": [
    {
     "data": {
      "image/png": "[encoded data removed]",
      "text/plain": [
       "<Figure size 432x288 with 2 Axes>"
      ]
     },
     "metadata": {},
     "output_type": "display_data"
    }
   ],
   "source": [
    "from sklearn.metrics import accuracy_score\n",
    "from sklearn.metrics import confusion_matrix, ConfusionMatrixDisplay\n",
    "\n",
    "trainPredetto = model.predict(X_train)\n",
    "testPredetto = model.predict(X_test)\n",
    "\n",
    "cm = confusion_matrix(Y_test, testPredetto, labels=[0, 1])\n",
    "\n",
    "cmatrix = ConfusionMatrixDisplay(confusion_matrix=cm, display_labels=[\"Non Frode\",\"Frode\"])\n",
    "cmatrix.plot()\n",
    "plt.title(\"Matrice di Confusione\")\n",
    "plt.show()\n"
   ]
  },
  {
   "cell_type": "markdown",
   "metadata": {},
   "source": [
    "## 6.2 Percentuali successo su Train-set e Test-set"
   ]
  },
  {
   "cell_type": "code",
   "execution_count": null,
   "metadata": {},
   "outputs": [
    {
     "name": "stdout",
     "output_type": "stream",
     "text": [
      "Train score     : 100.00 %\n",
      "Test score      : 99.95 %\n",
      "Accuratezza riconoscimento frodi : 85.71 %\n",
      "Accuratezza riconoscimento non frodi : 99.97 %\n"
     ]
    }
   ],
   "source": [
    "veriNegativi = cm[0][0]\n",
    "veriPositivi = cm[1][1]\n",
    "falsiPositivi = cm[0][1]\n",
    "falsiNegativi = cm[1][0]\n",
    "\n",
    "nonFrodiTotali = veriNegativi + falsiPositivi\n",
    "frodiTotali = veriPositivi + falsiNegativi\n",
    "\n",
    "percentualeDiSuccessoNonFrodi = veriNegativi / nonFrodiTotali\n",
    "percentualeDiSuccessoFrodi = veriPositivi / frodiTotali\n",
    "\n",
    "print(\"Train score     : {:.2f} %\".format(accuracy_score(trainPredetto, Y_train) * 100))\n",
    "print(\"Test score      : {:.2f} %\".format(accuracy_score(testPredetto, Y_test) * 100))\n",
    "print(\"Accuratezza riconoscimento frodi : {:.2f} %\".format(percentualeDiSuccessoFrodi*100))\n",
    "print(\"Accuratezza riconoscimento non frodi : {:.2f} %\".format(percentualeDiSuccessoNonFrodi*100))\n"
   ]
  },
  {
   "cell_type": "markdown",
   "metadata": {},
   "source": [
    "## 6.3 Recall Score"
   ]
  },
  {
   "cell_type": "code",
   "execution_count": null,
   "metadata": {},
   "outputs": [
    {
     "name": "stdout",
     "output_type": "stream",
     "text": [
      "Recall score sul test set     : 84.51 %\n"
     ]
    }
   ],
   "source": [
    "from sklearn.metrics import recall_score\n",
    "\n",
    "print(\"Recall score sul test set     : {:.2f} %\".format(recall_score(testPredetto, Y_test) * 100))"
   ]
  },
  {
   "cell_type": "markdown",
   "metadata": {},
   "source": [
    "## 6.X AUPRC"
   ]
  },
  {
   "cell_type": "code",
   "execution_count": null,
   "metadata": {},
   "outputs": [
    {
     "name": "stdout",
     "output_type": "stream",
     "text": [
      "0.0016385192467492948\t0.7245801506368595\n"
     ]
    },
    {
     "ename": "AttributeError",
     "evalue": "type object 'PrecisionRecallDisplay' has no attribute 'from_estimator'",
     "output_type": "error",
     "traceback": [
      "\u001b[1;31m---------------------------------------------------------------------------\u001b[0m",
      "\u001b[1;31mAttributeError\u001b[0m                            Traceback (most recent call last)",
      "\u001b[1;32m~\\AppData\\Local\\Temp/ipykernel_10516/1240165740.py\u001b[0m in \u001b[0;36m<module>\u001b[1;34m\u001b[0m\n\u001b[0;32m      8\u001b[0m \u001b[1;32mfrom\u001b[0m \u001b[0msklearn\u001b[0m\u001b[1;33m.\u001b[0m\u001b[0mmetrics\u001b[0m \u001b[1;32mimport\u001b[0m \u001b[0mPrecisionRecallDisplay\u001b[0m\u001b[1;33m\u001b[0m\u001b[1;33m\u001b[0m\u001b[0m\n\u001b[0;32m      9\u001b[0m \u001b[1;33m\u001b[0m\u001b[0m\n\u001b[1;32m---> 10\u001b[1;33m \u001b[0mdisplay\u001b[0m \u001b[1;33m=\u001b[0m \u001b[0mPrecisionRecallDisplay\u001b[0m\u001b[1;33m.\u001b[0m\u001b[0mfrom_estimator\u001b[0m\u001b[1;33m(\u001b[0m\u001b[0mmodel\u001b[0m\u001b[1;33m,\u001b[0m \u001b[0mX_test\u001b[0m\u001b[1;33m,\u001b[0m \u001b[0mY_test\u001b[0m\u001b[1;33m)\u001b[0m\u001b[1;33m\u001b[0m\u001b[1;33m\u001b[0m\u001b[0m\n\u001b[0m\u001b[0;32m     11\u001b[0m \u001b[1;33m\u001b[0m\u001b[0m\n\u001b[0;32m     12\u001b[0m \u001b[0m_\u001b[0m \u001b[1;33m=\u001b[0m \u001b[0mdisplay\u001b[0m\u001b[1;33m.\u001b[0m\u001b[0max_\u001b[0m\u001b[1;33m.\u001b[0m\u001b[0mset_title\u001b[0m\u001b[1;33m(\u001b[0m\u001b[1;34m\"2-class Precision-Recall curve\"\u001b[0m\u001b[1;33m)\u001b[0m\u001b[1;33m\u001b[0m\u001b[1;33m\u001b[0m\u001b[0m\n",
      "\u001b[1;31mAttributeError\u001b[0m: type object 'PrecisionRecallDisplay' has no attribute 'from_estimator'"
     ]
    }
   ],
   "source": [
    "from sklearn.metrics import average_precision_score\n",
    "\n",
    "baseline = frodiTotali/(frodiTotali + nonFrodiTotali)\n",
    "auprc = average_precision_score(Y_test, testPredetto)\n",
    "\n",
    "print(baseline, auprc, sep=\"\\t\")\n",
    "\n",
    "from sklearn.metrics import PrecisionRecallDisplay\n",
    "\n",
    "display = PrecisionRecallDisplay.from_estimator(model, X_test, Y_test)\n",
    "\n",
    "_ = display.ax_.set_title(\"2-class Precision-Recall curve\")"
   ]
  },
  {
   "cell_type": "markdown",
   "metadata": {},
   "source": [
    "\n",
    "\n",
    "### 6.10.2 Balanced Accuracy\n",
    "Nei casi in cui il dataset non sia bilanciato nel migliore dei modi, come nel nostro caso, ha senso anche la valutazione della balanced accuracy che calcola la media aritmetica delle accuratezze specifiche delle classi:\n",
    "\n",
    "### 6.10.3 F1 Micro\n",
    "Valutazione della F1 micro dei modelli addestrati:\n",
    "\n",
    "### 6.10.4 F1 Macro\n",
    "Valutazione della F1 macro dei modelli addestrati:"
   ]
  }
 ],
 "metadata": {
  "interpreter": {
   "hash": "b8fb98a2ec96b06258c218f9577ba507691ddfaf9e381b1f75f1c69a7ed0ac44"
  },
  "kernelspec": {
   "display_name": "Python 3.8.11 64-bit (conda)",
   "name": "python3"
  },
  "language_info": {
   "codemirror_mode": {
    "name": "ipython",
    "version": 3
   },
   "file_extension": ".py",
   "mimetype": "text/x-python",
   "name": "python",
   "nbconvert_exporter": "python",
   "pygments_lexer": "ipython3",
   "version": "3.8.11"
  },
  "orig_nbformat": 4
 },
 "nbformat": 4,
 "nbformat_minor": 2
}
